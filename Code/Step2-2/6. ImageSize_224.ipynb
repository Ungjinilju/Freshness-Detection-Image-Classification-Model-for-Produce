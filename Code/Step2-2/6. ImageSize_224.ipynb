{
 "cells": [
  {
   "cell_type": "markdown",
   "id": "5a3b0bc4",
   "metadata": {},
   "source": [
    "# Guide\n",
    "## Data\n",
    "[[Google Drive] /Data/Final/Step2-2.zip](https://drive.google.com/file/d/19ARNrbgWSn-Wi5k7uXKehJnzmvbIRThv/view?usp=sharing)\n",
    "## Code\n",
    "In [3] `base_dir` : 실제 데이터 경로로 변경 필요\n",
    "\n",
    "---"
   ]
  },
  {
   "cell_type": "markdown",
   "id": "c1738ab3",
   "metadata": {},
   "source": [
    "# Purpose\n",
    "- 모델 학습 속도 향상  \n",
    "- 모델 성능 향상\n",
    "\n",
    "## Alternation\n",
    "(compared to `5. Add_BatchNormalization`)  \n",
    "`image_size` : (400, 400) → (224, 224)  "
   ]
  },
  {
   "cell_type": "code",
   "execution_count": 1,
   "id": "41fb8089",
   "metadata": {},
   "outputs": [
    {
     "name": "stderr",
     "output_type": "stream",
     "text": [
      "2024-11-23 20:42:31.488884: I tensorflow/core/platform/cpu_feature_guard.cc:182] This TensorFlow binary is optimized to use available CPU instructions in performance-critical operations.\n",
      "To enable the following instructions: AVX2 FMA, in other operations, rebuild TensorFlow with the appropriate compiler flags.\n"
     ]
    }
   ],
   "source": [
    "from tensorflow import keras\n",
    "from tensorflow.keras import layers, optimizers\n",
    "import os"
   ]
  },
  {
   "cell_type": "markdown",
   "id": "3e124780",
   "metadata": {},
   "source": [
    "### image_size 축소"
   ]
  },
  {
   "cell_type": "code",
   "execution_count": 2,
   "id": "e199e2cc",
   "metadata": {},
   "outputs": [],
   "source": [
    "image_size = (224, 224)   # (400, 400)\n",
    "batch_size = 32"
   ]
  },
  {
   "cell_type": "code",
   "execution_count": 3,
   "id": "897fc118",
   "metadata": {},
   "outputs": [
    {
     "name": "stdout",
     "output_type": "stream",
     "text": [
      "Found 11340 files belonging to 18 classes.\n",
      "Found 3240 files belonging to 18 classes.\n"
     ]
    },
    {
     "name": "stderr",
     "output_type": "stream",
     "text": [
      "2024-11-23 20:42:33.263850: I tensorflow/compiler/xla/stream_executor/cuda/cuda_gpu_executor.cc:995] successful NUMA node read from SysFS had negative value (-1), but there must be at least one NUMA node, so returning NUMA node zero. See more at https://github.com/torvalds/linux/blob/v6.0/Documentation/ABI/testing/sysfs-bus-pci#L344-L355\n",
      "2024-11-23 20:42:33.267109: I tensorflow/compiler/xla/stream_executor/cuda/cuda_gpu_executor.cc:995] successful NUMA node read from SysFS had negative value (-1), but there must be at least one NUMA node, so returning NUMA node zero. See more at https://github.com/torvalds/linux/blob/v6.0/Documentation/ABI/testing/sysfs-bus-pci#L344-L355\n",
      "2024-11-23 20:42:33.267200: I tensorflow/compiler/xla/stream_executor/cuda/cuda_gpu_executor.cc:995] successful NUMA node read from SysFS had negative value (-1), but there must be at least one NUMA node, so returning NUMA node zero. See more at https://github.com/torvalds/linux/blob/v6.0/Documentation/ABI/testing/sysfs-bus-pci#L344-L355\n",
      "2024-11-23 20:42:33.267868: I tensorflow/compiler/xla/stream_executor/cuda/cuda_gpu_executor.cc:995] successful NUMA node read from SysFS had negative value (-1), but there must be at least one NUMA node, so returning NUMA node zero. See more at https://github.com/torvalds/linux/blob/v6.0/Documentation/ABI/testing/sysfs-bus-pci#L344-L355\n",
      "2024-11-23 20:42:33.267950: I tensorflow/compiler/xla/stream_executor/cuda/cuda_gpu_executor.cc:995] successful NUMA node read from SysFS had negative value (-1), but there must be at least one NUMA node, so returning NUMA node zero. See more at https://github.com/torvalds/linux/blob/v6.0/Documentation/ABI/testing/sysfs-bus-pci#L344-L355\n",
      "2024-11-23 20:42:33.268022: I tensorflow/compiler/xla/stream_executor/cuda/cuda_gpu_executor.cc:995] successful NUMA node read from SysFS had negative value (-1), but there must be at least one NUMA node, so returning NUMA node zero. See more at https://github.com/torvalds/linux/blob/v6.0/Documentation/ABI/testing/sysfs-bus-pci#L344-L355\n",
      "2024-11-23 20:42:33.345117: I tensorflow/compiler/xla/stream_executor/cuda/cuda_gpu_executor.cc:995] successful NUMA node read from SysFS had negative value (-1), but there must be at least one NUMA node, so returning NUMA node zero. See more at https://github.com/torvalds/linux/blob/v6.0/Documentation/ABI/testing/sysfs-bus-pci#L344-L355\n",
      "2024-11-23 20:42:33.345232: I tensorflow/compiler/xla/stream_executor/cuda/cuda_gpu_executor.cc:995] successful NUMA node read from SysFS had negative value (-1), but there must be at least one NUMA node, so returning NUMA node zero. See more at https://github.com/torvalds/linux/blob/v6.0/Documentation/ABI/testing/sysfs-bus-pci#L344-L355\n",
      "2024-11-23 20:42:33.345311: I tensorflow/compiler/xla/stream_executor/cuda/cuda_gpu_executor.cc:995] successful NUMA node read from SysFS had negative value (-1), but there must be at least one NUMA node, so returning NUMA node zero. See more at https://github.com/torvalds/linux/blob/v6.0/Documentation/ABI/testing/sysfs-bus-pci#L344-L355\n",
      "2024-11-23 20:42:33.345378: I tensorflow/core/common_runtime/gpu/gpu_device.cc:1639] Created device /job:localhost/replica:0/task:0/device:GPU:0 with 22207 MB memory:  -> device: 0, name: NVIDIA GeForce RTX 4090, pci bus id: 0000:01:00.0, compute capability: 8.9\n"
     ]
    },
    {
     "name": "stdout",
     "output_type": "stream",
     "text": [
      "Found 1620 files belonging to 18 classes.\n"
     ]
    }
   ],
   "source": [
    "# 데이터셋 로드\n",
    "from tensorflow.keras.utils import image_dataset_from_directory\n",
    "\n",
    "# 실제 데이터의 경로로 변경 필요\n",
    "base_dir = \"/tf/Fixed_Data/Data_Final/Step2-2\"\n",
    "\n",
    "train_dataset = image_dataset_from_directory(\n",
    "    os.path.join(base_dir, 'train'),\n",
    "    image_size=image_size,\n",
    "    batch_size=batch_size)\n",
    "\n",
    "validation_dataset = image_dataset_from_directory(\n",
    "    os.path.join(base_dir, 'validation'),\n",
    "    image_size=image_size,\n",
    "    batch_size=batch_size)\n",
    "\n",
    "test_dataset = image_dataset_from_directory(\n",
    "    os.path.join(base_dir, 'test'),\n",
    "    image_size=image_size,\n",
    "    batch_size=batch_size)"
   ]
  },
  {
   "cell_type": "markdown",
   "id": "54fc32f3",
   "metadata": {},
   "source": [
    "### image_size 축소"
   ]
  },
  {
   "cell_type": "code",
   "execution_count": 4,
   "id": "13d6a102",
   "metadata": {},
   "outputs": [],
   "source": [
    "# 모델 레이어 구성\n",
    "inputs = keras.Input(shape=(224, 224, 3))   # (400, 400, 3)\n",
    "\n",
    "x = layers.Rescaling(1./255)(inputs)\n",
    "\n",
    "x = layers.Conv2D(filters=32, kernel_size=3)(inputs)\n",
    "x = layers.BatchNormalization()(x)\n",
    "x = layers.ReLU()(x)\n",
    "x = layers.MaxPooling2D(pool_size=2)(x)\n",
    "\n",
    "x = layers.Conv2D(filters=64, kernel_size=3)(x)\n",
    "x = layers.BatchNormalization()(x)\n",
    "x = layers.ReLU()(x)\n",
    "x = layers.MaxPooling2D(pool_size=2)(x)\n",
    "\n",
    "x = layers.Conv2D(filters=128, kernel_size=3)(x)\n",
    "x = layers.BatchNormalization()(x)\n",
    "x = layers.ReLU()(x)\n",
    "x = layers.MaxPooling2D(pool_size=2)(x)\n",
    "\n",
    "x = layers.Conv2D(filters=256, kernel_size=3)(x)\n",
    "x = layers.BatchNormalization()(x)   \n",
    "x = layers.Conv2D(filters=256, kernel_size=3)(x)   \n",
    "x = layers.BatchNormalization()(x)\n",
    "x = layers.ReLU()(x)\n",
    "x = layers.MaxPooling2D(pool_size=2)(x)\n",
    "\n",
    "x = layers.Conv2D(filters=512, kernel_size=3)(x)\n",
    "x = layers.BatchNormalization()(x)\n",
    "x = layers.ReLU()(x)\n",
    "x = layers.Dropout(0.4)(x)\n",
    "x = layers.MaxPooling2D(pool_size=2)(x)\n",
    "\n",
    "x = layers.Flatten()(x)\n",
    "x = layers.Dense(512, activation = \"relu\")(x)\n",
    "x = layers.Dropout(0.4)(x)\n",
    "x = layers.Dense(256, activation = \"relu\")(x)   \n",
    "\n",
    "outputs = layers.Dense(18, activation=\"softmax\")(x)\n",
    "\n",
    "model = keras.Model(inputs=inputs, outputs=outputs)"
   ]
  },
  {
   "cell_type": "code",
   "execution_count": 5,
   "id": "e9b56638",
   "metadata": {},
   "outputs": [
    {
     "name": "stdout",
     "output_type": "stream",
     "text": [
      "Model: \"model\"\n",
      "_________________________________________________________________\n",
      " Layer (type)                Output Shape              Param #   \n",
      "=================================================================\n",
      " input_1 (InputLayer)        [(None, 224, 224, 3)]     0         \n",
      "                                                                 \n",
      " conv2d (Conv2D)             (None, 222, 222, 32)      896       \n",
      "                                                                 \n",
      " batch_normalization (Batch  (None, 222, 222, 32)      128       \n",
      " Normalization)                                                  \n",
      "                                                                 \n",
      " re_lu (ReLU)                (None, 222, 222, 32)      0         \n",
      "                                                                 \n",
      " max_pooling2d (MaxPooling2  (None, 111, 111, 32)      0         \n",
      " D)                                                              \n",
      "                                                                 \n",
      " conv2d_1 (Conv2D)           (None, 109, 109, 64)      18496     \n",
      "                                                                 \n",
      " batch_normalization_1 (Bat  (None, 109, 109, 64)      256       \n",
      " chNormalization)                                                \n",
      "                                                                 \n",
      " re_lu_1 (ReLU)              (None, 109, 109, 64)      0         \n",
      "                                                                 \n",
      " max_pooling2d_1 (MaxPoolin  (None, 54, 54, 64)        0         \n",
      " g2D)                                                            \n",
      "                                                                 \n",
      " conv2d_2 (Conv2D)           (None, 52, 52, 128)       73856     \n",
      "                                                                 \n",
      " batch_normalization_2 (Bat  (None, 52, 52, 128)       512       \n",
      " chNormalization)                                                \n",
      "                                                                 \n",
      " re_lu_2 (ReLU)              (None, 52, 52, 128)       0         \n",
      "                                                                 \n",
      " max_pooling2d_2 (MaxPoolin  (None, 26, 26, 128)       0         \n",
      " g2D)                                                            \n",
      "                                                                 \n",
      " conv2d_3 (Conv2D)           (None, 24, 24, 256)       295168    \n",
      "                                                                 \n",
      " batch_normalization_3 (Bat  (None, 24, 24, 256)       1024      \n",
      " chNormalization)                                                \n",
      "                                                                 \n",
      " conv2d_4 (Conv2D)           (None, 22, 22, 256)       590080    \n",
      "                                                                 \n",
      " batch_normalization_4 (Bat  (None, 22, 22, 256)       1024      \n",
      " chNormalization)                                                \n",
      "                                                                 \n",
      " re_lu_3 (ReLU)              (None, 22, 22, 256)       0         \n",
      "                                                                 \n",
      " max_pooling2d_3 (MaxPoolin  (None, 11, 11, 256)       0         \n",
      " g2D)                                                            \n",
      "                                                                 \n",
      " conv2d_5 (Conv2D)           (None, 9, 9, 512)         1180160   \n",
      "                                                                 \n",
      " batch_normalization_5 (Bat  (None, 9, 9, 512)         2048      \n",
      " chNormalization)                                                \n",
      "                                                                 \n",
      " re_lu_4 (ReLU)              (None, 9, 9, 512)         0         \n",
      "                                                                 \n",
      " dropout (Dropout)           (None, 9, 9, 512)         0         \n",
      "                                                                 \n",
      " max_pooling2d_4 (MaxPoolin  (None, 4, 4, 512)         0         \n",
      " g2D)                                                            \n",
      "                                                                 \n",
      " flatten (Flatten)           (None, 8192)              0         \n",
      "                                                                 \n",
      " dense (Dense)               (None, 512)               4194816   \n",
      "                                                                 \n",
      " dropout_1 (Dropout)         (None, 512)               0         \n",
      "                                                                 \n",
      " dense_1 (Dense)             (None, 256)               131328    \n",
      "                                                                 \n",
      " dense_2 (Dense)             (None, 18)                4626      \n",
      "                                                                 \n",
      "=================================================================\n",
      "Total params: 6494418 (24.77 MB)\n",
      "Trainable params: 6491922 (24.76 MB)\n",
      "Non-trainable params: 2496 (9.75 KB)\n",
      "_________________________________________________________________\n"
     ]
    }
   ],
   "source": [
    "model.summary()"
   ]
  },
  {
   "cell_type": "code",
   "execution_count": 6,
   "id": "d1cf17fb",
   "metadata": {},
   "outputs": [],
   "source": [
    "# 학습률 및 옵티마이저 설정\n",
    "optimizer = optimizers.RMSprop(learning_rate=1e-4)\n",
    "\n",
    "# 모델 컴파일\n",
    "model.compile(optimizer=optimizer,\n",
    "              loss='sparse_categorical_crossentropy',\n",
    "              metrics=['accuracy'])"
   ]
  },
  {
   "cell_type": "code",
   "execution_count": 7,
   "id": "79cefeec",
   "metadata": {},
   "outputs": [],
   "source": [
    "from tensorflow.keras.callbacks import EarlyStopping\n",
    "\n",
    "# EarlyStopping 콜백 설정\n",
    "early_stopping = EarlyStopping(\n",
    "    monitor='val_loss',       # 검증 손실을 기준으로 학습 중단\n",
    "    patience=5,               # 성능이 개선되지 않는 에포크 수 (5회 연속 개선 없을 시 중단)\n",
    "    restore_best_weights=True # 최적의 가중치 복원\n",
    ")"
   ]
  },
  {
   "cell_type": "code",
   "execution_count": 8,
   "id": "47d0cbb5",
   "metadata": {},
   "outputs": [],
   "source": [
    "callbacks = [keras.callbacks.ReduceLROnPlateau(\n",
    "                                monitor='val_loss',   # 검증 손실 기준\n",
    "                                factor=0.5,           # 학습률 절반으로 감소\n",
    "                                patience=3),          # 3회 연속 개선 없을 경우\n",
    "            early_stopping]"
   ]
  },
  {
   "cell_type": "code",
   "execution_count": 9,
   "id": "5a695bf4",
   "metadata": {
    "scrolled": true
   },
   "outputs": [
    {
     "name": "stdout",
     "output_type": "stream",
     "text": [
      "Epoch 1/100\n"
     ]
    },
    {
     "name": "stderr",
     "output_type": "stream",
     "text": [
      "2024-11-23 20:42:34.864722: E tensorflow/core/grappler/optimizers/meta_optimizer.cc:954] layout failed: INVALID_ARGUMENT: Size of values 0 does not match size of permutation 4 @ fanin shape inmodel/dropout/dropout/SelectV2-2-TransposeNHWCToNCHW-LayoutOptimizer\n",
      "2024-11-23 20:42:35.412000: I tensorflow/compiler/xla/stream_executor/cuda/cuda_dnn.cc:432] Loaded cuDNN version 8600\n",
      "2024-11-23 20:42:35.692579: I tensorflow/compiler/xla/stream_executor/cuda/cuda_blas.cc:606] TensorFloat-32 will be used for the matrix multiplication. This will only be logged once.\n",
      "2024-11-23 20:42:35.710725: I tensorflow/compiler/xla/service/service.cc:168] XLA service 0x937e680 initialized for platform CUDA (this does not guarantee that XLA will be used). Devices:\n",
      "2024-11-23 20:42:35.710777: I tensorflow/compiler/xla/service/service.cc:176]   StreamExecutor device (0): NVIDIA GeForce RTX 4090, Compute Capability 8.9\n",
      "2024-11-23 20:42:35.713913: I tensorflow/compiler/mlir/tensorflow/utils/dump_mlir_util.cc:255] disabling MLIR crash reproducer, set env var `MLIR_CRASH_REPRODUCER_DIRECTORY` to enable.\n",
      "2024-11-23 20:42:35.785243: I ./tensorflow/compiler/jit/device_compiler.h:186] Compiled cluster using XLA!  This line is logged at most once for the lifetime of the process.\n"
     ]
    },
    {
     "name": "stdout",
     "output_type": "stream",
     "text": [
      "355/355 [==============================] - 21s 48ms/step - loss: 1.6698 - accuracy: 0.4860 - val_loss: 1.1832 - val_accuracy: 0.6420 - lr: 1.0000e-04\n",
      "Epoch 2/100\n",
      "355/355 [==============================] - 16s 45ms/step - loss: 1.1254 - accuracy: 0.6341 - val_loss: 0.8997 - val_accuracy: 0.7241 - lr: 1.0000e-04\n",
      "Epoch 3/100\n",
      "355/355 [==============================] - 16s 45ms/step - loss: 0.9236 - accuracy: 0.6950 - val_loss: 0.8010 - val_accuracy: 0.7497 - lr: 1.0000e-04\n",
      "Epoch 4/100\n",
      "355/355 [==============================] - 16s 45ms/step - loss: 0.7985 - accuracy: 0.7379 - val_loss: 0.6675 - val_accuracy: 0.7741 - lr: 1.0000e-04\n",
      "Epoch 5/100\n",
      "355/355 [==============================] - 16s 44ms/step - loss: 0.7250 - accuracy: 0.7624 - val_loss: 0.7193 - val_accuracy: 0.7660 - lr: 1.0000e-04\n",
      "Epoch 6/100\n",
      "355/355 [==============================] - 16s 44ms/step - loss: 0.6286 - accuracy: 0.7900 - val_loss: 0.7169 - val_accuracy: 0.7664 - lr: 1.0000e-04\n",
      "Epoch 7/100\n",
      "355/355 [==============================] - 16s 43ms/step - loss: 0.5744 - accuracy: 0.8078 - val_loss: 0.5506 - val_accuracy: 0.8244 - lr: 1.0000e-04\n",
      "Epoch 8/100\n",
      "355/355 [==============================] - 16s 43ms/step - loss: 0.5183 - accuracy: 0.8301 - val_loss: 0.4840 - val_accuracy: 0.8364 - lr: 1.0000e-04\n",
      "Epoch 9/100\n",
      "355/355 [==============================] - 16s 43ms/step - loss: 0.4989 - accuracy: 0.8336 - val_loss: 0.4911 - val_accuracy: 0.8346 - lr: 1.0000e-04\n",
      "Epoch 10/100\n",
      "355/355 [==============================] - 16s 44ms/step - loss: 0.4425 - accuracy: 0.8540 - val_loss: 0.6282 - val_accuracy: 0.8006 - lr: 1.0000e-04\n",
      "Epoch 11/100\n",
      "355/355 [==============================] - 16s 44ms/step - loss: 0.4189 - accuracy: 0.8604 - val_loss: 0.6234 - val_accuracy: 0.8043 - lr: 1.0000e-04\n",
      "Epoch 12/100\n",
      "355/355 [==============================] - 16s 43ms/step - loss: 0.2740 - accuracy: 0.9029 - val_loss: 0.3317 - val_accuracy: 0.8898 - lr: 5.0000e-05\n",
      "Epoch 13/100\n",
      "355/355 [==============================] - 16s 45ms/step - loss: 0.2284 - accuracy: 0.9205 - val_loss: 0.3193 - val_accuracy: 0.8870 - lr: 5.0000e-05\n",
      "Epoch 14/100\n",
      "355/355 [==============================] - 16s 44ms/step - loss: 0.2132 - accuracy: 0.9256 - val_loss: 0.3949 - val_accuracy: 0.8679 - lr: 5.0000e-05\n",
      "Epoch 15/100\n",
      "355/355 [==============================] - 16s 43ms/step - loss: 0.1922 - accuracy: 0.9334 - val_loss: 0.3617 - val_accuracy: 0.8821 - lr: 5.0000e-05\n",
      "Epoch 16/100\n",
      "355/355 [==============================] - 16s 43ms/step - loss: 0.1820 - accuracy: 0.9366 - val_loss: 0.2980 - val_accuracy: 0.8963 - lr: 5.0000e-05\n",
      "Epoch 17/100\n",
      "355/355 [==============================] - 16s 43ms/step - loss: 0.1686 - accuracy: 0.9403 - val_loss: 0.3523 - val_accuracy: 0.8781 - lr: 5.0000e-05\n",
      "Epoch 18/100\n",
      "355/355 [==============================] - 16s 44ms/step - loss: 0.1592 - accuracy: 0.9448 - val_loss: 0.3051 - val_accuracy: 0.8981 - lr: 5.0000e-05\n",
      "Epoch 19/100\n",
      "355/355 [==============================] - 16s 43ms/step - loss: 0.1473 - accuracy: 0.9490 - val_loss: 0.2866 - val_accuracy: 0.9062 - lr: 5.0000e-05\n",
      "Epoch 20/100\n",
      "355/355 [==============================] - 16s 43ms/step - loss: 0.1412 - accuracy: 0.9524 - val_loss: 0.3272 - val_accuracy: 0.8920 - lr: 5.0000e-05\n",
      "Epoch 21/100\n",
      "355/355 [==============================] - 16s 43ms/step - loss: 0.1385 - accuracy: 0.9511 - val_loss: 0.3009 - val_accuracy: 0.8969 - lr: 5.0000e-05\n",
      "Epoch 22/100\n",
      "355/355 [==============================] - 16s 43ms/step - loss: 0.1279 - accuracy: 0.9570 - val_loss: 0.4108 - val_accuracy: 0.8750 - lr: 5.0000e-05\n",
      "Epoch 23/100\n",
      "355/355 [==============================] - 16s 43ms/step - loss: 0.0850 - accuracy: 0.9690 - val_loss: 0.2563 - val_accuracy: 0.9182 - lr: 2.5000e-05\n",
      "Epoch 24/100\n",
      "355/355 [==============================] - 16s 43ms/step - loss: 0.0733 - accuracy: 0.9757 - val_loss: 0.2489 - val_accuracy: 0.9182 - lr: 2.5000e-05\n",
      "Epoch 25/100\n",
      "355/355 [==============================] - 16s 44ms/step - loss: 0.0663 - accuracy: 0.9771 - val_loss: 0.2331 - val_accuracy: 0.9275 - lr: 2.5000e-05\n",
      "Epoch 26/100\n",
      "355/355 [==============================] - 16s 44ms/step - loss: 0.0669 - accuracy: 0.9781 - val_loss: 0.2545 - val_accuracy: 0.9207 - lr: 2.5000e-05\n",
      "Epoch 27/100\n",
      "355/355 [==============================] - 16s 44ms/step - loss: 0.0592 - accuracy: 0.9793 - val_loss: 0.2213 - val_accuracy: 0.9272 - lr: 2.5000e-05\n",
      "Epoch 28/100\n",
      "355/355 [==============================] - 16s 44ms/step - loss: 0.0637 - accuracy: 0.9786 - val_loss: 0.2353 - val_accuracy: 0.9191 - lr: 2.5000e-05\n",
      "Epoch 29/100\n",
      "355/355 [==============================] - 16s 44ms/step - loss: 0.0543 - accuracy: 0.9828 - val_loss: 0.2241 - val_accuracy: 0.9284 - lr: 2.5000e-05\n",
      "Epoch 30/100\n",
      "355/355 [==============================] - 16s 44ms/step - loss: 0.0558 - accuracy: 0.9820 - val_loss: 0.2410 - val_accuracy: 0.9238 - lr: 2.5000e-05\n",
      "Epoch 31/100\n",
      "355/355 [==============================] - 16s 44ms/step - loss: 0.0366 - accuracy: 0.9883 - val_loss: 0.2165 - val_accuracy: 0.9306 - lr: 1.2500e-05\n",
      "Epoch 32/100\n",
      "355/355 [==============================] - 16s 44ms/step - loss: 0.0420 - accuracy: 0.9854 - val_loss: 0.2280 - val_accuracy: 0.9318 - lr: 1.2500e-05\n",
      "Epoch 33/100\n",
      "355/355 [==============================] - 16s 44ms/step - loss: 0.0331 - accuracy: 0.9897 - val_loss: 0.2113 - val_accuracy: 0.9318 - lr: 1.2500e-05\n",
      "Epoch 34/100\n",
      "355/355 [==============================] - 16s 43ms/step - loss: 0.0339 - accuracy: 0.9877 - val_loss: 0.2107 - val_accuracy: 0.9312 - lr: 1.2500e-05\n",
      "Epoch 35/100\n",
      "355/355 [==============================] - 16s 44ms/step - loss: 0.0301 - accuracy: 0.9903 - val_loss: 0.2197 - val_accuracy: 0.9315 - lr: 1.2500e-05\n",
      "Epoch 36/100\n",
      "355/355 [==============================] - 15s 43ms/step - loss: 0.0274 - accuracy: 0.9908 - val_loss: 0.2115 - val_accuracy: 0.9346 - lr: 1.2500e-05\n",
      "Epoch 37/100\n",
      "355/355 [==============================] - 16s 43ms/step - loss: 0.0314 - accuracy: 0.9893 - val_loss: 0.2254 - val_accuracy: 0.9306 - lr: 1.2500e-05\n",
      "Epoch 38/100\n",
      "355/355 [==============================] - 16s 44ms/step - loss: 0.0268 - accuracy: 0.9918 - val_loss: 0.2064 - val_accuracy: 0.9358 - lr: 6.2500e-06\n",
      "Epoch 39/100\n",
      "355/355 [==============================] - 16s 44ms/step - loss: 0.0208 - accuracy: 0.9934 - val_loss: 0.2107 - val_accuracy: 0.9367 - lr: 6.2500e-06\n",
      "Epoch 40/100\n",
      "355/355 [==============================] - 16s 44ms/step - loss: 0.0236 - accuracy: 0.9914 - val_loss: 0.2091 - val_accuracy: 0.9383 - lr: 6.2500e-06\n",
      "Epoch 41/100\n",
      "355/355 [==============================] - 16s 43ms/step - loss: 0.0205 - accuracy: 0.9934 - val_loss: 0.2067 - val_accuracy: 0.9367 - lr: 6.2500e-06\n",
      "Epoch 42/100\n",
      "355/355 [==============================] - 15s 42ms/step - loss: 0.0211 - accuracy: 0.9935 - val_loss: 0.2040 - val_accuracy: 0.9386 - lr: 3.1250e-06\n",
      "Epoch 43/100\n",
      "355/355 [==============================] - 16s 44ms/step - loss: 0.0238 - accuracy: 0.9920 - val_loss: 0.2059 - val_accuracy: 0.9389 - lr: 3.1250e-06\n",
      "Epoch 44/100\n",
      "355/355 [==============================] - 16s 44ms/step - loss: 0.0213 - accuracy: 0.9938 - val_loss: 0.2048 - val_accuracy: 0.9377 - lr: 3.1250e-06\n",
      "Epoch 45/100\n",
      "355/355 [==============================] - 16s 43ms/step - loss: 0.0216 - accuracy: 0.9925 - val_loss: 0.2048 - val_accuracy: 0.9373 - lr: 3.1250e-06\n",
      "Epoch 46/100\n",
      "355/355 [==============================] - 16s 43ms/step - loss: 0.0206 - accuracy: 0.9931 - val_loss: 0.2019 - val_accuracy: 0.9398 - lr: 1.5625e-06\n",
      "Epoch 47/100\n",
      "355/355 [==============================] - 16s 44ms/step - loss: 0.0202 - accuracy: 0.9936 - val_loss: 0.2017 - val_accuracy: 0.9370 - lr: 1.5625e-06\n",
      "Epoch 48/100\n",
      "355/355 [==============================] - 16s 43ms/step - loss: 0.0214 - accuracy: 0.9921 - val_loss: 0.2025 - val_accuracy: 0.9389 - lr: 1.5625e-06\n",
      "Epoch 49/100\n",
      "355/355 [==============================] - 16s 43ms/step - loss: 0.0168 - accuracy: 0.9957 - val_loss: 0.2038 - val_accuracy: 0.9392 - lr: 1.5625e-06\n",
      "Epoch 50/100\n",
      "355/355 [==============================] - 16s 43ms/step - loss: 0.0178 - accuracy: 0.9944 - val_loss: 0.2026 - val_accuracy: 0.9386 - lr: 1.5625e-06\n",
      "Epoch 51/100\n",
      "355/355 [==============================] - 15s 42ms/step - loss: 0.0216 - accuracy: 0.9935 - val_loss: 0.2030 - val_accuracy: 0.9392 - lr: 7.8125e-07\n",
      "Epoch 52/100\n",
      "355/355 [==============================] - 16s 44ms/step - loss: 0.0183 - accuracy: 0.9945 - val_loss: 0.2019 - val_accuracy: 0.9386 - lr: 7.8125e-07\n"
     ]
    }
   ],
   "source": [
    "history = model.fit(\n",
    "    train_dataset,\n",
    "    validation_data=validation_dataset,\n",
    "    epochs=100,\n",
    "    callbacks=callbacks,   # EarlyStopping, ReduceLROnPlateau 설정\n",
    "    batch_size=batch_size)"
   ]
  },
  {
   "cell_type": "code",
   "execution_count": 10,
   "id": "5140a285",
   "metadata": {},
   "outputs": [
    {
     "data": {
      "image/png": "[encoded data removed]",
      "text/plain": [
       "<Figure size 1500x500 with 2 Axes>"
      ]
     },
     "metadata": {},
     "output_type": "display_data"
    }
   ],
   "source": [
    "# 훈련 정확도와 손실 그래프 생성\n",
    "import matplotlib.pyplot as plt \n",
    "\n",
    "acc = history.history['accuracy'][:-5]           \n",
    "val_acc = history.history['val_accuracy'][:-5]   \n",
    "loss = history.history['loss'][:-5]              \n",
    "val_loss = history.history['val_loss'][:-5]      \n",
    "epochs_range = range(1, len(acc) + 1)\n",
    "\n",
    "plt.figure(figsize=(15, 5))\n",
    "plt.subplot(1, 2, 1)\n",
    "plt.plot(epochs_range, acc, label='Training Accuracy')\n",
    "plt.plot(epochs_range, val_acc, label='Validation Accuracy')\n",
    "plt.title('Training and Validation Accuracy')\n",
    "plt.legend()\n",
    "\n",
    "plt.subplot(1, 2, 2)\n",
    "plt.plot(epochs_range, loss, label='Training Loss')\n",
    "plt.plot(epochs_range, val_loss, label='Validation Loss')\n",
    "plt.title('Training and Validation Loss')\n",
    "plt.legend()\n",
    "\n",
    "plt.show()"
   ]
  },
  {
   "cell_type": "markdown",
   "id": "ba874d13",
   "metadata": {},
   "source": [
    "# Analysis - Training & Validation\n",
    "(compared to `5. Add_BatchNormalization`)  \n",
    "## 학습 속도\n",
    "1 Epoch당 학습 시간 : 37s → 16s\n",
    "\n",
    "---"
   ]
  },
  {
   "cell_type": "code",
   "execution_count": 11,
   "id": "526035cb",
   "metadata": {},
   "outputs": [
    {
     "name": "stdout",
     "output_type": "stream",
     "text": [
      "51/51 [==============================] - 2s 32ms/step - loss: 0.2359 - accuracy: 0.9315\n",
      "test accuracy: 0.9314814805984497\n",
      "test loss: 0.23585890233516693\n"
     ]
    }
   ],
   "source": [
    "test_loss, test_acc = model.evaluate(test_dataset)\n",
    "\n",
    "print(f\"test accuracy: {test_acc}\")\n",
    "print(f\"test loss: {test_loss}\")"
   ]
  },
  {
   "cell_type": "markdown",
   "id": "0482c46e",
   "metadata": {},
   "source": [
    "# Analysis - Test\n",
    "(compared to `5. Add_BatchNormalization`)  \n",
    "Accuracy : 92.8% → 93.1%  \n",
    "Loss : 0.2495 → 0.2359  \n",
    "\n",
    "<br>\n",
    "\n",
    "Image Size 감소로 성능 저하를 우려했으나 학습 속도와 성능 면에서 모두 향상됨  \n",
    "이미지 크기가 (400, 400)보다 작은 추가 데이터가 존재해 더 나은 성능을 가지는 것으로 추측됨  \n",
    "18개의 클래스 분류 모델임에도 좋은 성능을 보임   "
   ]
  }
 ],
 "metadata": {
  "kernelspec": {
   "display_name": "Python 3 (ipykernel)",
   "language": "python",
   "name": "python3"
  },
  "language_info": {
   "codemirror_mode": {
    "name": "ipython",
    "version": 3
   },
   "file_extension": ".py",
   "mimetype": "text/x-python",
   "name": "python",
   "nbconvert_exporter": "python",
   "pygments_lexer": "ipython3",
   "version": "3.8.10"
  }
 },
 "nbformat": 4,
 "nbformat_minor": 5
}
