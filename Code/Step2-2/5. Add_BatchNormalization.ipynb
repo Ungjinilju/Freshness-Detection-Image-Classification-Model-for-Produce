{
 "cells": [
  {
   "cell_type": "markdown",
   "id": "5a3b0bc4",
   "metadata": {},
   "source": [
    "# Guide\n",
    "## Data\n",
    "[[Google Drive] /Data/Final/Step2-2.zip](https://drive.google.com/file/d/19ARNrbgWSn-Wi5k7uXKehJnzmvbIRThv/view?usp=sharing)\n",
    "## Code\n",
    "In [3] `base_dir` : 실제 데이터 경로로 변경 필요\n",
    "\n",
    "---"
   ]
  },
  {
   "cell_type": "markdown",
   "id": "c1738ab3",
   "metadata": {},
   "source": [
    "# Purpose\n",
    "모델 성능 향상\n",
    "\n",
    "## Alternation\n",
    "(compared to `4. Increase_Dropout_Ratio`)  \n",
    "`BatchNormalization` layer 추가"
   ]
  },
  {
   "cell_type": "code",
   "execution_count": 1,
   "id": "41fb8089",
   "metadata": {},
   "outputs": [
    {
     "name": "stderr",
     "output_type": "stream",
     "text": [
      "2024-11-23 21:00:09.097391: I tensorflow/core/platform/cpu_feature_guard.cc:182] This TensorFlow binary is optimized to use available CPU instructions in performance-critical operations.\n",
      "To enable the following instructions: AVX2 FMA, in other operations, rebuild TensorFlow with the appropriate compiler flags.\n"
     ]
    }
   ],
   "source": [
    "from tensorflow import keras\n",
    "from tensorflow.keras import layers, optimizers\n",
    "import os"
   ]
  },
  {
   "cell_type": "code",
   "execution_count": 2,
   "id": "e199e2cc",
   "metadata": {},
   "outputs": [],
   "source": [
    "image_size = (400, 400)\n",
    "batch_size = 32"
   ]
  },
  {
   "cell_type": "code",
   "execution_count": 3,
   "id": "897fc118",
   "metadata": {},
   "outputs": [
    {
     "name": "stdout",
     "output_type": "stream",
     "text": [
      "Found 11340 files belonging to 18 classes.\n",
      "Found 3240 files belonging to 18 classes.\n",
      "Found 1620 files belonging to 18 classes.\n"
     ]
    },
    {
     "name": "stderr",
     "output_type": "stream",
     "text": [
      "2024-11-23 21:00:10.842832: I tensorflow/compiler/xla/stream_executor/cuda/cuda_gpu_executor.cc:995] successful NUMA node read from SysFS had negative value (-1), but there must be at least one NUMA node, so returning NUMA node zero. See more at https://github.com/torvalds/linux/blob/v6.0/Documentation/ABI/testing/sysfs-bus-pci#L344-L355\n",
      "2024-11-23 21:00:10.846060: I tensorflow/compiler/xla/stream_executor/cuda/cuda_gpu_executor.cc:995] successful NUMA node read from SysFS had negative value (-1), but there must be at least one NUMA node, so returning NUMA node zero. See more at https://github.com/torvalds/linux/blob/v6.0/Documentation/ABI/testing/sysfs-bus-pci#L344-L355\n",
      "2024-11-23 21:00:10.846148: I tensorflow/compiler/xla/stream_executor/cuda/cuda_gpu_executor.cc:995] successful NUMA node read from SysFS had negative value (-1), but there must be at least one NUMA node, so returning NUMA node zero. See more at https://github.com/torvalds/linux/blob/v6.0/Documentation/ABI/testing/sysfs-bus-pci#L344-L355\n",
      "2024-11-23 21:00:10.846796: I tensorflow/compiler/xla/stream_executor/cuda/cuda_gpu_executor.cc:995] successful NUMA node read from SysFS had negative value (-1), but there must be at least one NUMA node, so returning NUMA node zero. See more at https://github.com/torvalds/linux/blob/v6.0/Documentation/ABI/testing/sysfs-bus-pci#L344-L355\n",
      "2024-11-23 21:00:10.846875: I tensorflow/compiler/xla/stream_executor/cuda/cuda_gpu_executor.cc:995] successful NUMA node read from SysFS had negative value (-1), but there must be at least one NUMA node, so returning NUMA node zero. See more at https://github.com/torvalds/linux/blob/v6.0/Documentation/ABI/testing/sysfs-bus-pci#L344-L355\n",
      "2024-11-23 21:00:10.846945: I tensorflow/compiler/xla/stream_executor/cuda/cuda_gpu_executor.cc:995] successful NUMA node read from SysFS had negative value (-1), but there must be at least one NUMA node, so returning NUMA node zero. See more at https://github.com/torvalds/linux/blob/v6.0/Documentation/ABI/testing/sysfs-bus-pci#L344-L355\n",
      "2024-11-23 21:00:10.905423: I tensorflow/compiler/xla/stream_executor/cuda/cuda_gpu_executor.cc:995] successful NUMA node read from SysFS had negative value (-1), but there must be at least one NUMA node, so returning NUMA node zero. See more at https://github.com/torvalds/linux/blob/v6.0/Documentation/ABI/testing/sysfs-bus-pci#L344-L355\n",
      "2024-11-23 21:00:10.905536: I tensorflow/compiler/xla/stream_executor/cuda/cuda_gpu_executor.cc:995] successful NUMA node read from SysFS had negative value (-1), but there must be at least one NUMA node, so returning NUMA node zero. See more at https://github.com/torvalds/linux/blob/v6.0/Documentation/ABI/testing/sysfs-bus-pci#L344-L355\n",
      "2024-11-23 21:00:10.905614: I tensorflow/compiler/xla/stream_executor/cuda/cuda_gpu_executor.cc:995] successful NUMA node read from SysFS had negative value (-1), but there must be at least one NUMA node, so returning NUMA node zero. See more at https://github.com/torvalds/linux/blob/v6.0/Documentation/ABI/testing/sysfs-bus-pci#L344-L355\n",
      "2024-11-23 21:00:10.905679: I tensorflow/core/common_runtime/gpu/gpu_device.cc:1639] Created device /job:localhost/replica:0/task:0/device:GPU:0 with 22207 MB memory:  -> device: 0, name: NVIDIA GeForce RTX 4090, pci bus id: 0000:01:00.0, compute capability: 8.9\n"
     ]
    }
   ],
   "source": [
    "# 데이터셋 로드\n",
    "from tensorflow.keras.utils import image_dataset_from_directory\n",
    "\n",
    "# 실제 데이터의 경로로 변경 필요\n",
    "base_dir = \"/tf/Fixed_Data/Data_Final/Step2-2\"\n",
    "\n",
    "train_dataset = image_dataset_from_directory(\n",
    "    os.path.join(base_dir, 'train'),\n",
    "    image_size=image_size,\n",
    "    batch_size=batch_size)\n",
    "\n",
    "validation_dataset = image_dataset_from_directory(\n",
    "    os.path.join(base_dir, 'validation'),\n",
    "    image_size=image_size,\n",
    "    batch_size=batch_size)\n",
    "\n",
    "test_dataset = image_dataset_from_directory(\n",
    "    os.path.join(base_dir, 'test'),\n",
    "    image_size=image_size,\n",
    "    batch_size=batch_size)"
   ]
  },
  {
   "cell_type": "markdown",
   "id": "3af0844b",
   "metadata": {},
   "source": [
    "### BatchNormalization layer 추가"
   ]
  },
  {
   "cell_type": "code",
   "execution_count": 4,
   "id": "13d6a102",
   "metadata": {},
   "outputs": [],
   "source": [
    "# 모델 레이어 구성\n",
    "inputs = keras.Input(shape=(400, 400, 3))\n",
    "\n",
    "x = layers.Rescaling(1./255)(inputs)\n",
    "\n",
    "x = layers.Conv2D(filters=32, kernel_size=3)(inputs)\n",
    "x = layers.BatchNormalization()(x)\n",
    "x = layers.ReLU()(x)\n",
    "x = layers.MaxPooling2D(pool_size=2)(x)\n",
    "\n",
    "x = layers.Conv2D(filters=64, kernel_size=3)(x)\n",
    "x = layers.BatchNormalization()(x)\n",
    "x = layers.ReLU()(x)\n",
    "x = layers.MaxPooling2D(pool_size=2)(x)\n",
    "\n",
    "x = layers.Conv2D(filters=128, kernel_size=3)(x)\n",
    "x = layers.BatchNormalization()(x)\n",
    "x = layers.ReLU()(x)\n",
    "x = layers.MaxPooling2D(pool_size=2)(x)\n",
    "\n",
    "x = layers.Conv2D(filters=256, kernel_size=3)(x)\n",
    "x = layers.BatchNormalization()(x)   # 추가\n",
    "x = layers.Conv2D(filters=256, kernel_size=3)(x)   \n",
    "x = layers.BatchNormalization()(x)\n",
    "x = layers.ReLU()(x)\n",
    "x = layers.MaxPooling2D(pool_size=2)(x)\n",
    "\n",
    "x = layers.Conv2D(filters=512, kernel_size=3)(x)\n",
    "x = layers.BatchNormalization()(x)\n",
    "x = layers.ReLU()(x)\n",
    "x = layers.Dropout(0.4)(x)\n",
    "x = layers.MaxPooling2D(pool_size=2)(x)\n",
    "\n",
    "x = layers.Flatten()(x)\n",
    "x = layers.Dense(512, activation = \"relu\")(x)\n",
    "x = layers.Dropout(0.4)(x)\n",
    "x = layers.Dense(256, activation = \"relu\")(x)   \n",
    "\n",
    "outputs = layers.Dense(18, activation=\"softmax\")(x)\n",
    "\n",
    "model = keras.Model(inputs=inputs, outputs=outputs)"
   ]
  },
  {
   "cell_type": "code",
   "execution_count": 5,
   "id": "e9b56638",
   "metadata": {
    "scrolled": true
   },
   "outputs": [
    {
     "name": "stdout",
     "output_type": "stream",
     "text": [
      "Model: \"model\"\n",
      "_________________________________________________________________\n",
      " Layer (type)                Output Shape              Param #   \n",
      "=================================================================\n",
      " input_1 (InputLayer)        [(None, 400, 400, 3)]     0         \n",
      "                                                                 \n",
      " conv2d (Conv2D)             (None, 398, 398, 32)      896       \n",
      "                                                                 \n",
      " batch_normalization (Batch  (None, 398, 398, 32)      128       \n",
      " Normalization)                                                  \n",
      "                                                                 \n",
      " re_lu (ReLU)                (None, 398, 398, 32)      0         \n",
      "                                                                 \n",
      " max_pooling2d (MaxPooling2  (None, 199, 199, 32)      0         \n",
      " D)                                                              \n",
      "                                                                 \n",
      " conv2d_1 (Conv2D)           (None, 197, 197, 64)      18496     \n",
      "                                                                 \n",
      " batch_normalization_1 (Bat  (None, 197, 197, 64)      256       \n",
      " chNormalization)                                                \n",
      "                                                                 \n",
      " re_lu_1 (ReLU)              (None, 197, 197, 64)      0         \n",
      "                                                                 \n",
      " max_pooling2d_1 (MaxPoolin  (None, 98, 98, 64)        0         \n",
      " g2D)                                                            \n",
      "                                                                 \n",
      " conv2d_2 (Conv2D)           (None, 96, 96, 128)       73856     \n",
      "                                                                 \n",
      " batch_normalization_2 (Bat  (None, 96, 96, 128)       512       \n",
      " chNormalization)                                                \n",
      "                                                                 \n",
      " re_lu_2 (ReLU)              (None, 96, 96, 128)       0         \n",
      "                                                                 \n",
      " max_pooling2d_2 (MaxPoolin  (None, 48, 48, 128)       0         \n",
      " g2D)                                                            \n",
      "                                                                 \n",
      " conv2d_3 (Conv2D)           (None, 46, 46, 256)       295168    \n",
      "                                                                 \n",
      " batch_normalization_3 (Bat  (None, 46, 46, 256)       1024      \n",
      " chNormalization)                                                \n",
      "                                                                 \n",
      " conv2d_4 (Conv2D)           (None, 44, 44, 256)       590080    \n",
      "                                                                 \n",
      " batch_normalization_4 (Bat  (None, 44, 44, 256)       1024      \n",
      " chNormalization)                                                \n",
      "                                                                 \n",
      " re_lu_3 (ReLU)              (None, 44, 44, 256)       0         \n",
      "                                                                 \n",
      " max_pooling2d_3 (MaxPoolin  (None, 22, 22, 256)       0         \n",
      " g2D)                                                            \n",
      "                                                                 \n",
      " conv2d_5 (Conv2D)           (None, 20, 20, 512)       1180160   \n",
      "                                                                 \n",
      " batch_normalization_5 (Bat  (None, 20, 20, 512)       2048      \n",
      " chNormalization)                                                \n",
      "                                                                 \n",
      " re_lu_4 (ReLU)              (None, 20, 20, 512)       0         \n",
      "                                                                 \n",
      " dropout (Dropout)           (None, 20, 20, 512)       0         \n",
      "                                                                 \n",
      " max_pooling2d_4 (MaxPoolin  (None, 10, 10, 512)       0         \n",
      " g2D)                                                            \n",
      "                                                                 \n",
      " flatten (Flatten)           (None, 51200)             0         \n",
      "                                                                 \n",
      " dense (Dense)               (None, 512)               26214912  \n",
      "                                                                 \n",
      " dropout_1 (Dropout)         (None, 512)               0         \n",
      "                                                                 \n",
      " dense_1 (Dense)             (None, 256)               131328    \n",
      "                                                                 \n",
      " dense_2 (Dense)             (None, 18)                4626      \n",
      "                                                                 \n",
      "=================================================================\n",
      "Total params: 28514514 (108.77 MB)\n",
      "Trainable params: 28512018 (108.76 MB)\n",
      "Non-trainable params: 2496 (9.75 KB)\n",
      "_________________________________________________________________\n"
     ]
    }
   ],
   "source": [
    "model.summary()"
   ]
  },
  {
   "cell_type": "code",
   "execution_count": 6,
   "id": "d1cf17fb",
   "metadata": {},
   "outputs": [],
   "source": [
    "# 학습률 및 옵티마이저 설정\n",
    "optimizer = optimizers.RMSprop(learning_rate=1e-4)\n",
    "\n",
    "# 모델 컴파일\n",
    "model.compile(optimizer=optimizer,\n",
    "              loss='sparse_categorical_crossentropy',\n",
    "              metrics=['accuracy'])"
   ]
  },
  {
   "cell_type": "code",
   "execution_count": 7,
   "id": "79cefeec",
   "metadata": {},
   "outputs": [],
   "source": [
    "from tensorflow.keras.callbacks import EarlyStopping\n",
    "\n",
    "# EarlyStopping 콜백 설정\n",
    "early_stopping = EarlyStopping(\n",
    "    monitor='val_loss',       # 검증 손실을 기준으로 학습 중단\n",
    "    patience=5,               # 성능이 개선되지 않는 에포크 수 (5회 연속 개선 없을 시 중단)\n",
    "    restore_best_weights=True # 최적의 가중치 복원\n",
    ")"
   ]
  },
  {
   "cell_type": "code",
   "execution_count": 8,
   "id": "47d0cbb5",
   "metadata": {},
   "outputs": [],
   "source": [
    "callbacks = [keras.callbacks.ReduceLROnPlateau(\n",
    "                                monitor='val_loss',   # 검증 손실 기준\n",
    "                                factor=0.5,           # 학습률 절반으로 감소\n",
    "                                patience=3),          # 3회 연속 개선 없을 경우\n",
    "            early_stopping]"
   ]
  },
  {
   "cell_type": "code",
   "execution_count": 9,
   "id": "5a695bf4",
   "metadata": {
    "scrolled": true
   },
   "outputs": [
    {
     "name": "stdout",
     "output_type": "stream",
     "text": [
      "Epoch 1/100\n"
     ]
    },
    {
     "name": "stderr",
     "output_type": "stream",
     "text": [
      "2024-11-23 21:00:12.377208: E tensorflow/core/grappler/optimizers/meta_optimizer.cc:954] layout failed: INVALID_ARGUMENT: Size of values 0 does not match size of permutation 4 @ fanin shape inmodel/dropout/dropout/SelectV2-2-TransposeNHWCToNCHW-LayoutOptimizer\n",
      "2024-11-23 21:00:13.017377: I tensorflow/compiler/xla/stream_executor/cuda/cuda_dnn.cc:432] Loaded cuDNN version 8600\n",
      "2024-11-23 21:00:13.515610: I tensorflow/compiler/xla/stream_executor/cuda/cuda_blas.cc:606] TensorFloat-32 will be used for the matrix multiplication. This will only be logged once.\n",
      "2024-11-23 21:00:13.534594: I tensorflow/compiler/xla/service/service.cc:168] XLA service 0x7fecff82c1a0 initialized for platform CUDA (this does not guarantee that XLA will be used). Devices:\n",
      "2024-11-23 21:00:13.534615: I tensorflow/compiler/xla/service/service.cc:176]   StreamExecutor device (0): NVIDIA GeForce RTX 4090, Compute Capability 8.9\n",
      "2024-11-23 21:00:13.537647: I tensorflow/compiler/mlir/tensorflow/utils/dump_mlir_util.cc:255] disabling MLIR crash reproducer, set env var `MLIR_CRASH_REPRODUCER_DIRECTORY` to enable.\n",
      "2024-11-23 21:00:13.608694: I ./tensorflow/compiler/jit/device_compiler.h:186] Compiled cluster using XLA!  This line is logged at most once for the lifetime of the process.\n"
     ]
    },
    {
     "name": "stdout",
     "output_type": "stream",
     "text": [
      "355/355 [==============================] - 42s 106ms/step - loss: 2.1558 - accuracy: 0.4178 - val_loss: 1.3852 - val_accuracy: 0.5877 - lr: 1.0000e-04\n",
      "Epoch 2/100\n",
      "355/355 [==============================] - 37s 103ms/step - loss: 1.3640 - accuracy: 0.5743 - val_loss: 1.0916 - val_accuracy: 0.6630 - lr: 1.0000e-04\n",
      "Epoch 3/100\n",
      "355/355 [==============================] - 37s 103ms/step - loss: 1.1542 - accuracy: 0.6402 - val_loss: 0.8968 - val_accuracy: 0.7321 - lr: 1.0000e-04\n",
      "Epoch 4/100\n",
      "355/355 [==============================] - 37s 103ms/step - loss: 1.0161 - accuracy: 0.6738 - val_loss: 0.9498 - val_accuracy: 0.7043 - lr: 1.0000e-04\n",
      "Epoch 5/100\n",
      "355/355 [==============================] - 37s 103ms/step - loss: 0.9192 - accuracy: 0.7057 - val_loss: 0.7317 - val_accuracy: 0.7673 - lr: 1.0000e-04\n",
      "Epoch 6/100\n",
      "355/355 [==============================] - 37s 103ms/step - loss: 0.8427 - accuracy: 0.7284 - val_loss: 0.7962 - val_accuracy: 0.7503 - lr: 1.0000e-04\n",
      "Epoch 7/100\n",
      "355/355 [==============================] - 37s 103ms/step - loss: 0.7851 - accuracy: 0.7479 - val_loss: 0.7075 - val_accuracy: 0.7762 - lr: 1.0000e-04\n",
      "Epoch 8/100\n",
      "355/355 [==============================] - 37s 103ms/step - loss: 0.7602 - accuracy: 0.7587 - val_loss: 0.7475 - val_accuracy: 0.7611 - lr: 1.0000e-04\n",
      "Epoch 9/100\n",
      "355/355 [==============================] - 37s 103ms/step - loss: 0.7036 - accuracy: 0.7730 - val_loss: 0.7121 - val_accuracy: 0.7796 - lr: 1.0000e-04\n",
      "Epoch 10/100\n",
      "355/355 [==============================] - 37s 103ms/step - loss: 0.6523 - accuracy: 0.7893 - val_loss: 0.5823 - val_accuracy: 0.8136 - lr: 1.0000e-04\n",
      "Epoch 11/100\n",
      "355/355 [==============================] - 37s 103ms/step - loss: 0.6277 - accuracy: 0.7959 - val_loss: 0.7266 - val_accuracy: 0.7796 - lr: 1.0000e-04\n",
      "Epoch 12/100\n",
      "355/355 [==============================] - 37s 103ms/step - loss: 0.5843 - accuracy: 0.8154 - val_loss: 0.6325 - val_accuracy: 0.8040 - lr: 1.0000e-04\n",
      "Epoch 13/100\n",
      "355/355 [==============================] - 37s 103ms/step - loss: 0.5521 - accuracy: 0.8183 - val_loss: 0.7291 - val_accuracy: 0.7852 - lr: 1.0000e-04\n",
      "Epoch 14/100\n",
      "355/355 [==============================] - 37s 103ms/step - loss: 0.4150 - accuracy: 0.8646 - val_loss: 0.4591 - val_accuracy: 0.8602 - lr: 5.0000e-05\n",
      "Epoch 15/100\n",
      "355/355 [==============================] - 37s 103ms/step - loss: 0.3631 - accuracy: 0.8797 - val_loss: 0.4120 - val_accuracy: 0.8623 - lr: 5.0000e-05\n",
      "Epoch 16/100\n",
      "355/355 [==============================] - 37s 103ms/step - loss: 0.3394 - accuracy: 0.8828 - val_loss: 0.4511 - val_accuracy: 0.8571 - lr: 5.0000e-05\n",
      "Epoch 17/100\n",
      "355/355 [==============================] - 37s 103ms/step - loss: 0.3251 - accuracy: 0.8937 - val_loss: 0.4054 - val_accuracy: 0.8673 - lr: 5.0000e-05\n",
      "Epoch 18/100\n",
      "355/355 [==============================] - 37s 103ms/step - loss: 0.3161 - accuracy: 0.8951 - val_loss: 0.3867 - val_accuracy: 0.8753 - lr: 5.0000e-05\n",
      "Epoch 19/100\n",
      "355/355 [==============================] - 37s 103ms/step - loss: 0.2989 - accuracy: 0.9013 - val_loss: 0.3579 - val_accuracy: 0.8833 - lr: 5.0000e-05\n",
      "Epoch 20/100\n",
      "355/355 [==============================] - 37s 103ms/step - loss: 0.2810 - accuracy: 0.9070 - val_loss: 0.3458 - val_accuracy: 0.8873 - lr: 5.0000e-05\n",
      "Epoch 21/100\n",
      "355/355 [==============================] - 37s 103ms/step - loss: 0.2775 - accuracy: 0.9094 - val_loss: 0.3611 - val_accuracy: 0.8809 - lr: 5.0000e-05\n",
      "Epoch 22/100\n",
      "355/355 [==============================] - 37s 103ms/step - loss: 0.2647 - accuracy: 0.9103 - val_loss: 0.3421 - val_accuracy: 0.8793 - lr: 5.0000e-05\n",
      "Epoch 23/100\n",
      "355/355 [==============================] - 37s 103ms/step - loss: 0.2478 - accuracy: 0.9174 - val_loss: 0.4186 - val_accuracy: 0.8657 - lr: 5.0000e-05\n",
      "Epoch 24/100\n",
      "355/355 [==============================] - 37s 103ms/step - loss: 0.2325 - accuracy: 0.9232 - val_loss: 0.5125 - val_accuracy: 0.8454 - lr: 5.0000e-05\n",
      "Epoch 25/100\n",
      "355/355 [==============================] - 37s 103ms/step - loss: 0.2364 - accuracy: 0.9211 - val_loss: 0.3603 - val_accuracy: 0.8855 - lr: 5.0000e-05\n",
      "Epoch 26/100\n",
      "355/355 [==============================] - 37s 103ms/step - loss: 0.1684 - accuracy: 0.9414 - val_loss: 0.2855 - val_accuracy: 0.9059 - lr: 2.5000e-05\n",
      "Epoch 27/100\n",
      "355/355 [==============================] - 37s 103ms/step - loss: 0.1583 - accuracy: 0.9462 - val_loss: 0.3022 - val_accuracy: 0.9025 - lr: 2.5000e-05\n",
      "Epoch 28/100\n",
      "355/355 [==============================] - 37s 102ms/step - loss: 0.1572 - accuracy: 0.9452 - val_loss: 0.2926 - val_accuracy: 0.9003 - lr: 2.5000e-05\n",
      "Epoch 29/100\n",
      "355/355 [==============================] - 37s 103ms/step - loss: 0.1395 - accuracy: 0.9530 - val_loss: 0.3229 - val_accuracy: 0.8935 - lr: 2.5000e-05\n",
      "Epoch 30/100\n",
      "355/355 [==============================] - 37s 103ms/step - loss: 0.1273 - accuracy: 0.9561 - val_loss: 0.2634 - val_accuracy: 0.9117 - lr: 1.2500e-05\n",
      "Epoch 31/100\n",
      "355/355 [==============================] - 37s 103ms/step - loss: 0.1248 - accuracy: 0.9588 - val_loss: 0.2720 - val_accuracy: 0.9093 - lr: 1.2500e-05\n",
      "Epoch 32/100\n",
      "355/355 [==============================] - 37s 103ms/step - loss: 0.1122 - accuracy: 0.9622 - val_loss: 0.2678 - val_accuracy: 0.9093 - lr: 1.2500e-05\n",
      "Epoch 33/100\n",
      "355/355 [==============================] - 37s 103ms/step - loss: 0.1183 - accuracy: 0.9606 - val_loss: 0.2547 - val_accuracy: 0.9176 - lr: 1.2500e-05\n",
      "Epoch 34/100\n",
      "355/355 [==============================] - 37s 103ms/step - loss: 0.1130 - accuracy: 0.9589 - val_loss: 0.2551 - val_accuracy: 0.9133 - lr: 1.2500e-05\n",
      "Epoch 35/100\n",
      "355/355 [==============================] - 37s 103ms/step - loss: 0.1080 - accuracy: 0.9637 - val_loss: 0.2508 - val_accuracy: 0.9114 - lr: 1.2500e-05\n",
      "Epoch 36/100\n",
      "355/355 [==============================] - 37s 103ms/step - loss: 0.1050 - accuracy: 0.9631 - val_loss: 0.2587 - val_accuracy: 0.9157 - lr: 1.2500e-05\n",
      "Epoch 37/100\n",
      "355/355 [==============================] - 37s 103ms/step - loss: 0.1021 - accuracy: 0.9668 - val_loss: 0.2525 - val_accuracy: 0.9148 - lr: 1.2500e-05\n",
      "Epoch 38/100\n",
      "355/355 [==============================] - 37s 103ms/step - loss: 0.1029 - accuracy: 0.9661 - val_loss: 0.2462 - val_accuracy: 0.9188 - lr: 1.2500e-05\n",
      "Epoch 39/100\n",
      "355/355 [==============================] - 37s 103ms/step - loss: 0.0977 - accuracy: 0.9655 - val_loss: 0.2547 - val_accuracy: 0.9164 - lr: 1.2500e-05\n",
      "Epoch 40/100\n",
      "355/355 [==============================] - 37s 102ms/step - loss: 0.0927 - accuracy: 0.9683 - val_loss: 0.2552 - val_accuracy: 0.9164 - lr: 1.2500e-05\n",
      "Epoch 41/100\n",
      "355/355 [==============================] - 37s 103ms/step - loss: 0.0880 - accuracy: 0.9690 - val_loss: 0.2546 - val_accuracy: 0.9145 - lr: 1.2500e-05\n",
      "Epoch 42/100\n",
      "355/355 [==============================] - 37s 103ms/step - loss: 0.0887 - accuracy: 0.9733 - val_loss: 0.2388 - val_accuracy: 0.9179 - lr: 6.2500e-06\n",
      "Epoch 43/100\n",
      "355/355 [==============================] - 37s 102ms/step - loss: 0.0776 - accuracy: 0.9732 - val_loss: 0.2403 - val_accuracy: 0.9198 - lr: 6.2500e-06\n",
      "Epoch 44/100\n",
      "355/355 [==============================] - 37s 103ms/step - loss: 0.0954 - accuracy: 0.9698 - val_loss: 0.2388 - val_accuracy: 0.9194 - lr: 6.2500e-06\n",
      "Epoch 45/100\n",
      "355/355 [==============================] - 37s 103ms/step - loss: 0.0745 - accuracy: 0.9756 - val_loss: 0.2493 - val_accuracy: 0.9176 - lr: 6.2500e-06\n",
      "Epoch 46/100\n",
      "355/355 [==============================] - 37s 103ms/step - loss: 0.0799 - accuracy: 0.9735 - val_loss: 0.2342 - val_accuracy: 0.9210 - lr: 3.1250e-06\n",
      "Epoch 47/100\n",
      "355/355 [==============================] - 37s 103ms/step - loss: 0.0761 - accuracy: 0.9753 - val_loss: 0.2356 - val_accuracy: 0.9198 - lr: 3.1250e-06\n",
      "Epoch 48/100\n",
      "355/355 [==============================] - 37s 103ms/step - loss: 0.0741 - accuracy: 0.9763 - val_loss: 0.2346 - val_accuracy: 0.9207 - lr: 3.1250e-06\n",
      "Epoch 49/100\n",
      "355/355 [==============================] - 37s 103ms/step - loss: 0.0682 - accuracy: 0.9768 - val_loss: 0.2330 - val_accuracy: 0.9219 - lr: 3.1250e-06\n",
      "Epoch 50/100\n",
      "355/355 [==============================] - 37s 103ms/step - loss: 0.0717 - accuracy: 0.9759 - val_loss: 0.2364 - val_accuracy: 0.9207 - lr: 3.1250e-06\n",
      "Epoch 51/100\n",
      "355/355 [==============================] - 37s 103ms/step - loss: 0.0694 - accuracy: 0.9753 - val_loss: 0.2373 - val_accuracy: 0.9201 - lr: 3.1250e-06\n",
      "Epoch 52/100\n",
      "355/355 [==============================] - 37s 103ms/step - loss: 0.0674 - accuracy: 0.9768 - val_loss: 0.2320 - val_accuracy: 0.9216 - lr: 3.1250e-06\n",
      "Epoch 53/100\n",
      "355/355 [==============================] - 37s 103ms/step - loss: 0.0712 - accuracy: 0.9774 - val_loss: 0.2369 - val_accuracy: 0.9204 - lr: 3.1250e-06\n",
      "Epoch 54/100\n",
      "355/355 [==============================] - 37s 103ms/step - loss: 0.0709 - accuracy: 0.9766 - val_loss: 0.2341 - val_accuracy: 0.9194 - lr: 3.1250e-06\n",
      "Epoch 55/100\n",
      "355/355 [==============================] - 37s 103ms/step - loss: 0.0735 - accuracy: 0.9740 - val_loss: 0.2327 - val_accuracy: 0.9207 - lr: 3.1250e-06\n",
      "Epoch 56/100\n",
      "355/355 [==============================] - 37s 103ms/step - loss: 0.0703 - accuracy: 0.9770 - val_loss: 0.2334 - val_accuracy: 0.9201 - lr: 1.5625e-06\n",
      "Epoch 57/100\n",
      "355/355 [==============================] - 37s 103ms/step - loss: 0.0694 - accuracy: 0.9765 - val_loss: 0.2309 - val_accuracy: 0.9241 - lr: 1.5625e-06\n",
      "Epoch 58/100\n",
      "355/355 [==============================] - 37s 103ms/step - loss: 0.0658 - accuracy: 0.9775 - val_loss: 0.2314 - val_accuracy: 0.9216 - lr: 1.5625e-06\n",
      "Epoch 59/100\n",
      "355/355 [==============================] - 37s 103ms/step - loss: 0.0699 - accuracy: 0.9767 - val_loss: 0.2280 - val_accuracy: 0.9219 - lr: 1.5625e-06\n",
      "Epoch 60/100\n",
      "355/355 [==============================] - 37s 103ms/step - loss: 0.0627 - accuracy: 0.9798 - val_loss: 0.2303 - val_accuracy: 0.9222 - lr: 1.5625e-06\n",
      "Epoch 61/100\n",
      "355/355 [==============================] - 37s 103ms/step - loss: 0.0704 - accuracy: 0.9775 - val_loss: 0.2287 - val_accuracy: 0.9235 - lr: 1.5625e-06\n",
      "Epoch 62/100\n",
      "355/355 [==============================] - 37s 103ms/step - loss: 0.0636 - accuracy: 0.9792 - val_loss: 0.2298 - val_accuracy: 0.9225 - lr: 1.5625e-06\n",
      "Epoch 63/100\n",
      "355/355 [==============================] - 37s 103ms/step - loss: 0.0689 - accuracy: 0.9768 - val_loss: 0.2312 - val_accuracy: 0.9201 - lr: 7.8125e-07\n",
      "Epoch 64/100\n",
      "355/355 [==============================] - 37s 103ms/step - loss: 0.0668 - accuracy: 0.9773 - val_loss: 0.2302 - val_accuracy: 0.9207 - lr: 7.8125e-07\n"
     ]
    }
   ],
   "source": [
    "history = model.fit(\n",
    "    train_dataset,\n",
    "    validation_data=validation_dataset,\n",
    "    epochs=100,\n",
    "    callbacks=callbacks,   # EarlyStopping, ReduceLROnPlateau 설정\n",
    "    batch_size=batch_size)"
   ]
  },
  {
   "cell_type": "code",
   "execution_count": 10,
   "id": "5140a285",
   "metadata": {},
   "outputs": [
    {
     "data": {
      "image/png": "[encoded data removed]",
      "text/plain": [
       "<Figure size 1500x500 with 2 Axes>"
      ]
     },
     "metadata": {},
     "output_type": "display_data"
    }
   ],
   "source": [
    "# 훈련 정확도와 손실 그래프 생성\n",
    "import matplotlib.pyplot as plt \n",
    "\n",
    "acc = history.history['accuracy'][:-5]           \n",
    "val_acc = history.history['val_accuracy'][:-5]   \n",
    "loss = history.history['loss'][:-5]              \n",
    "val_loss = history.history['val_loss'][:-5]      \n",
    "epochs_range = range(1, len(acc) + 1)\n",
    "\n",
    "plt.figure(figsize=(15, 5))\n",
    "plt.subplot(1, 2, 1)\n",
    "plt.plot(epochs_range, acc, label='Training Accuracy')\n",
    "plt.plot(epochs_range, val_acc, label='Validation Accuracy')\n",
    "plt.title('Training and Validation Accuracy')\n",
    "plt.legend()\n",
    "\n",
    "plt.subplot(1, 2, 2)\n",
    "plt.plot(epochs_range, loss, label='Training Loss')\n",
    "plt.plot(epochs_range, val_loss, label='Validation Loss')\n",
    "plt.title('Training and Validation Loss')\n",
    "plt.legend()\n",
    "\n",
    "plt.show()"
   ]
  },
  {
   "cell_type": "markdown",
   "id": "ba874d13",
   "metadata": {},
   "source": [
    "# Analysis - Training & Validation\n",
    "## 불안정\n",
    "(compared to `4. Increase_Dropout_Ratio`)  \n",
    "유사한 형태의 그래프\n",
    "\n",
    "---"
   ]
  },
  {
   "cell_type": "code",
   "execution_count": 11,
   "id": "526035cb",
   "metadata": {},
   "outputs": [
    {
     "name": "stdout",
     "output_type": "stream",
     "text": [
      "51/51 [==============================] - 3s 46ms/step - loss: 0.2495 - accuracy: 0.9284\n",
      "test accuracy: 0.9283950328826904\n",
      "test loss: 0.2495192587375641\n"
     ]
    }
   ],
   "source": [
    "test_loss, test_acc = model.evaluate(test_dataset)\n",
    "\n",
    "print(f\"test accuracy: {test_acc}\")\n",
    "print(f\"test loss: {test_loss}\")"
   ]
  },
  {
   "cell_type": "markdown",
   "id": "0482c46e",
   "metadata": {},
   "source": [
    "# Analysis - Test\n",
    "(compared to `4. Increase_Dropout_Ratio`)  \n",
    "Accuracy : 90.7% → 92.8%  \n",
    "Loss : 0.2751 → 0.2495  \n",
    "유의미한 성능 향상"
   ]
  }
 ],
 "metadata": {
  "kernelspec": {
   "display_name": "Python 3 (ipykernel)",
   "language": "python",
   "name": "python3"
  },
  "language_info": {
   "codemirror_mode": {
    "name": "ipython",
    "version": 3
   },
   "file_extension": ".py",
   "mimetype": "text/x-python",
   "name": "python",
   "nbconvert_exporter": "python",
   "pygments_lexer": "ipython3",
   "version": "3.8.10"
  }
 },
 "nbformat": 4,
 "nbformat_minor": 5
}
