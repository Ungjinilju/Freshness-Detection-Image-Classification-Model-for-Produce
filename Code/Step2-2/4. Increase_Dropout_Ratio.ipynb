{
 "cells": [
  {
   "cell_type": "markdown",
   "id": "5a3b0bc4",
   "metadata": {},
   "source": [
    "# Guide\n",
    "## Data\n",
    "[[Google Drive] /Data/Final/Step2-2.zip](https://drive.google.com/file/d/19ARNrbgWSn-Wi5k7uXKehJnzmvbIRThv/view?usp=sharing)\n",
    "## Code\n",
    "In [3] `base_dir` : 실제 데이터 경로로 변경 필요\n",
    "\n",
    "---"
   ]
  },
  {
   "cell_type": "markdown",
   "id": "c1738ab3",
   "metadata": {},
   "source": [
    "# Purpose\n",
    "- 모델 성능 향상  \n",
    "- validation 그래프 진동 폭 감소  \n",
    "\n",
    "## Alternation\n",
    "(compared to `3. ReduceLROnPlateau`)   \n",
    "`Dropout(0.3)` → `Dropout(0.4)`"
   ]
  },
  {
   "cell_type": "code",
   "execution_count": 1,
   "id": "41fb8089",
   "metadata": {},
   "outputs": [
    {
     "name": "stderr",
     "output_type": "stream",
     "text": [
      "2024-11-23 18:41:32.315734: I tensorflow/core/platform/cpu_feature_guard.cc:182] This TensorFlow binary is optimized to use available CPU instructions in performance-critical operations.\n",
      "To enable the following instructions: AVX2 FMA, in other operations, rebuild TensorFlow with the appropriate compiler flags.\n"
     ]
    }
   ],
   "source": [
    "from tensorflow import keras\n",
    "from tensorflow.keras import layers, optimizers\n",
    "import os"
   ]
  },
  {
   "cell_type": "code",
   "execution_count": 2,
   "id": "e199e2cc",
   "metadata": {},
   "outputs": [],
   "source": [
    "image_size = (400, 400)\n",
    "batch_size = 32"
   ]
  },
  {
   "cell_type": "code",
   "execution_count": 3,
   "id": "897fc118",
   "metadata": {},
   "outputs": [
    {
     "name": "stdout",
     "output_type": "stream",
     "text": [
      "Found 11340 files belonging to 18 classes.\n",
      "Found 3240 files belonging to 18 classes.\n"
     ]
    },
    {
     "name": "stderr",
     "output_type": "stream",
     "text": [
      "2024-11-23 18:41:34.004606: I tensorflow/compiler/xla/stream_executor/cuda/cuda_gpu_executor.cc:995] successful NUMA node read from SysFS had negative value (-1), but there must be at least one NUMA node, so returning NUMA node zero. See more at https://github.com/torvalds/linux/blob/v6.0/Documentation/ABI/testing/sysfs-bus-pci#L344-L355\n",
      "2024-11-23 18:41:34.007967: I tensorflow/compiler/xla/stream_executor/cuda/cuda_gpu_executor.cc:995] successful NUMA node read from SysFS had negative value (-1), but there must be at least one NUMA node, so returning NUMA node zero. See more at https://github.com/torvalds/linux/blob/v6.0/Documentation/ABI/testing/sysfs-bus-pci#L344-L355\n",
      "2024-11-23 18:41:34.008060: I tensorflow/compiler/xla/stream_executor/cuda/cuda_gpu_executor.cc:995] successful NUMA node read from SysFS had negative value (-1), but there must be at least one NUMA node, so returning NUMA node zero. See more at https://github.com/torvalds/linux/blob/v6.0/Documentation/ABI/testing/sysfs-bus-pci#L344-L355\n",
      "2024-11-23 18:41:34.008661: I tensorflow/compiler/xla/stream_executor/cuda/cuda_gpu_executor.cc:995] successful NUMA node read from SysFS had negative value (-1), but there must be at least one NUMA node, so returning NUMA node zero. See more at https://github.com/torvalds/linux/blob/v6.0/Documentation/ABI/testing/sysfs-bus-pci#L344-L355\n",
      "2024-11-23 18:41:34.008745: I tensorflow/compiler/xla/stream_executor/cuda/cuda_gpu_executor.cc:995] successful NUMA node read from SysFS had negative value (-1), but there must be at least one NUMA node, so returning NUMA node zero. See more at https://github.com/torvalds/linux/blob/v6.0/Documentation/ABI/testing/sysfs-bus-pci#L344-L355\n",
      "2024-11-23 18:41:34.008818: I tensorflow/compiler/xla/stream_executor/cuda/cuda_gpu_executor.cc:995] successful NUMA node read from SysFS had negative value (-1), but there must be at least one NUMA node, so returning NUMA node zero. See more at https://github.com/torvalds/linux/blob/v6.0/Documentation/ABI/testing/sysfs-bus-pci#L344-L355\n",
      "2024-11-23 18:41:34.072083: I tensorflow/compiler/xla/stream_executor/cuda/cuda_gpu_executor.cc:995] successful NUMA node read from SysFS had negative value (-1), but there must be at least one NUMA node, so returning NUMA node zero. See more at https://github.com/torvalds/linux/blob/v6.0/Documentation/ABI/testing/sysfs-bus-pci#L344-L355\n",
      "2024-11-23 18:41:34.072197: I tensorflow/compiler/xla/stream_executor/cuda/cuda_gpu_executor.cc:995] successful NUMA node read from SysFS had negative value (-1), but there must be at least one NUMA node, so returning NUMA node zero. See more at https://github.com/torvalds/linux/blob/v6.0/Documentation/ABI/testing/sysfs-bus-pci#L344-L355\n",
      "2024-11-23 18:41:34.072277: I tensorflow/compiler/xla/stream_executor/cuda/cuda_gpu_executor.cc:995] successful NUMA node read from SysFS had negative value (-1), but there must be at least one NUMA node, so returning NUMA node zero. See more at https://github.com/torvalds/linux/blob/v6.0/Documentation/ABI/testing/sysfs-bus-pci#L344-L355\n",
      "2024-11-23 18:41:34.072345: I tensorflow/core/common_runtime/gpu/gpu_device.cc:1639] Created device /job:localhost/replica:0/task:0/device:GPU:0 with 22207 MB memory:  -> device: 0, name: NVIDIA GeForce RTX 4090, pci bus id: 0000:01:00.0, compute capability: 8.9\n"
     ]
    },
    {
     "name": "stdout",
     "output_type": "stream",
     "text": [
      "Found 1620 files belonging to 18 classes.\n"
     ]
    }
   ],
   "source": [
    "# 데이터셋 로드\n",
    "from tensorflow.keras.utils import image_dataset_from_directory\n",
    "\n",
    "# 실제 데이터의 경로로 변경 필요\n",
    "base_dir = \"/tf/Fixed_Data/Data_Final/Step2-2\"\n",
    "\n",
    "train_dataset = image_dataset_from_directory(\n",
    "    os.path.join(base_dir, 'train'),\n",
    "    image_size=image_size,\n",
    "    batch_size=batch_size)\n",
    "\n",
    "validation_dataset = image_dataset_from_directory(\n",
    "    os.path.join(base_dir, 'validation'),\n",
    "    image_size=image_size,\n",
    "    batch_size=batch_size)\n",
    "\n",
    "test_dataset = image_dataset_from_directory(\n",
    "    os.path.join(base_dir, 'test'),\n",
    "    image_size=image_size,\n",
    "    batch_size=batch_size)"
   ]
  },
  {
   "cell_type": "markdown",
   "id": "f487bf4c",
   "metadata": {},
   "source": [
    "### Dropout Ratio 증가"
   ]
  },
  {
   "cell_type": "code",
   "execution_count": 4,
   "id": "13d6a102",
   "metadata": {},
   "outputs": [],
   "source": [
    "# 모델 레이어 구성\n",
    "inputs = keras.Input(shape=(400, 400, 3))\n",
    "\n",
    "x = layers.Rescaling(1./255)(inputs)\n",
    "\n",
    "x = layers.Conv2D(filters=32, kernel_size=3)(inputs)\n",
    "x = layers.BatchNormalization()(x)\n",
    "x = layers.ReLU()(x)\n",
    "x = layers.MaxPooling2D(pool_size=2)(x)\n",
    "\n",
    "x = layers.Conv2D(filters=64, kernel_size=3)(x)\n",
    "x = layers.BatchNormalization()(x)\n",
    "x = layers.ReLU()(x)\n",
    "x = layers.MaxPooling2D(pool_size=2)(x)\n",
    "\n",
    "x = layers.Conv2D(filters=128, kernel_size=3)(x)\n",
    "x = layers.BatchNormalization()(x)\n",
    "x = layers.ReLU()(x)\n",
    "x = layers.MaxPooling2D(pool_size=2)(x)\n",
    "\n",
    "x = layers.Conv2D(filters=256, kernel_size=3)(x)\n",
    "x = layers.Conv2D(filters=256, kernel_size=3)(x)   \n",
    "x = layers.BatchNormalization()(x)\n",
    "x = layers.ReLU()(x)\n",
    "x = layers.MaxPooling2D(pool_size=2)(x)\n",
    "\n",
    "x = layers.Conv2D(filters=512, kernel_size=3)(x)\n",
    "x = layers.BatchNormalization()(x)\n",
    "x = layers.ReLU()(x)\n",
    "x = layers.Dropout(0.4)(x)   # Dropout(0.3)\n",
    "x = layers.MaxPooling2D(pool_size=2)(x)\n",
    "\n",
    "x = layers.Flatten()(x)\n",
    "x = layers.Dense(512, activation = \"relu\")(x)\n",
    "x = layers.Dropout(0.4)(x)   # Dropout(0.3)\n",
    "x = layers.Dense(256, activation = \"relu\")(x)   \n",
    "\n",
    "outputs = layers.Dense(18, activation=\"softmax\")(x)\n",
    "\n",
    "model = keras.Model(inputs=inputs, outputs=outputs)"
   ]
  },
  {
   "cell_type": "code",
   "execution_count": 5,
   "id": "e9b56638",
   "metadata": {},
   "outputs": [
    {
     "name": "stdout",
     "output_type": "stream",
     "text": [
      "Model: \"model\"\n",
      "_________________________________________________________________\n",
      " Layer (type)                Output Shape              Param #   \n",
      "=================================================================\n",
      " input_1 (InputLayer)        [(None, 400, 400, 3)]     0         \n",
      "                                                                 \n",
      " conv2d (Conv2D)             (None, 398, 398, 32)      896       \n",
      "                                                                 \n",
      " batch_normalization (Batch  (None, 398, 398, 32)      128       \n",
      " Normalization)                                                  \n",
      "                                                                 \n",
      " re_lu (ReLU)                (None, 398, 398, 32)      0         \n",
      "                                                                 \n",
      " max_pooling2d (MaxPooling2  (None, 199, 199, 32)      0         \n",
      " D)                                                              \n",
      "                                                                 \n",
      " conv2d_1 (Conv2D)           (None, 197, 197, 64)      18496     \n",
      "                                                                 \n",
      " batch_normalization_1 (Bat  (None, 197, 197, 64)      256       \n",
      " chNormalization)                                                \n",
      "                                                                 \n",
      " re_lu_1 (ReLU)              (None, 197, 197, 64)      0         \n",
      "                                                                 \n",
      " max_pooling2d_1 (MaxPoolin  (None, 98, 98, 64)        0         \n",
      " g2D)                                                            \n",
      "                                                                 \n",
      " conv2d_2 (Conv2D)           (None, 96, 96, 128)       73856     \n",
      "                                                                 \n",
      " batch_normalization_2 (Bat  (None, 96, 96, 128)       512       \n",
      " chNormalization)                                                \n",
      "                                                                 \n",
      " re_lu_2 (ReLU)              (None, 96, 96, 128)       0         \n",
      "                                                                 \n",
      " max_pooling2d_2 (MaxPoolin  (None, 48, 48, 128)       0         \n",
      " g2D)                                                            \n",
      "                                                                 \n",
      " conv2d_3 (Conv2D)           (None, 46, 46, 256)       295168    \n",
      "                                                                 \n",
      " conv2d_4 (Conv2D)           (None, 44, 44, 256)       590080    \n",
      "                                                                 \n",
      " batch_normalization_3 (Bat  (None, 44, 44, 256)       1024      \n",
      " chNormalization)                                                \n",
      "                                                                 \n",
      " re_lu_3 (ReLU)              (None, 44, 44, 256)       0         \n",
      "                                                                 \n",
      " max_pooling2d_3 (MaxPoolin  (None, 22, 22, 256)       0         \n",
      " g2D)                                                            \n",
      "                                                                 \n",
      " conv2d_5 (Conv2D)           (None, 20, 20, 512)       1180160   \n",
      "                                                                 \n",
      " batch_normalization_4 (Bat  (None, 20, 20, 512)       2048      \n",
      " chNormalization)                                                \n",
      "                                                                 \n",
      " re_lu_4 (ReLU)              (None, 20, 20, 512)       0         \n",
      "                                                                 \n",
      " dropout (Dropout)           (None, 20, 20, 512)       0         \n",
      "                                                                 \n",
      " max_pooling2d_4 (MaxPoolin  (None, 10, 10, 512)       0         \n",
      " g2D)                                                            \n",
      "                                                                 \n",
      " flatten (Flatten)           (None, 51200)             0         \n",
      "                                                                 \n",
      " dense (Dense)               (None, 512)               26214912  \n",
      "                                                                 \n",
      " dropout_1 (Dropout)         (None, 512)               0         \n",
      "                                                                 \n",
      " dense_1 (Dense)             (None, 256)               131328    \n",
      "                                                                 \n",
      " dense_2 (Dense)             (None, 18)                4626      \n",
      "                                                                 \n",
      "=================================================================\n",
      "Total params: 28513490 (108.77 MB)\n",
      "Trainable params: 28511506 (108.76 MB)\n",
      "Non-trainable params: 1984 (7.75 KB)\n",
      "_________________________________________________________________\n"
     ]
    }
   ],
   "source": [
    "model.summary()"
   ]
  },
  {
   "cell_type": "code",
   "execution_count": 6,
   "id": "d1cf17fb",
   "metadata": {},
   "outputs": [],
   "source": [
    "# 학습률 및 옵티마이저 설정\n",
    "optimizer = optimizers.RMSprop(learning_rate=1e-4)\n",
    "\n",
    "# 모델 컴파일\n",
    "model.compile(optimizer=optimizer,\n",
    "              loss='sparse_categorical_crossentropy',\n",
    "              metrics=['accuracy'])"
   ]
  },
  {
   "cell_type": "code",
   "execution_count": 7,
   "id": "79cefeec",
   "metadata": {},
   "outputs": [],
   "source": [
    "from tensorflow.keras.callbacks import EarlyStopping\n",
    "\n",
    "# EarlyStopping 콜백 설정\n",
    "early_stopping = EarlyStopping(\n",
    "    monitor='val_loss',       # 검증 손실을 기준으로 학습 중단\n",
    "    patience=5,               # 성능이 개선되지 않는 에포크 수 (5회 연속 개선 없을 시 중단)\n",
    "    restore_best_weights=True # 최적의 가중치 복원\n",
    ")"
   ]
  },
  {
   "cell_type": "code",
   "execution_count": 8,
   "id": "47d0cbb5",
   "metadata": {},
   "outputs": [],
   "source": [
    "callbacks = [keras.callbacks.ReduceLROnPlateau(\n",
    "                                monitor='val_loss',   # 검증 손실 기준\n",
    "                                factor=0.5,           # 학습률 절반으로 감소\n",
    "                                patience=3),          # 3회 연속 개선 없을 경우\n",
    "            early_stopping]"
   ]
  },
  {
   "cell_type": "code",
   "execution_count": 9,
   "id": "5a695bf4",
   "metadata": {
    "scrolled": true
   },
   "outputs": [
    {
     "name": "stdout",
     "output_type": "stream",
     "text": [
      "Epoch 1/100\n"
     ]
    },
    {
     "name": "stderr",
     "output_type": "stream",
     "text": [
      "2024-11-23 18:41:35.475122: E tensorflow/core/grappler/optimizers/meta_optimizer.cc:954] layout failed: INVALID_ARGUMENT: Size of values 0 does not match size of permutation 4 @ fanin shape inmodel/dropout/dropout/SelectV2-2-TransposeNHWCToNCHW-LayoutOptimizer\n",
      "2024-11-23 18:41:36.108130: I tensorflow/compiler/xla/stream_executor/cuda/cuda_dnn.cc:432] Loaded cuDNN version 8600\n",
      "2024-11-23 18:41:36.606427: I tensorflow/compiler/xla/stream_executor/cuda/cuda_blas.cc:606] TensorFloat-32 will be used for the matrix multiplication. This will only be logged once.\n",
      "2024-11-23 18:41:36.624615: I tensorflow/compiler/xla/service/service.cc:168] XLA service 0x82691c0 initialized for platform CUDA (this does not guarantee that XLA will be used). Devices:\n",
      "2024-11-23 18:41:36.624635: I tensorflow/compiler/xla/service/service.cc:176]   StreamExecutor device (0): NVIDIA GeForce RTX 4090, Compute Capability 8.9\n",
      "2024-11-23 18:41:36.627836: I tensorflow/compiler/mlir/tensorflow/utils/dump_mlir_util.cc:255] disabling MLIR crash reproducer, set env var `MLIR_CRASH_REPRODUCER_DIRECTORY` to enable.\n",
      "2024-11-23 18:41:36.698951: I ./tensorflow/compiler/jit/device_compiler.h:186] Compiled cluster using XLA!  This line is logged at most once for the lifetime of the process.\n"
     ]
    },
    {
     "name": "stdout",
     "output_type": "stream",
     "text": [
      "355/355 [==============================] - 42s 106ms/step - loss: 2.1065 - accuracy: 0.4299 - val_loss: 1.3715 - val_accuracy: 0.5645 - lr: 1.0000e-04\n",
      "Epoch 2/100\n",
      "355/355 [==============================] - 37s 102ms/step - loss: 1.3586 - accuracy: 0.5766 - val_loss: 1.0882 - val_accuracy: 0.6537 - lr: 1.0000e-04\n",
      "Epoch 3/100\n",
      "355/355 [==============================] - 37s 102ms/step - loss: 1.1408 - accuracy: 0.6436 - val_loss: 0.8900 - val_accuracy: 0.7306 - lr: 1.0000e-04\n",
      "Epoch 4/100\n",
      "355/355 [==============================] - 37s 102ms/step - loss: 1.0062 - accuracy: 0.6859 - val_loss: 0.7880 - val_accuracy: 0.7546 - lr: 1.0000e-04\n",
      "Epoch 5/100\n",
      "355/355 [==============================] - 37s 102ms/step - loss: 0.9387 - accuracy: 0.7091 - val_loss: 0.7508 - val_accuracy: 0.7546 - lr: 1.0000e-04\n",
      "Epoch 6/100\n",
      "355/355 [==============================] - 37s 102ms/step - loss: 0.8581 - accuracy: 0.7341 - val_loss: 1.0564 - val_accuracy: 0.6673 - lr: 1.0000e-04\n",
      "Epoch 7/100\n",
      "355/355 [==============================] - 37s 102ms/step - loss: 0.8038 - accuracy: 0.7452 - val_loss: 1.1410 - val_accuracy: 0.7052 - lr: 1.0000e-04\n",
      "Epoch 8/100\n",
      "355/355 [==============================] - 37s 102ms/step - loss: 0.7548 - accuracy: 0.7610 - val_loss: 0.6910 - val_accuracy: 0.7685 - lr: 1.0000e-04\n",
      "Epoch 9/100\n",
      "355/355 [==============================] - 37s 102ms/step - loss: 0.6927 - accuracy: 0.7792 - val_loss: 0.7214 - val_accuracy: 0.7713 - lr: 1.0000e-04\n",
      "Epoch 10/100\n",
      "355/355 [==============================] - 37s 102ms/step - loss: 0.6621 - accuracy: 0.7944 - val_loss: 0.6609 - val_accuracy: 0.7796 - lr: 1.0000e-04\n",
      "Epoch 11/100\n",
      "355/355 [==============================] - 37s 102ms/step - loss: 0.6166 - accuracy: 0.8054 - val_loss: 0.6932 - val_accuracy: 0.7778 - lr: 1.0000e-04\n",
      "Epoch 12/100\n",
      "355/355 [==============================] - 37s 102ms/step - loss: 0.6099 - accuracy: 0.8058 - val_loss: 0.6791 - val_accuracy: 0.7784 - lr: 1.0000e-04\n",
      "Epoch 13/100\n",
      "355/355 [==============================] - 37s 102ms/step - loss: 0.5701 - accuracy: 0.8205 - val_loss: 0.8085 - val_accuracy: 0.7645 - lr: 1.0000e-04\n",
      "Epoch 14/100\n",
      "355/355 [==============================] - 37s 102ms/step - loss: 0.3994 - accuracy: 0.8679 - val_loss: 0.4411 - val_accuracy: 0.8580 - lr: 5.0000e-05\n",
      "Epoch 15/100\n",
      "355/355 [==============================] - 37s 103ms/step - loss: 0.3717 - accuracy: 0.8737 - val_loss: 0.4357 - val_accuracy: 0.8645 - lr: 5.0000e-05\n",
      "Epoch 16/100\n",
      "355/355 [==============================] - 37s 102ms/step - loss: 0.3531 - accuracy: 0.8830 - val_loss: 0.4277 - val_accuracy: 0.8608 - lr: 5.0000e-05\n",
      "Epoch 17/100\n",
      "355/355 [==============================] - 37s 102ms/step - loss: 0.3136 - accuracy: 0.8937 - val_loss: 0.3998 - val_accuracy: 0.8802 - lr: 5.0000e-05\n",
      "Epoch 18/100\n",
      "355/355 [==============================] - 37s 102ms/step - loss: 0.3140 - accuracy: 0.8930 - val_loss: 0.4400 - val_accuracy: 0.8642 - lr: 5.0000e-05\n",
      "Epoch 19/100\n",
      "355/355 [==============================] - 37s 102ms/step - loss: 0.2905 - accuracy: 0.8998 - val_loss: 0.5394 - val_accuracy: 0.8432 - lr: 5.0000e-05\n",
      "Epoch 20/100\n",
      "355/355 [==============================] - 37s 102ms/step - loss: 0.2800 - accuracy: 0.9041 - val_loss: 0.4387 - val_accuracy: 0.8565 - lr: 5.0000e-05\n",
      "Epoch 21/100\n",
      "355/355 [==============================] - 37s 103ms/step - loss: 0.2290 - accuracy: 0.9214 - val_loss: 0.3310 - val_accuracy: 0.8935 - lr: 2.5000e-05\n",
      "Epoch 22/100\n",
      "355/355 [==============================] - 37s 102ms/step - loss: 0.2128 - accuracy: 0.9253 - val_loss: 0.3420 - val_accuracy: 0.8901 - lr: 2.5000e-05\n",
      "Epoch 23/100\n",
      "355/355 [==============================] - 37s 102ms/step - loss: 0.2093 - accuracy: 0.9278 - val_loss: 0.3400 - val_accuracy: 0.8981 - lr: 2.5000e-05\n",
      "Epoch 24/100\n",
      "355/355 [==============================] - 37s 103ms/step - loss: 0.1921 - accuracy: 0.9329 - val_loss: 0.3152 - val_accuracy: 0.9037 - lr: 2.5000e-05\n",
      "Epoch 25/100\n",
      "355/355 [==============================] - 37s 102ms/step - loss: 0.1850 - accuracy: 0.9382 - val_loss: 0.3661 - val_accuracy: 0.8861 - lr: 2.5000e-05\n",
      "Epoch 26/100\n",
      "355/355 [==============================] - 37s 102ms/step - loss: 0.1729 - accuracy: 0.9402 - val_loss: 0.2998 - val_accuracy: 0.9074 - lr: 2.5000e-05\n",
      "Epoch 27/100\n",
      "355/355 [==============================] - 37s 102ms/step - loss: 0.1808 - accuracy: 0.9391 - val_loss: 0.3199 - val_accuracy: 0.9009 - lr: 2.5000e-05\n",
      "Epoch 28/100\n",
      "355/355 [==============================] - 37s 102ms/step - loss: 0.1762 - accuracy: 0.9418 - val_loss: 0.3530 - val_accuracy: 0.8920 - lr: 2.5000e-05\n",
      "Epoch 29/100\n",
      "355/355 [==============================] - 37s 102ms/step - loss: 0.1531 - accuracy: 0.9449 - val_loss: 0.3273 - val_accuracy: 0.8969 - lr: 2.5000e-05\n",
      "Epoch 30/100\n",
      "355/355 [==============================] - 37s 102ms/step - loss: 0.1458 - accuracy: 0.9495 - val_loss: 0.2816 - val_accuracy: 0.9108 - lr: 1.2500e-05\n",
      "Epoch 31/100\n",
      "355/355 [==============================] - 37s 102ms/step - loss: 0.1280 - accuracy: 0.9568 - val_loss: 0.2898 - val_accuracy: 0.9111 - lr: 1.2500e-05\n",
      "Epoch 32/100\n",
      "355/355 [==============================] - 37s 102ms/step - loss: 0.1226 - accuracy: 0.9596 - val_loss: 0.2864 - val_accuracy: 0.9120 - lr: 1.2500e-05\n",
      "Epoch 33/100\n",
      "355/355 [==============================] - 37s 102ms/step - loss: 0.1229 - accuracy: 0.9557 - val_loss: 0.2876 - val_accuracy: 0.9127 - lr: 1.2500e-05\n",
      "Epoch 34/100\n",
      "355/355 [==============================] - 37s 102ms/step - loss: 0.1140 - accuracy: 0.9604 - val_loss: 0.2665 - val_accuracy: 0.9139 - lr: 6.2500e-06\n",
      "Epoch 35/100\n",
      "355/355 [==============================] - 37s 102ms/step - loss: 0.1129 - accuracy: 0.9627 - val_loss: 0.2660 - val_accuracy: 0.9154 - lr: 6.2500e-06\n",
      "Epoch 36/100\n",
      "355/355 [==============================] - 37s 102ms/step - loss: 0.1085 - accuracy: 0.9622 - val_loss: 0.2724 - val_accuracy: 0.9142 - lr: 6.2500e-06\n",
      "Epoch 37/100\n",
      "355/355 [==============================] - 37s 102ms/step - loss: 0.1074 - accuracy: 0.9623 - val_loss: 0.2617 - val_accuracy: 0.9191 - lr: 6.2500e-06\n",
      "Epoch 38/100\n",
      "355/355 [==============================] - 37s 102ms/step - loss: 0.1069 - accuracy: 0.9635 - val_loss: 0.2639 - val_accuracy: 0.9179 - lr: 6.2500e-06\n",
      "Epoch 39/100\n",
      "355/355 [==============================] - 37s 102ms/step - loss: 0.1057 - accuracy: 0.9635 - val_loss: 0.2708 - val_accuracy: 0.9170 - lr: 6.2500e-06\n",
      "Epoch 40/100\n",
      "355/355 [==============================] - 37s 102ms/step - loss: 0.1037 - accuracy: 0.9655 - val_loss: 0.2635 - val_accuracy: 0.9201 - lr: 6.2500e-06\n",
      "Epoch 41/100\n",
      "355/355 [==============================] - 37s 102ms/step - loss: 0.0982 - accuracy: 0.9669 - val_loss: 0.2585 - val_accuracy: 0.9210 - lr: 3.1250e-06\n",
      "Epoch 42/100\n",
      "355/355 [==============================] - 37s 102ms/step - loss: 0.0995 - accuracy: 0.9668 - val_loss: 0.2572 - val_accuracy: 0.9188 - lr: 3.1250e-06\n",
      "Epoch 43/100\n",
      "355/355 [==============================] - 37s 102ms/step - loss: 0.0994 - accuracy: 0.9670 - val_loss: 0.2566 - val_accuracy: 0.9222 - lr: 3.1250e-06\n",
      "Epoch 44/100\n",
      "355/355 [==============================] - 37s 102ms/step - loss: 0.0945 - accuracy: 0.9682 - val_loss: 0.2552 - val_accuracy: 0.9219 - lr: 3.1250e-06\n",
      "Epoch 45/100\n",
      "355/355 [==============================] - 37s 102ms/step - loss: 0.0942 - accuracy: 0.9683 - val_loss: 0.2547 - val_accuracy: 0.9219 - lr: 3.1250e-06\n",
      "Epoch 46/100\n",
      "355/355 [==============================] - 37s 102ms/step - loss: 0.0854 - accuracy: 0.9719 - val_loss: 0.2637 - val_accuracy: 0.9188 - lr: 3.1250e-06\n",
      "Epoch 47/100\n",
      "355/355 [==============================] - 37s 102ms/step - loss: 0.0962 - accuracy: 0.9670 - val_loss: 0.2549 - val_accuracy: 0.9222 - lr: 3.1250e-06\n",
      "Epoch 48/100\n",
      "355/355 [==============================] - 37s 102ms/step - loss: 0.0894 - accuracy: 0.9700 - val_loss: 0.2550 - val_accuracy: 0.9201 - lr: 3.1250e-06\n",
      "Epoch 49/100\n",
      "355/355 [==============================] - 37s 102ms/step - loss: 0.0880 - accuracy: 0.9698 - val_loss: 0.2523 - val_accuracy: 0.9222 - lr: 1.5625e-06\n",
      "Epoch 50/100\n",
      "355/355 [==============================] - 37s 102ms/step - loss: 0.0876 - accuracy: 0.9715 - val_loss: 0.2538 - val_accuracy: 0.9191 - lr: 1.5625e-06\n",
      "Epoch 51/100\n",
      "355/355 [==============================] - 37s 102ms/step - loss: 0.0860 - accuracy: 0.9712 - val_loss: 0.2540 - val_accuracy: 0.9207 - lr: 1.5625e-06\n",
      "Epoch 52/100\n",
      "355/355 [==============================] - 37s 102ms/step - loss: 0.0863 - accuracy: 0.9723 - val_loss: 0.2533 - val_accuracy: 0.9222 - lr: 1.5625e-06\n",
      "Epoch 53/100\n",
      "355/355 [==============================] - 37s 102ms/step - loss: 0.0890 - accuracy: 0.9703 - val_loss: 0.2532 - val_accuracy: 0.9235 - lr: 7.8125e-07\n",
      "Epoch 54/100\n",
      "355/355 [==============================] - 37s 102ms/step - loss: 0.0874 - accuracy: 0.9714 - val_loss: 0.2520 - val_accuracy: 0.9225 - lr: 7.8125e-07\n",
      "Epoch 55/100\n",
      "355/355 [==============================] - 37s 102ms/step - loss: 0.0879 - accuracy: 0.9694 - val_loss: 0.2502 - val_accuracy: 0.9238 - lr: 7.8125e-07\n",
      "Epoch 56/100\n",
      "355/355 [==============================] - 37s 102ms/step - loss: 0.0793 - accuracy: 0.9730 - val_loss: 0.2509 - val_accuracy: 0.9225 - lr: 7.8125e-07\n",
      "Epoch 57/100\n",
      "355/355 [==============================] - 37s 102ms/step - loss: 0.0881 - accuracy: 0.9711 - val_loss: 0.2507 - val_accuracy: 0.9228 - lr: 7.8125e-07\n",
      "Epoch 58/100\n",
      "355/355 [==============================] - 37s 102ms/step - loss: 0.0856 - accuracy: 0.9715 - val_loss: 0.2529 - val_accuracy: 0.9219 - lr: 7.8125e-07\n",
      "Epoch 59/100\n",
      "355/355 [==============================] - 37s 102ms/step - loss: 0.0784 - accuracy: 0.9737 - val_loss: 0.2514 - val_accuracy: 0.9219 - lr: 3.9062e-07\n",
      "Epoch 60/100\n",
      "355/355 [==============================] - 37s 102ms/step - loss: 0.0841 - accuracy: 0.9719 - val_loss: 0.2515 - val_accuracy: 0.9225 - lr: 3.9062e-07\n"
     ]
    }
   ],
   "source": [
    "history = model.fit(\n",
    "    train_dataset,\n",
    "    validation_data=validation_dataset,\n",
    "    epochs=100,\n",
    "    callbacks=callbacks,   # EarlyStopping, ReduceLROnPlateau 설정\n",
    "    batch_size=batch_size)"
   ]
  },
  {
   "cell_type": "code",
   "execution_count": 10,
   "id": "5140a285",
   "metadata": {},
   "outputs": [
    {
     "data": {
      "image/png": "[encoded data removed]",
      "text/plain": [
       "<Figure size 1500x500 with 2 Axes>"
      ]
     },
     "metadata": {},
     "output_type": "display_data"
    }
   ],
   "source": [
    "# 훈련 정확도와 손실 그래프 생성\n",
    "import matplotlib.pyplot as plt \n",
    "\n",
    "acc = history.history['accuracy'][:-5]           \n",
    "val_acc = history.history['val_accuracy'][:-5]   \n",
    "loss = history.history['loss'][:-5]              \n",
    "val_loss = history.history['val_loss'][:-5]      \n",
    "epochs_range = range(1, len(acc) + 1)\n",
    "\n",
    "plt.figure(figsize=(15, 5))\n",
    "plt.subplot(1, 2, 1)\n",
    "plt.plot(epochs_range, acc, label='Training Accuracy')\n",
    "plt.plot(epochs_range, val_acc, label='Validation Accuracy')\n",
    "plt.title('Training and Validation Accuracy')\n",
    "plt.legend()\n",
    "\n",
    "plt.subplot(1, 2, 2)\n",
    "plt.plot(epochs_range, loss, label='Training Loss')\n",
    "plt.plot(epochs_range, val_loss, label='Validation Loss')\n",
    "plt.title('Training and Validation Loss')\n",
    "plt.legend()\n",
    "\n",
    "plt.show()"
   ]
  },
  {
   "cell_type": "markdown",
   "id": "ba874d13",
   "metadata": {},
   "source": [
    "# Analysis - Training & Validation\n",
    "## 불안정\n",
    "(compared to `3.ReduceLROnPlateau`)  \n",
    "약 25 Epoch 이후부터 안정적인 형태의 그래프\n",
    "\n",
    "---"
   ]
  },
  {
   "cell_type": "code",
   "execution_count": 11,
   "id": "526035cb",
   "metadata": {},
   "outputs": [
    {
     "name": "stdout",
     "output_type": "stream",
     "text": [
      "51/51 [==============================] - 3s 47ms/step - loss: 0.2751 - accuracy: 0.9074\n",
      "test accuracy: 0.9074074029922485\n",
      "test loss: 0.275071918964386\n"
     ]
    }
   ],
   "source": [
    "test_loss, test_acc = model.evaluate(test_dataset)\n",
    "\n",
    "print(f\"test accuracy: {test_acc}\")\n",
    "print(f\"test loss: {test_loss}\")"
   ]
  },
  {
   "cell_type": "markdown",
   "id": "0482c46e",
   "metadata": {},
   "source": [
    "# Analysis - Test\n",
    "(compared to `3.ReduceLROnPlateau`)  \n",
    "Accuracy : 89.4% → 90.7%  \n",
    "Loss : 0.3665 → 0.2751  \n",
    "성능 소폭 향상"
   ]
  }
 ],
 "metadata": {
  "kernelspec": {
   "display_name": "Python 3 (ipykernel)",
   "language": "python",
   "name": "python3"
  },
  "language_info": {
   "codemirror_mode": {
    "name": "ipython",
    "version": 3
   },
   "file_extension": ".py",
   "mimetype": "text/x-python",
   "name": "python",
   "nbconvert_exporter": "python",
   "pygments_lexer": "ipython3",
   "version": "3.8.10"
  }
 },
 "nbformat": 4,
 "nbformat_minor": 5
}
