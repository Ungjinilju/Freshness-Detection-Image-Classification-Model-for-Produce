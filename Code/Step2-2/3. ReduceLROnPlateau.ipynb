{
 "cells": [
  {
   "cell_type": "markdown",
   "id": "5a3b0bc4",
   "metadata": {},
   "source": [
    "# Guide\n",
    "## Data\n",
    "[[Google Drive] /Data/Final/Step2-2.zip](https://drive.google.com/file/d/19ARNrbgWSn-Wi5k7uXKehJnzmvbIRThv/view?usp=sharing)\n",
    "## Code\n",
    "In [3] `base_dir` : 실제 데이터 경로로 변경 필요\n",
    "\n",
    "---"
   ]
  },
  {
   "cell_type": "markdown",
   "id": "c1738ab3",
   "metadata": {},
   "source": [
    "# Purpose\n",
    "- 모델 성능 향상  \n",
    "- validation 그래프 진동 폭 감소  \n",
    "\n",
    "## Alternation\n",
    "(compared to `2-3. Add_Conv2D_Dense`)  \n",
    "ReduceLROnPlateau 추가"
   ]
  },
  {
   "cell_type": "code",
   "execution_count": 1,
   "id": "41fb8089",
   "metadata": {},
   "outputs": [
    {
     "name": "stderr",
     "output_type": "stream",
     "text": [
      "2024-11-23 14:20:59.715320: I tensorflow/core/platform/cpu_feature_guard.cc:182] This TensorFlow binary is optimized to use available CPU instructions in performance-critical operations.\n",
      "To enable the following instructions: AVX2 FMA, in other operations, rebuild TensorFlow with the appropriate compiler flags.\n"
     ]
    }
   ],
   "source": [
    "from tensorflow import keras\n",
    "from tensorflow.keras import layers, optimizers\n",
    "import os"
   ]
  },
  {
   "cell_type": "code",
   "execution_count": 2,
   "id": "e199e2cc",
   "metadata": {},
   "outputs": [],
   "source": [
    "image_size = (400, 400)\n",
    "batch_size = 32"
   ]
  },
  {
   "cell_type": "code",
   "execution_count": 3,
   "id": "897fc118",
   "metadata": {},
   "outputs": [
    {
     "name": "stdout",
     "output_type": "stream",
     "text": [
      "Found 11340 files belonging to 18 classes.\n",
      "Found 3240 files belonging to 18 classes.\n",
      "Found 1620 files belonging to 18 classes.\n"
     ]
    },
    {
     "name": "stderr",
     "output_type": "stream",
     "text": [
      "2024-11-23 14:21:01.468665: I tensorflow/compiler/xla/stream_executor/cuda/cuda_gpu_executor.cc:995] successful NUMA node read from SysFS had negative value (-1), but there must be at least one NUMA node, so returning NUMA node zero. See more at https://github.com/torvalds/linux/blob/v6.0/Documentation/ABI/testing/sysfs-bus-pci#L344-L355\n",
      "2024-11-23 14:21:01.472018: I tensorflow/compiler/xla/stream_executor/cuda/cuda_gpu_executor.cc:995] successful NUMA node read from SysFS had negative value (-1), but there must be at least one NUMA node, so returning NUMA node zero. See more at https://github.com/torvalds/linux/blob/v6.0/Documentation/ABI/testing/sysfs-bus-pci#L344-L355\n",
      "2024-11-23 14:21:01.472103: I tensorflow/compiler/xla/stream_executor/cuda/cuda_gpu_executor.cc:995] successful NUMA node read from SysFS had negative value (-1), but there must be at least one NUMA node, so returning NUMA node zero. See more at https://github.com/torvalds/linux/blob/v6.0/Documentation/ABI/testing/sysfs-bus-pci#L344-L355\n",
      "2024-11-23 14:21:01.472765: I tensorflow/compiler/xla/stream_executor/cuda/cuda_gpu_executor.cc:995] successful NUMA node read from SysFS had negative value (-1), but there must be at least one NUMA node, so returning NUMA node zero. See more at https://github.com/torvalds/linux/blob/v6.0/Documentation/ABI/testing/sysfs-bus-pci#L344-L355\n",
      "2024-11-23 14:21:01.472858: I tensorflow/compiler/xla/stream_executor/cuda/cuda_gpu_executor.cc:995] successful NUMA node read from SysFS had negative value (-1), but there must be at least one NUMA node, so returning NUMA node zero. See more at https://github.com/torvalds/linux/blob/v6.0/Documentation/ABI/testing/sysfs-bus-pci#L344-L355\n",
      "2024-11-23 14:21:01.472925: I tensorflow/compiler/xla/stream_executor/cuda/cuda_gpu_executor.cc:995] successful NUMA node read from SysFS had negative value (-1), but there must be at least one NUMA node, so returning NUMA node zero. See more at https://github.com/torvalds/linux/blob/v6.0/Documentation/ABI/testing/sysfs-bus-pci#L344-L355\n",
      "2024-11-23 14:21:01.525568: I tensorflow/compiler/xla/stream_executor/cuda/cuda_gpu_executor.cc:995] successful NUMA node read from SysFS had negative value (-1), but there must be at least one NUMA node, so returning NUMA node zero. See more at https://github.com/torvalds/linux/blob/v6.0/Documentation/ABI/testing/sysfs-bus-pci#L344-L355\n",
      "2024-11-23 14:21:01.525686: I tensorflow/compiler/xla/stream_executor/cuda/cuda_gpu_executor.cc:995] successful NUMA node read from SysFS had negative value (-1), but there must be at least one NUMA node, so returning NUMA node zero. See more at https://github.com/torvalds/linux/blob/v6.0/Documentation/ABI/testing/sysfs-bus-pci#L344-L355\n",
      "2024-11-23 14:21:01.525763: I tensorflow/compiler/xla/stream_executor/cuda/cuda_gpu_executor.cc:995] successful NUMA node read from SysFS had negative value (-1), but there must be at least one NUMA node, so returning NUMA node zero. See more at https://github.com/torvalds/linux/blob/v6.0/Documentation/ABI/testing/sysfs-bus-pci#L344-L355\n",
      "2024-11-23 14:21:01.525827: I tensorflow/core/common_runtime/gpu/gpu_device.cc:1639] Created device /job:localhost/replica:0/task:0/device:GPU:0 with 22207 MB memory:  -> device: 0, name: NVIDIA GeForce RTX 4090, pci bus id: 0000:01:00.0, compute capability: 8.9\n"
     ]
    }
   ],
   "source": [
    "# 데이터셋 로드\n",
    "from tensorflow.keras.utils import image_dataset_from_directory\n",
    "\n",
    "# 실제 데이터의 경로로 변경 필요\n",
    "base_dir = \"/tf/Fixed_Data/Data_Final/Step2-2\"\n",
    "\n",
    "train_dataset = image_dataset_from_directory(\n",
    "    os.path.join(base_dir, 'train'),\n",
    "    image_size=image_size,\n",
    "    batch_size=batch_size)\n",
    "\n",
    "validation_dataset = image_dataset_from_directory(\n",
    "    os.path.join(base_dir, 'validation'),\n",
    "    image_size=image_size,\n",
    "    batch_size=batch_size)\n",
    "\n",
    "test_dataset = image_dataset_from_directory(\n",
    "    os.path.join(base_dir, 'test'),\n",
    "    image_size=image_size,\n",
    "    batch_size=batch_size)"
   ]
  },
  {
   "cell_type": "code",
   "execution_count": 4,
   "id": "13d6a102",
   "metadata": {},
   "outputs": [],
   "source": [
    "# 모델 레이어 구성\n",
    "inputs = keras.Input(shape=(400, 400, 3))\n",
    "\n",
    "x = layers.Rescaling(1./255)(inputs)\n",
    "\n",
    "x = layers.Conv2D(filters=32, kernel_size=3)(inputs)\n",
    "x = layers.BatchNormalization()(x)\n",
    "x = layers.ReLU()(x)\n",
    "x = layers.MaxPooling2D(pool_size=2)(x)\n",
    "\n",
    "x = layers.Conv2D(filters=64, kernel_size=3)(x)\n",
    "x = layers.BatchNormalization()(x)\n",
    "x = layers.ReLU()(x)\n",
    "x = layers.MaxPooling2D(pool_size=2)(x)\n",
    "\n",
    "x = layers.Conv2D(filters=128, kernel_size=3)(x)\n",
    "x = layers.BatchNormalization()(x)\n",
    "x = layers.ReLU()(x)\n",
    "x = layers.MaxPooling2D(pool_size=2)(x)\n",
    "\n",
    "x = layers.Conv2D(filters=256, kernel_size=3)(x)\n",
    "x = layers.Conv2D(filters=256, kernel_size=3)(x)   \n",
    "x = layers.BatchNormalization()(x)\n",
    "x = layers.ReLU()(x)\n",
    "x = layers.MaxPooling2D(pool_size=2)(x)\n",
    "\n",
    "x = layers.Conv2D(filters=512, kernel_size=3)(x)\n",
    "x = layers.BatchNormalization()(x)\n",
    "x = layers.ReLU()(x)\n",
    "x = layers.Dropout(0.3)(x)\n",
    "x = layers.MaxPooling2D(pool_size=2)(x)\n",
    "\n",
    "x = layers.Flatten()(x)\n",
    "x = layers.Dense(512, activation = \"relu\")(x)\n",
    "x = layers.Dropout(0.3)(x)\n",
    "x = layers.Dense(256, activation = \"relu\")(x)   \n",
    "\n",
    "outputs = layers.Dense(18, activation=\"softmax\")(x)\n",
    "\n",
    "model = keras.Model(inputs=inputs, outputs=outputs)"
   ]
  },
  {
   "cell_type": "code",
   "execution_count": 5,
   "id": "e9b56638",
   "metadata": {},
   "outputs": [
    {
     "name": "stdout",
     "output_type": "stream",
     "text": [
      "Model: \"model\"\n",
      "_________________________________________________________________\n",
      " Layer (type)                Output Shape              Param #   \n",
      "=================================================================\n",
      " input_1 (InputLayer)        [(None, 400, 400, 3)]     0         \n",
      "                                                                 \n",
      " conv2d (Conv2D)             (None, 398, 398, 32)      896       \n",
      "                                                                 \n",
      " batch_normalization (Batch  (None, 398, 398, 32)      128       \n",
      " Normalization)                                                  \n",
      "                                                                 \n",
      " re_lu (ReLU)                (None, 398, 398, 32)      0         \n",
      "                                                                 \n",
      " max_pooling2d (MaxPooling2  (None, 199, 199, 32)      0         \n",
      " D)                                                              \n",
      "                                                                 \n",
      " conv2d_1 (Conv2D)           (None, 197, 197, 64)      18496     \n",
      "                                                                 \n",
      " batch_normalization_1 (Bat  (None, 197, 197, 64)      256       \n",
      " chNormalization)                                                \n",
      "                                                                 \n",
      " re_lu_1 (ReLU)              (None, 197, 197, 64)      0         \n",
      "                                                                 \n",
      " max_pooling2d_1 (MaxPoolin  (None, 98, 98, 64)        0         \n",
      " g2D)                                                            \n",
      "                                                                 \n",
      " conv2d_2 (Conv2D)           (None, 96, 96, 128)       73856     \n",
      "                                                                 \n",
      " batch_normalization_2 (Bat  (None, 96, 96, 128)       512       \n",
      " chNormalization)                                                \n",
      "                                                                 \n",
      " re_lu_2 (ReLU)              (None, 96, 96, 128)       0         \n",
      "                                                                 \n",
      " max_pooling2d_2 (MaxPoolin  (None, 48, 48, 128)       0         \n",
      " g2D)                                                            \n",
      "                                                                 \n",
      " conv2d_3 (Conv2D)           (None, 46, 46, 256)       295168    \n",
      "                                                                 \n",
      " conv2d_4 (Conv2D)           (None, 44, 44, 256)       590080    \n",
      "                                                                 \n",
      " batch_normalization_3 (Bat  (None, 44, 44, 256)       1024      \n",
      " chNormalization)                                                \n",
      "                                                                 \n",
      " re_lu_3 (ReLU)              (None, 44, 44, 256)       0         \n",
      "                                                                 \n",
      " max_pooling2d_3 (MaxPoolin  (None, 22, 22, 256)       0         \n",
      " g2D)                                                            \n",
      "                                                                 \n",
      " conv2d_5 (Conv2D)           (None, 20, 20, 512)       1180160   \n",
      "                                                                 \n",
      " batch_normalization_4 (Bat  (None, 20, 20, 512)       2048      \n",
      " chNormalization)                                                \n",
      "                                                                 \n",
      " re_lu_4 (ReLU)              (None, 20, 20, 512)       0         \n",
      "                                                                 \n",
      " dropout (Dropout)           (None, 20, 20, 512)       0         \n",
      "                                                                 \n",
      " max_pooling2d_4 (MaxPoolin  (None, 10, 10, 512)       0         \n",
      " g2D)                                                            \n",
      "                                                                 \n",
      " flatten (Flatten)           (None, 51200)             0         \n",
      "                                                                 \n",
      " dense (Dense)               (None, 512)               26214912  \n",
      "                                                                 \n",
      " dropout_1 (Dropout)         (None, 512)               0         \n",
      "                                                                 \n",
      " dense_1 (Dense)             (None, 256)               131328    \n",
      "                                                                 \n",
      " dense_2 (Dense)             (None, 18)                4626      \n",
      "                                                                 \n",
      "=================================================================\n",
      "Total params: 28513490 (108.77 MB)\n",
      "Trainable params: 28511506 (108.76 MB)\n",
      "Non-trainable params: 1984 (7.75 KB)\n",
      "_________________________________________________________________\n"
     ]
    }
   ],
   "source": [
    "model.summary()"
   ]
  },
  {
   "cell_type": "code",
   "execution_count": 6,
   "id": "d1cf17fb",
   "metadata": {},
   "outputs": [],
   "source": [
    "# 학습률 및 옵티마이저 설정\n",
    "optimizer = optimizers.RMSprop(learning_rate=1e-4)\n",
    "\n",
    "# 모델 컴파일\n",
    "model.compile(optimizer=optimizer,\n",
    "              loss='sparse_categorical_crossentropy',\n",
    "              metrics=['accuracy'])"
   ]
  },
  {
   "cell_type": "code",
   "execution_count": 7,
   "id": "79cefeec",
   "metadata": {},
   "outputs": [],
   "source": [
    "from tensorflow.keras.callbacks import EarlyStopping\n",
    "\n",
    "# EarlyStopping 콜백 설정\n",
    "early_stopping = EarlyStopping(\n",
    "    monitor='val_loss',       # 검증 손실을 기준으로 학습 중단\n",
    "    patience=5,               # 성능이 개선되지 않는 에포크 수 (5회 연속 개선 없을 시 중단)\n",
    "    restore_best_weights=True # 최적의 가중치 복원\n",
    ")"
   ]
  },
  {
   "cell_type": "markdown",
   "id": "741f6621",
   "metadata": {},
   "source": [
    "## ReduceLROnPlateau\n",
    "\n",
    "### Source\n",
    "[[Keras] ReduceLROnPlateau](https://keras.io/api/callbacks/reduce_lr_on_plateau/)"
   ]
  },
  {
   "cell_type": "code",
   "execution_count": 8,
   "id": "81d716fc",
   "metadata": {},
   "outputs": [],
   "source": [
    "callbacks = [keras.callbacks.ReduceLROnPlateau(\n",
    "                                monitor='val_loss',   # 검증 손실 기준\n",
    "                                factor=0.5,           # 학습률 절반으로 감소\n",
    "                                patience=3            # 3회 연속 개선 없을 경우\n",
    "            ),\n",
    "            early_stopping]"
   ]
  },
  {
   "cell_type": "code",
   "execution_count": 9,
   "id": "5a695bf4",
   "metadata": {
    "scrolled": true
   },
   "outputs": [
    {
     "name": "stdout",
     "output_type": "stream",
     "text": [
      "Epoch 1/100\n"
     ]
    },
    {
     "name": "stderr",
     "output_type": "stream",
     "text": [
      "2024-11-23 14:21:02.913748: E tensorflow/core/grappler/optimizers/meta_optimizer.cc:954] layout failed: INVALID_ARGUMENT: Size of values 0 does not match size of permutation 4 @ fanin shape inmodel/dropout/dropout/SelectV2-2-TransposeNHWCToNCHW-LayoutOptimizer\n",
      "2024-11-23 14:21:03.501315: I tensorflow/compiler/xla/stream_executor/cuda/cuda_dnn.cc:432] Loaded cuDNN version 8600\n",
      "2024-11-23 14:21:04.009908: I tensorflow/compiler/xla/stream_executor/cuda/cuda_blas.cc:606] TensorFloat-32 will be used for the matrix multiplication. This will only be logged once.\n",
      "2024-11-23 14:21:04.053312: I tensorflow/compiler/xla/service/service.cc:168] XLA service 0x7f0e3f72ae70 initialized for platform CUDA (this does not guarantee that XLA will be used). Devices:\n",
      "2024-11-23 14:21:04.053333: I tensorflow/compiler/xla/service/service.cc:176]   StreamExecutor device (0): NVIDIA GeForce RTX 4090, Compute Capability 8.9\n",
      "2024-11-23 14:21:04.056426: I tensorflow/compiler/mlir/tensorflow/utils/dump_mlir_util.cc:255] disabling MLIR crash reproducer, set env var `MLIR_CRASH_REPRODUCER_DIRECTORY` to enable.\n",
      "2024-11-23 14:21:04.127711: I ./tensorflow/compiler/jit/device_compiler.h:186] Compiled cluster using XLA!  This line is logged at most once for the lifetime of the process.\n"
     ]
    },
    {
     "name": "stdout",
     "output_type": "stream",
     "text": [
      "355/355 [==============================] - 42s 105ms/step - loss: 1.8695 - accuracy: 0.4828 - val_loss: 1.0376 - val_accuracy: 0.6577 - lr: 1.0000e-04\n",
      "Epoch 2/100\n",
      "355/355 [==============================] - 36s 102ms/step - loss: 1.1635 - accuracy: 0.6335 - val_loss: 1.0569 - val_accuracy: 0.6543 - lr: 1.0000e-04\n",
      "Epoch 3/100\n",
      "355/355 [==============================] - 37s 102ms/step - loss: 0.9871 - accuracy: 0.6892 - val_loss: 0.9731 - val_accuracy: 0.6923 - lr: 1.0000e-04\n",
      "Epoch 4/100\n",
      "355/355 [==============================] - 37s 102ms/step - loss: 0.8627 - accuracy: 0.7255 - val_loss: 0.8614 - val_accuracy: 0.7241 - lr: 1.0000e-04\n",
      "Epoch 5/100\n",
      "355/355 [==============================] - 36s 102ms/step - loss: 0.7759 - accuracy: 0.7603 - val_loss: 0.6726 - val_accuracy: 0.7926 - lr: 1.0000e-04\n",
      "Epoch 6/100\n",
      "355/355 [==============================] - 37s 102ms/step - loss: 0.6863 - accuracy: 0.7802 - val_loss: 0.7110 - val_accuracy: 0.7738 - lr: 1.0000e-04\n",
      "Epoch 7/100\n",
      "355/355 [==============================] - 37s 102ms/step - loss: 0.6395 - accuracy: 0.7915 - val_loss: 0.6666 - val_accuracy: 0.7917 - lr: 1.0000e-04\n",
      "Epoch 8/100\n",
      "355/355 [==============================] - 36s 102ms/step - loss: 0.5870 - accuracy: 0.8106 - val_loss: 0.8440 - val_accuracy: 0.7679 - lr: 1.0000e-04\n",
      "Epoch 9/100\n",
      "355/355 [==============================] - 37s 102ms/step - loss: 0.5560 - accuracy: 0.8211 - val_loss: 0.6973 - val_accuracy: 0.7892 - lr: 1.0000e-04\n",
      "Epoch 10/100\n",
      "355/355 [==============================] - 37s 102ms/step - loss: 0.5156 - accuracy: 0.8311 - val_loss: 0.5517 - val_accuracy: 0.8194 - lr: 1.0000e-04\n",
      "Epoch 11/100\n",
      "355/355 [==============================] - 37s 102ms/step - loss: 0.4701 - accuracy: 0.8472 - val_loss: 0.5295 - val_accuracy: 0.8299 - lr: 1.0000e-04\n",
      "Epoch 12/100\n",
      "355/355 [==============================] - 37s 102ms/step - loss: 0.4260 - accuracy: 0.8588 - val_loss: 0.6496 - val_accuracy: 0.7997 - lr: 1.0000e-04\n",
      "Epoch 13/100\n",
      "355/355 [==============================] - 37s 102ms/step - loss: 0.4231 - accuracy: 0.8660 - val_loss: 0.4818 - val_accuracy: 0.8540 - lr: 1.0000e-04\n",
      "Epoch 14/100\n",
      "355/355 [==============================] - 36s 102ms/step - loss: 0.3918 - accuracy: 0.8743 - val_loss: 0.6483 - val_accuracy: 0.7994 - lr: 1.0000e-04\n",
      "Epoch 15/100\n",
      "355/355 [==============================] - 36s 101ms/step - loss: 0.3508 - accuracy: 0.8841 - val_loss: 0.5549 - val_accuracy: 0.8259 - lr: 1.0000e-04\n",
      "Epoch 16/100\n",
      "355/355 [==============================] - 37s 102ms/step - loss: 0.3424 - accuracy: 0.8879 - val_loss: 0.4663 - val_accuracy: 0.8556 - lr: 1.0000e-04\n",
      "Epoch 17/100\n",
      "355/355 [==============================] - 36s 101ms/step - loss: 0.3137 - accuracy: 0.8959 - val_loss: 0.7267 - val_accuracy: 0.7978 - lr: 1.0000e-04\n",
      "Epoch 18/100\n",
      "355/355 [==============================] - 37s 102ms/step - loss: 0.2971 - accuracy: 0.9059 - val_loss: 0.4949 - val_accuracy: 0.8596 - lr: 1.0000e-04\n",
      "Epoch 19/100\n",
      "355/355 [==============================] - 37s 102ms/step - loss: 0.2989 - accuracy: 0.9052 - val_loss: 0.6030 - val_accuracy: 0.8426 - lr: 1.0000e-04\n",
      "Epoch 20/100\n",
      "355/355 [==============================] - 37s 102ms/step - loss: 0.1780 - accuracy: 0.9407 - val_loss: 0.4541 - val_accuracy: 0.8738 - lr: 5.0000e-05\n",
      "Epoch 21/100\n",
      "355/355 [==============================] - 36s 102ms/step - loss: 0.1503 - accuracy: 0.9488 - val_loss: 0.3824 - val_accuracy: 0.8852 - lr: 5.0000e-05\n",
      "Epoch 22/100\n",
      "355/355 [==============================] - 37s 102ms/step - loss: 0.1344 - accuracy: 0.9534 - val_loss: 0.4561 - val_accuracy: 0.8642 - lr: 5.0000e-05\n",
      "Epoch 23/100\n",
      "355/355 [==============================] - 37s 102ms/step - loss: 0.1332 - accuracy: 0.9563 - val_loss: 0.3268 - val_accuracy: 0.8991 - lr: 5.0000e-05\n",
      "Epoch 24/100\n",
      "355/355 [==============================] - 36s 101ms/step - loss: 0.1231 - accuracy: 0.9587 - val_loss: 0.3794 - val_accuracy: 0.8917 - lr: 5.0000e-05\n",
      "Epoch 25/100\n",
      "355/355 [==============================] - 36s 102ms/step - loss: 0.1172 - accuracy: 0.9604 - val_loss: 0.3271 - val_accuracy: 0.8963 - lr: 5.0000e-05\n",
      "Epoch 26/100\n",
      "355/355 [==============================] - 37s 102ms/step - loss: 0.1172 - accuracy: 0.9602 - val_loss: 0.3601 - val_accuracy: 0.8929 - lr: 5.0000e-05\n",
      "Epoch 27/100\n",
      "355/355 [==============================] - 36s 102ms/step - loss: 0.0748 - accuracy: 0.9753 - val_loss: 0.3379 - val_accuracy: 0.9022 - lr: 2.5000e-05\n",
      "Epoch 28/100\n",
      "355/355 [==============================] - 37s 102ms/step - loss: 0.0704 - accuracy: 0.9761 - val_loss: 0.3476 - val_accuracy: 0.8991 - lr: 2.5000e-05\n"
     ]
    }
   ],
   "source": [
    "history = model.fit(\n",
    "    train_dataset,\n",
    "    validation_data=validation_dataset,\n",
    "    epochs=100,\n",
    "    callbacks=callbacks,   # EarlyStopping, ReduceLROnPlateau 설정\n",
    "    batch_size=batch_size)"
   ]
  },
  {
   "cell_type": "code",
   "execution_count": 10,
   "id": "5140a285",
   "metadata": {},
   "outputs": [
    {
     "data": {
      "image/png": "[encoded data removed]",
      "text/plain": [
       "<Figure size 1500x500 with 2 Axes>"
      ]
     },
     "metadata": {},
     "output_type": "display_data"
    }
   ],
   "source": [
    "# 훈련 정확도와 손실 그래프 생성\n",
    "import matplotlib.pyplot as plt \n",
    "\n",
    "acc = history.history['accuracy'][:-5]           \n",
    "val_acc = history.history['val_accuracy'][:-5]  \n",
    "loss = history.history['loss'][:-5]             \n",
    "val_loss = history.history['val_loss'][:-5] \n",
    "epochs_range = range(1, len(acc) + 1)\n",
    "\n",
    "plt.figure(figsize=(15, 5))\n",
    "plt.subplot(1, 2, 1)\n",
    "plt.plot(epochs_range, acc, label='Training Accuracy')\n",
    "plt.plot(epochs_range, val_acc, label='Validation Accuracy')\n",
    "plt.title('Training and Validation Accuracy')\n",
    "plt.legend()\n",
    "\n",
    "plt.subplot(1, 2, 2)\n",
    "plt.plot(epochs_range, loss, label='Training Loss')\n",
    "plt.plot(epochs_range, val_loss, label='Validation Loss')\n",
    "plt.title('Training and Validation Loss')\n",
    "plt.legend()\n",
    "\n",
    "plt.show()"
   ]
  },
  {
   "cell_type": "markdown",
   "id": "ba874d13",
   "metadata": {},
   "source": [
    "# Analysis - Training & Validation\n",
    "## 불안정\n",
    "validation 그래프가 약간 진동하며 불안정한 형태  \n",
    "\n",
    "---"
   ]
  },
  {
   "cell_type": "code",
   "execution_count": 11,
   "id": "526035cb",
   "metadata": {},
   "outputs": [
    {
     "name": "stdout",
     "output_type": "stream",
     "text": [
      "51/51 [==============================] - 3s 46ms/step - loss: 0.3665 - accuracy: 0.8944\n",
      "test accuracy: 0.894444465637207\n",
      "test loss: 0.36650779843330383\n"
     ]
    }
   ],
   "source": [
    "test_loss, test_acc = model.evaluate(test_dataset)\n",
    "\n",
    "print(f\"test accuracy: {test_acc}\")\n",
    "print(f\"test loss: {test_loss}\")"
   ]
  },
  {
   "cell_type": "markdown",
   "id": "0482c46e",
   "metadata": {},
   "source": [
    "# Analysis - Test\n",
    "(compared to `2-3. Add_Conv2D_Dense`)  \n",
    "Accuracy : 87.0% → 89.4%  \n",
    "Loss : 0.4432 → 0.3665  \n",
    "validation 그래프의 진동은 여전히 있으나 성능은 향상됨"
   ]
  }
 ],
 "metadata": {
  "kernelspec": {
   "display_name": "Python 3 (ipykernel)",
   "language": "python",
   "name": "python3"
  },
  "language_info": {
   "codemirror_mode": {
    "name": "ipython",
    "version": 3
   },
   "file_extension": ".py",
   "mimetype": "text/x-python",
   "name": "python",
   "nbconvert_exporter": "python",
   "pygments_lexer": "ipython3",
   "version": "3.8.10"
  }
 },
 "nbformat": 4,
 "nbformat_minor": 5
}
