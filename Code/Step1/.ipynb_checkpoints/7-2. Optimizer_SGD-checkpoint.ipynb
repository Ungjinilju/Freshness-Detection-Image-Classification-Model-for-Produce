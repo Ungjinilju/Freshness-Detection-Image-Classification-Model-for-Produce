{
 "cells": [
  {
   "cell_type": "markdown",
   "id": "5a3b0bc4",
   "metadata": {},
   "source": [
    "# Guide\n",
    "## Data\n",
    "[[Google Drive] /Data/Initial/Step1.zip](https://drive.google.com/file/d/1LpnhjeBOoLH-QwbVOovCk-OpdpmIQAaZ/view?usp=sharing?usp=sharing)\n",
    "## Code\n",
    "In [3] `base_dir` : 실제 데이터 경로로 변경 필요\n",
    "\n",
    "---"
   ]
  },
  {
   "cell_type": "markdown",
   "id": "c1738ab3",
   "metadata": {},
   "source": [
    "# Purpose\n",
    "Validation Accuracy, Loss 그래프의 진동 폭 감소\n",
    "\n",
    "## Alternation\n",
    "(compared to) `6. Change_Conv2D_Dense` 모델  \n",
    "Optimizer : RMSprop → Adagrad"
   ]
  },
  {
   "cell_type": "code",
   "execution_count": 1,
   "id": "41fb8089",
   "metadata": {},
   "outputs": [
    {
     "name": "stderr",
     "output_type": "stream",
     "text": [
      "2024-11-21 06:10:32.341112: I tensorflow/core/platform/cpu_feature_guard.cc:182] This TensorFlow binary is optimized to use available CPU instructions in performance-critical operations.\n",
      "To enable the following instructions: AVX2 FMA, in other operations, rebuild TensorFlow with the appropriate compiler flags.\n"
     ]
    }
   ],
   "source": [
    "from tensorflow import keras\n",
    "from tensorflow.keras import layers, optimizers\n",
    "import os"
   ]
  },
  {
   "cell_type": "code",
   "execution_count": 2,
   "id": "e199e2cc",
   "metadata": {},
   "outputs": [],
   "source": [
    "image_size = (400, 400)\n",
    "batch_size = 32"
   ]
  },
  {
   "cell_type": "code",
   "execution_count": 3,
   "id": "897fc118",
   "metadata": {},
   "outputs": [
    {
     "name": "stdout",
     "output_type": "stream",
     "text": [
      "Found 1732 files belonging to 2 classes.\n",
      "Found 494 files belonging to 2 classes.\n",
      "Found 249 files belonging to 2 classes.\n"
     ]
    },
    {
     "name": "stderr",
     "output_type": "stream",
     "text": [
      "2024-11-21 06:10:33.716002: I tensorflow/compiler/xla/stream_executor/cuda/cuda_gpu_executor.cc:995] successful NUMA node read from SysFS had negative value (-1), but there must be at least one NUMA node, so returning NUMA node zero. See more at https://github.com/torvalds/linux/blob/v6.0/Documentation/ABI/testing/sysfs-bus-pci#L344-L355\n",
      "2024-11-21 06:10:33.719256: I tensorflow/compiler/xla/stream_executor/cuda/cuda_gpu_executor.cc:995] successful NUMA node read from SysFS had negative value (-1), but there must be at least one NUMA node, so returning NUMA node zero. See more at https://github.com/torvalds/linux/blob/v6.0/Documentation/ABI/testing/sysfs-bus-pci#L344-L355\n",
      "2024-11-21 06:10:33.719343: I tensorflow/compiler/xla/stream_executor/cuda/cuda_gpu_executor.cc:995] successful NUMA node read from SysFS had negative value (-1), but there must be at least one NUMA node, so returning NUMA node zero. See more at https://github.com/torvalds/linux/blob/v6.0/Documentation/ABI/testing/sysfs-bus-pci#L344-L355\n",
      "2024-11-21 06:10:33.719990: I tensorflow/compiler/xla/stream_executor/cuda/cuda_gpu_executor.cc:995] successful NUMA node read from SysFS had negative value (-1), but there must be at least one NUMA node, so returning NUMA node zero. See more at https://github.com/torvalds/linux/blob/v6.0/Documentation/ABI/testing/sysfs-bus-pci#L344-L355\n",
      "2024-11-21 06:10:33.720085: I tensorflow/compiler/xla/stream_executor/cuda/cuda_gpu_executor.cc:995] successful NUMA node read from SysFS had negative value (-1), but there must be at least one NUMA node, so returning NUMA node zero. See more at https://github.com/torvalds/linux/blob/v6.0/Documentation/ABI/testing/sysfs-bus-pci#L344-L355\n",
      "2024-11-21 06:10:33.720156: I tensorflow/compiler/xla/stream_executor/cuda/cuda_gpu_executor.cc:995] successful NUMA node read from SysFS had negative value (-1), but there must be at least one NUMA node, so returning NUMA node zero. See more at https://github.com/torvalds/linux/blob/v6.0/Documentation/ABI/testing/sysfs-bus-pci#L344-L355\n",
      "2024-11-21 06:10:33.781371: I tensorflow/compiler/xla/stream_executor/cuda/cuda_gpu_executor.cc:995] successful NUMA node read from SysFS had negative value (-1), but there must be at least one NUMA node, so returning NUMA node zero. See more at https://github.com/torvalds/linux/blob/v6.0/Documentation/ABI/testing/sysfs-bus-pci#L344-L355\n",
      "2024-11-21 06:10:33.781483: I tensorflow/compiler/xla/stream_executor/cuda/cuda_gpu_executor.cc:995] successful NUMA node read from SysFS had negative value (-1), but there must be at least one NUMA node, so returning NUMA node zero. See more at https://github.com/torvalds/linux/blob/v6.0/Documentation/ABI/testing/sysfs-bus-pci#L344-L355\n",
      "2024-11-21 06:10:33.781562: I tensorflow/compiler/xla/stream_executor/cuda/cuda_gpu_executor.cc:995] successful NUMA node read from SysFS had negative value (-1), but there must be at least one NUMA node, so returning NUMA node zero. See more at https://github.com/torvalds/linux/blob/v6.0/Documentation/ABI/testing/sysfs-bus-pci#L344-L355\n",
      "2024-11-21 06:10:33.781628: I tensorflow/core/common_runtime/gpu/gpu_device.cc:1639] Created device /job:localhost/replica:0/task:0/device:GPU:0 with 22209 MB memory:  -> device: 0, name: NVIDIA GeForce RTX 4090, pci bus id: 0000:01:00.0, compute capability: 8.9\n"
     ]
    }
   ],
   "source": [
    "# 데이터셋 로드\n",
    "from tensorflow.keras.utils import image_dataset_from_directory\n",
    "\n",
    "# 실제 데이터의 경로로 변경 필요\n",
    "base_dir = \"/tf/Fixed_Data/Data_Initial/Step1\"\n",
    "\n",
    "train_dataset = image_dataset_from_directory(\n",
    "    os.path.join(base_dir, 'train'),\n",
    "    image_size=image_size,\n",
    "    batch_size=batch_size)\n",
    "\n",
    "validation_dataset = image_dataset_from_directory(\n",
    "    os.path.join(base_dir, 'validation'),\n",
    "    image_size=image_size,\n",
    "    batch_size=batch_size)\n",
    "\n",
    "test_dataset = image_dataset_from_directory(\n",
    "    os.path.join(base_dir, 'test'),\n",
    "    image_size=image_size,\n",
    "    batch_size=batch_size)"
   ]
  },
  {
   "cell_type": "code",
   "execution_count": 4,
   "id": "13d6a102",
   "metadata": {},
   "outputs": [],
   "source": [
    "# 모델 레이어 구성\n",
    "inputs = keras.Input(shape=(400, 400, 3))\n",
    "\n",
    "x = layers.Rescaling(1./255)(inputs)\n",
    "\n",
    "x = layers.Conv2D(filters=32, kernel_size=3)(inputs)\n",
    "x = layers.BatchNormalization()(x)\n",
    "x = layers.ReLU()(x)\n",
    "x = layers.MaxPooling2D(pool_size=2)(x)\n",
    "\n",
    "x = layers.Conv2D(filters=64, kernel_size=3)(x)\n",
    "x = layers.BatchNormalization()(x)\n",
    "x = layers.ReLU()(x)\n",
    "x = layers.MaxPooling2D(pool_size=2)(x)\n",
    "\n",
    "x = layers.Conv2D(filters=128, kernel_size=3)(x)\n",
    "x = layers.BatchNormalization()(x)\n",
    "x = layers.ReLU()(x)\n",
    "x = layers.MaxPooling2D(pool_size=2)(x)\n",
    "\n",
    "x = layers.Conv2D(filters=256, kernel_size=3)(x)\n",
    "x = layers.BatchNormalization()(x)\n",
    "x = layers.ReLU()(x)\n",
    "x = layers.Dropout(0.25)(x)\n",
    "x = layers.MaxPooling2D(pool_size=2)(x)\n",
    "\n",
    "x = layers.Flatten()(x)\n",
    "x = layers.Dense(256, activation = \"relu\")(x)\n",
    "x = layers.Dropout(0.25)(x)\n",
    "\n",
    "outputs = layers.Dense(1, activation=\"sigmoid\")(x)\n",
    "\n",
    "model = keras.Model(inputs=inputs, outputs=outputs)"
   ]
  },
  {
   "cell_type": "code",
   "execution_count": 5,
   "id": "e9b56638",
   "metadata": {},
   "outputs": [
    {
     "name": "stdout",
     "output_type": "stream",
     "text": [
      "Model: \"model\"\n",
      "_________________________________________________________________\n",
      " Layer (type)                Output Shape              Param #   \n",
      "=================================================================\n",
      " input_1 (InputLayer)        [(None, 400, 400, 3)]     0         \n",
      "                                                                 \n",
      " conv2d (Conv2D)             (None, 398, 398, 32)      896       \n",
      "                                                                 \n",
      " batch_normalization (Batch  (None, 398, 398, 32)      128       \n",
      " Normalization)                                                  \n",
      "                                                                 \n",
      " re_lu (ReLU)                (None, 398, 398, 32)      0         \n",
      "                                                                 \n",
      " max_pooling2d (MaxPooling2  (None, 199, 199, 32)      0         \n",
      " D)                                                              \n",
      "                                                                 \n",
      " conv2d_1 (Conv2D)           (None, 197, 197, 64)      18496     \n",
      "                                                                 \n",
      " batch_normalization_1 (Bat  (None, 197, 197, 64)      256       \n",
      " chNormalization)                                                \n",
      "                                                                 \n",
      " re_lu_1 (ReLU)              (None, 197, 197, 64)      0         \n",
      "                                                                 \n",
      " max_pooling2d_1 (MaxPoolin  (None, 98, 98, 64)        0         \n",
      " g2D)                                                            \n",
      "                                                                 \n",
      " conv2d_2 (Conv2D)           (None, 96, 96, 128)       73856     \n",
      "                                                                 \n",
      " batch_normalization_2 (Bat  (None, 96, 96, 128)       512       \n",
      " chNormalization)                                                \n",
      "                                                                 \n",
      " re_lu_2 (ReLU)              (None, 96, 96, 128)       0         \n",
      "                                                                 \n",
      " max_pooling2d_2 (MaxPoolin  (None, 48, 48, 128)       0         \n",
      " g2D)                                                            \n",
      "                                                                 \n",
      " conv2d_3 (Conv2D)           (None, 46, 46, 256)       295168    \n",
      "                                                                 \n",
      " batch_normalization_3 (Bat  (None, 46, 46, 256)       1024      \n",
      " chNormalization)                                                \n",
      "                                                                 \n",
      " re_lu_3 (ReLU)              (None, 46, 46, 256)       0         \n",
      "                                                                 \n",
      " dropout (Dropout)           (None, 46, 46, 256)       0         \n",
      "                                                                 \n",
      " max_pooling2d_3 (MaxPoolin  (None, 23, 23, 256)       0         \n",
      " g2D)                                                            \n",
      "                                                                 \n",
      " flatten (Flatten)           (None, 135424)            0         \n",
      "                                                                 \n",
      " dense (Dense)               (None, 256)               34668800  \n",
      "                                                                 \n",
      " dropout_1 (Dropout)         (None, 256)               0         \n",
      "                                                                 \n",
      " dense_1 (Dense)             (None, 1)                 257       \n",
      "                                                                 \n",
      "=================================================================\n",
      "Total params: 35059393 (133.74 MB)\n",
      "Trainable params: 35058433 (133.74 MB)\n",
      "Non-trainable params: 960 (3.75 KB)\n",
      "_________________________________________________________________\n"
     ]
    }
   ],
   "source": [
    "model.summary()"
   ]
  },
  {
   "cell_type": "markdown",
   "id": "99eda92d",
   "metadata": {},
   "source": [
    "### Optimizer 변경"
   ]
  },
  {
   "cell_type": "code",
   "execution_count": 6,
   "id": "d1cf17fb",
   "metadata": {},
   "outputs": [],
   "source": [
    "# 학습률 설정\n",
    "# optimizer = optimizers.RMSprop(learning_rate=1e-4)\n",
    "# 옵티마이저 변경\n",
    "optimizer = optimizers.SGD(learning_rate=1e-4, momentum=0.9)\n",
    "\n",
    "# 모델 컴파일\n",
    "model.compile(optimizer=optimizer,\n",
    "              loss='binary_crossentropy',\n",
    "              metrics=['accuracy'])"
   ]
  },
  {
   "cell_type": "code",
   "execution_count": 7,
   "id": "79cefeec",
   "metadata": {},
   "outputs": [],
   "source": [
    "from tensorflow.keras.callbacks import EarlyStopping\n",
    "\n",
    "# EarlyStopping 콜백 설정\n",
    "early_stopping = EarlyStopping(\n",
    "    monitor='val_loss',       # 검증 손실을 기준으로 학습 중단\n",
    "    patience=5,               # 성능이 개선되지 않는 에포크 수 (5회 연속 개선 없을 시 중단)\n",
    "    restore_best_weights=True # 최적의 가중치 복원\n",
    ")"
   ]
  },
  {
   "cell_type": "code",
   "execution_count": 8,
   "id": "5a695bf4",
   "metadata": {},
   "outputs": [
    {
     "name": "stdout",
     "output_type": "stream",
     "text": [
      "Epoch 1/100\n"
     ]
    },
    {
     "name": "stderr",
     "output_type": "stream",
     "text": [
      "2024-11-21 06:10:34.816864: E tensorflow/core/grappler/optimizers/meta_optimizer.cc:954] layout failed: INVALID_ARGUMENT: Size of values 0 does not match size of permutation 4 @ fanin shape inmodel/dropout/dropout/SelectV2-2-TransposeNHWCToNCHW-LayoutOptimizer\n",
      "2024-11-21 06:10:35.355565: I tensorflow/compiler/xla/stream_executor/cuda/cuda_dnn.cc:432] Loaded cuDNN version 8600\n",
      "2024-11-21 06:10:35.782340: I tensorflow/compiler/xla/stream_executor/cuda/cuda_blas.cc:606] TensorFloat-32 will be used for the matrix multiplication. This will only be logged once.\n",
      "2024-11-21 06:10:35.797609: I tensorflow/compiler/xla/service/service.cc:168] XLA service 0x7f1594c10530 initialized for platform CUDA (this does not guarantee that XLA will be used). Devices:\n",
      "2024-11-21 06:10:35.797630: I tensorflow/compiler/xla/service/service.cc:176]   StreamExecutor device (0): NVIDIA GeForce RTX 4090, Compute Capability 8.9\n",
      "2024-11-21 06:10:35.838614: I ./tensorflow/compiler/jit/device_compiler.h:186] Compiled cluster using XLA!  This line is logged at most once for the lifetime of the process.\n"
     ]
    },
    {
     "name": "stdout",
     "output_type": "stream",
     "text": [
      "55/55 [==============================] - 9s 112ms/step - loss: 0.5528 - accuracy: 0.7691 - val_loss: 0.6685 - val_accuracy: 0.4939\n",
      "Epoch 2/100\n",
      "55/55 [==============================] - 6s 102ms/step - loss: 0.2701 - accuracy: 0.8891 - val_loss: 0.5615 - val_accuracy: 0.7328\n",
      "Epoch 3/100\n",
      "55/55 [==============================] - 6s 102ms/step - loss: 0.1952 - accuracy: 0.9232 - val_loss: 0.4188 - val_accuracy: 0.8462\n",
      "Epoch 4/100\n",
      "55/55 [==============================] - 6s 102ms/step - loss: 0.1513 - accuracy: 0.9382 - val_loss: 0.3023 - val_accuracy: 0.8947\n",
      "Epoch 5/100\n",
      "55/55 [==============================] - 6s 103ms/step - loss: 0.1262 - accuracy: 0.9544 - val_loss: 0.2623 - val_accuracy: 0.9008\n",
      "Epoch 6/100\n",
      "55/55 [==============================] - 6s 102ms/step - loss: 0.1251 - accuracy: 0.9509 - val_loss: 0.2043 - val_accuracy: 0.9312\n",
      "Epoch 7/100\n",
      "55/55 [==============================] - 6s 101ms/step - loss: 0.0844 - accuracy: 0.9775 - val_loss: 0.1773 - val_accuracy: 0.9372\n",
      "Epoch 8/100\n",
      "55/55 [==============================] - 6s 102ms/step - loss: 0.0927 - accuracy: 0.9717 - val_loss: 0.1682 - val_accuracy: 0.9312\n",
      "Epoch 9/100\n",
      "55/55 [==============================] - 6s 102ms/step - loss: 0.0685 - accuracy: 0.9798 - val_loss: 0.1638 - val_accuracy: 0.9474\n",
      "Epoch 10/100\n",
      "55/55 [==============================] - 6s 103ms/step - loss: 0.0523 - accuracy: 0.9890 - val_loss: 0.1585 - val_accuracy: 0.9332\n",
      "Epoch 11/100\n",
      "55/55 [==============================] - 6s 102ms/step - loss: 0.0590 - accuracy: 0.9873 - val_loss: 0.1523 - val_accuracy: 0.9494\n",
      "Epoch 12/100\n",
      "55/55 [==============================] - 6s 101ms/step - loss: 0.0392 - accuracy: 0.9896 - val_loss: 0.1462 - val_accuracy: 0.9433\n",
      "Epoch 13/100\n",
      "55/55 [==============================] - 6s 102ms/step - loss: 0.0360 - accuracy: 0.9913 - val_loss: 0.1394 - val_accuracy: 0.9474\n",
      "Epoch 14/100\n",
      "55/55 [==============================] - 6s 102ms/step - loss: 0.0319 - accuracy: 0.9954 - val_loss: 0.1385 - val_accuracy: 0.9494\n",
      "Epoch 15/100\n",
      "55/55 [==============================] - 6s 103ms/step - loss: 0.0316 - accuracy: 0.9948 - val_loss: 0.1547 - val_accuracy: 0.9332\n",
      "Epoch 16/100\n",
      "55/55 [==============================] - 6s 106ms/step - loss: 0.0267 - accuracy: 0.9954 - val_loss: 0.1326 - val_accuracy: 0.9474\n",
      "Epoch 17/100\n",
      "55/55 [==============================] - 6s 104ms/step - loss: 0.0286 - accuracy: 0.9925 - val_loss: 0.1750 - val_accuracy: 0.9190\n",
      "Epoch 18/100\n",
      "55/55 [==============================] - 6s 108ms/step - loss: 0.0327 - accuracy: 0.9925 - val_loss: 0.1326 - val_accuracy: 0.9494\n",
      "Epoch 19/100\n",
      "55/55 [==============================] - 6s 107ms/step - loss: 0.0250 - accuracy: 0.9965 - val_loss: 0.1367 - val_accuracy: 0.9413\n",
      "Epoch 20/100\n",
      "55/55 [==============================] - 6s 110ms/step - loss: 0.0210 - accuracy: 0.9971 - val_loss: 0.1397 - val_accuracy: 0.9474\n",
      "Epoch 21/100\n",
      "55/55 [==============================] - 6s 104ms/step - loss: 0.0185 - accuracy: 0.9971 - val_loss: 0.1360 - val_accuracy: 0.9555\n"
     ]
    }
   ],
   "source": [
    "history = model.fit(\n",
    "    train_dataset,\n",
    "    validation_data=validation_dataset,\n",
    "    epochs=100,\n",
    "    callbacks=[early_stopping],\n",
    "    batch_size=batch_size)"
   ]
  },
  {
   "cell_type": "code",
   "execution_count": 9,
   "id": "5140a285",
   "metadata": {},
   "outputs": [
    {
     "data": {
      "image/png": "[encoded data removed]",
      "text/plain": [
       "<Figure size 1500x500 with 2 Axes>"
      ]
     },
     "metadata": {},
     "output_type": "display_data"
    }
   ],
   "source": [
    "# 훈련 정확도와 손실 그래프 생성\n",
    "import matplotlib.pyplot as plt \n",
    "\n",
    "acc = history.history['accuracy']\n",
    "val_acc = history.history['val_accuracy']\n",
    "loss = history.history['loss']\n",
    "val_loss = history.history['val_loss']\n",
    "epochs_range = range(1, len(acc) + 1)\n",
    "\n",
    "plt.figure(figsize=(15, 5))\n",
    "plt.subplot(1, 2, 1)\n",
    "plt.plot(epochs_range, acc, label='Training Accuracy')\n",
    "plt.plot(epochs_range, val_acc, label='Validation Accuracy')\n",
    "plt.title('Training and Validation Accuracy')\n",
    "plt.legend()\n",
    "\n",
    "plt.subplot(1, 2, 2)\n",
    "plt.plot(epochs_range, loss, label='Training Loss')\n",
    "plt.plot(epochs_range, val_loss, label='Validation Loss')\n",
    "plt.title('Training and Validation Loss')\n",
    "plt.legend()\n",
    "\n",
    "plt.show()"
   ]
  },
  {
   "cell_type": "markdown",
   "id": "ba874d13",
   "metadata": {},
   "source": [
    "# Analysis - Training & Validation\n",
    "\n",
    "## 불안정\n",
    "진동폭이 확연하게 줄어들었음\n",
    "\n",
    "---"
   ]
  },
  {
   "cell_type": "code",
   "execution_count": 10,
   "id": "526035cb",
   "metadata": {},
   "outputs": [
    {
     "name": "stdout",
     "output_type": "stream",
     "text": [
      "8/8 [==============================] - 1s 59ms/step - loss: 0.1398 - accuracy: 0.9558\n",
      "test accuracy: 0.9558233022689819\n",
      "test loss: 0.13983052968978882\n"
     ]
    }
   ],
   "source": [
    "test_loss, test_acc = model.evaluate(test_dataset)\n",
    "\n",
    "print(f\"test accuracy: {test_acc}\")\n",
    "print(f\"test loss: {test_loss}\")"
   ]
  },
  {
   "cell_type": "markdown",
   "id": "0482c46e",
   "metadata": {},
   "source": [
    "# Analysis - Test\n",
    "(compared to `6. Change_Conv2D_Dense`)  \n",
    "Accuracy : 96.4% → 95.6%  \n",
    "Loss : 0.1188 → 0.1398  \n",
    "비슷한 수준의 성능"
   ]
  }
 ],
 "metadata": {
  "kernelspec": {
   "display_name": "Python 3 (ipykernel)",
   "language": "python",
   "name": "python3"
  },
  "language_info": {
   "codemirror_mode": {
    "name": "ipython",
    "version": 3
   },
   "file_extension": ".py",
   "mimetype": "text/x-python",
   "name": "python",
   "nbconvert_exporter": "python",
   "pygments_lexer": "ipython3",
   "version": "3.8.10"
  }
 },
 "nbformat": 4,
 "nbformat_minor": 5
}
