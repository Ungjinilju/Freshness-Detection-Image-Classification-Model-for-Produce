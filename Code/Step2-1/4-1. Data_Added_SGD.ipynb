{
 "cells": [
  {
   "cell_type": "markdown",
   "id": "5a3b0bc4",
   "metadata": {},
   "source": [
    "# Guide\n",
    "## Data\n",
    "[[Google Drive] /Data/Final/Step2-1.zip](https://drive.google.com/file/d/1KjVfu9UgvK0_tZtuOcJmaRCn44CtYxUq/view?usp=sharing)\n",
    "## Code\n",
    "In [3] `base_dir` : 실제 데이터 경로로 변경 필요\n",
    "\n",
    "---"
   ]
  },
  {
   "cell_type": "markdown",
   "id": "c1738ab3",
   "metadata": {},
   "source": [
    "# Purpose\n",
    "- 새로운 데이터 학습 결과 확인  \n",
    "- Step1 최종 모델 적용  \n",
    "[[Google Drive] /Code/Step1/9-3.Data_Added_SGD.ipynb](https://drive.google.com/file/d/1VDVs3Lc_BqxBOCRVwF-CbeA74BMa-Z3z/view?usp=sharing)\n",
    "\n",
    "## Alternation\n",
    "(compared to) `Step1/9-3.Data_Added_SGD` 모델  \n",
    "- Data: Data_Initial/Step2-1 → Data_Final/Step2-1\n",
    "- 2개의 클래스 분류 → 6개의 클래스 분류  \n",
    "⇒ 마지막 layer의 노드 수, activation, 손실 함수 변경  \n",
    "- `Conv2D(512)` layer 추가  \n",
    "→ `BatchNormalization`, `ReLU`, `MaxPooling` layer 추가  \n",
    "- `Dropout(0.25)` → `Dropout(0.3)`"
   ]
  },
  {
   "cell_type": "code",
   "execution_count": 1,
   "id": "41fb8089",
   "metadata": {},
   "outputs": [
    {
     "name": "stderr",
     "output_type": "stream",
     "text": [
      "2024-11-24 10:27:55.306427: I tensorflow/core/platform/cpu_feature_guard.cc:182] This TensorFlow binary is optimized to use available CPU instructions in performance-critical operations.\n",
      "To enable the following instructions: AVX2 FMA, in other operations, rebuild TensorFlow with the appropriate compiler flags.\n"
     ]
    }
   ],
   "source": [
    "from tensorflow import keras\n",
    "from tensorflow.keras import layers, optimizers\n",
    "import os"
   ]
  },
  {
   "cell_type": "code",
   "execution_count": 2,
   "id": "e199e2cc",
   "metadata": {},
   "outputs": [],
   "source": [
    "image_size = (400, 400)\n",
    "batch_size = 32"
   ]
  },
  {
   "cell_type": "markdown",
   "id": "19c030cc",
   "metadata": {},
   "source": [
    "### Data 변경"
   ]
  },
  {
   "cell_type": "code",
   "execution_count": 3,
   "id": "897fc118",
   "metadata": {},
   "outputs": [
    {
     "name": "stdout",
     "output_type": "stream",
     "text": [
      "Found 3780 files belonging to 6 classes.\n",
      "Found 1080 files belonging to 6 classes.\n",
      "Found 540 files belonging to 6 classes.\n"
     ]
    },
    {
     "name": "stderr",
     "output_type": "stream",
     "text": [
      "2024-11-24 10:27:56.749622: I tensorflow/compiler/xla/stream_executor/cuda/cuda_gpu_executor.cc:995] successful NUMA node read from SysFS had negative value (-1), but there must be at least one NUMA node, so returning NUMA node zero. See more at https://github.com/torvalds/linux/blob/v6.0/Documentation/ABI/testing/sysfs-bus-pci#L344-L355\n",
      "2024-11-24 10:27:56.752851: I tensorflow/compiler/xla/stream_executor/cuda/cuda_gpu_executor.cc:995] successful NUMA node read from SysFS had negative value (-1), but there must be at least one NUMA node, so returning NUMA node zero. See more at https://github.com/torvalds/linux/blob/v6.0/Documentation/ABI/testing/sysfs-bus-pci#L344-L355\n",
      "2024-11-24 10:27:56.752941: I tensorflow/compiler/xla/stream_executor/cuda/cuda_gpu_executor.cc:995] successful NUMA node read from SysFS had negative value (-1), but there must be at least one NUMA node, so returning NUMA node zero. See more at https://github.com/torvalds/linux/blob/v6.0/Documentation/ABI/testing/sysfs-bus-pci#L344-L355\n",
      "2024-11-24 10:27:56.753548: I tensorflow/compiler/xla/stream_executor/cuda/cuda_gpu_executor.cc:995] successful NUMA node read from SysFS had negative value (-1), but there must be at least one NUMA node, so returning NUMA node zero. See more at https://github.com/torvalds/linux/blob/v6.0/Documentation/ABI/testing/sysfs-bus-pci#L344-L355\n",
      "2024-11-24 10:27:56.753628: I tensorflow/compiler/xla/stream_executor/cuda/cuda_gpu_executor.cc:995] successful NUMA node read from SysFS had negative value (-1), but there must be at least one NUMA node, so returning NUMA node zero. See more at https://github.com/torvalds/linux/blob/v6.0/Documentation/ABI/testing/sysfs-bus-pci#L344-L355\n",
      "2024-11-24 10:27:56.753698: I tensorflow/compiler/xla/stream_executor/cuda/cuda_gpu_executor.cc:995] successful NUMA node read from SysFS had negative value (-1), but there must be at least one NUMA node, so returning NUMA node zero. See more at https://github.com/torvalds/linux/blob/v6.0/Documentation/ABI/testing/sysfs-bus-pci#L344-L355\n",
      "2024-11-24 10:27:56.812761: I tensorflow/compiler/xla/stream_executor/cuda/cuda_gpu_executor.cc:995] successful NUMA node read from SysFS had negative value (-1), but there must be at least one NUMA node, so returning NUMA node zero. See more at https://github.com/torvalds/linux/blob/v6.0/Documentation/ABI/testing/sysfs-bus-pci#L344-L355\n",
      "2024-11-24 10:27:56.812873: I tensorflow/compiler/xla/stream_executor/cuda/cuda_gpu_executor.cc:995] successful NUMA node read from SysFS had negative value (-1), but there must be at least one NUMA node, so returning NUMA node zero. See more at https://github.com/torvalds/linux/blob/v6.0/Documentation/ABI/testing/sysfs-bus-pci#L344-L355\n",
      "2024-11-24 10:27:56.812952: I tensorflow/compiler/xla/stream_executor/cuda/cuda_gpu_executor.cc:995] successful NUMA node read from SysFS had negative value (-1), but there must be at least one NUMA node, so returning NUMA node zero. See more at https://github.com/torvalds/linux/blob/v6.0/Documentation/ABI/testing/sysfs-bus-pci#L344-L355\n",
      "2024-11-24 10:27:56.813017: I tensorflow/core/common_runtime/gpu/gpu_device.cc:1639] Created device /job:localhost/replica:0/task:0/device:GPU:0 with 20894 MB memory:  -> device: 0, name: NVIDIA GeForce RTX 4090, pci bus id: 0000:01:00.0, compute capability: 8.9\n"
     ]
    }
   ],
   "source": [
    "# 데이터셋 로드\n",
    "from tensorflow.keras.utils import image_dataset_from_directory\n",
    "\n",
    "# 실제 데이터의 경로로 변경 필요\n",
    "base_dir = \"/tf/Fixed_Data/Data_Final/Step2-1\"   # Data_Final/Step1\n",
    "\n",
    "train_dataset = image_dataset_from_directory(\n",
    "    os.path.join(base_dir, 'train'),\n",
    "    image_size=image_size,\n",
    "    batch_size=batch_size)\n",
    "\n",
    "validation_dataset = image_dataset_from_directory(\n",
    "    os.path.join(base_dir, 'validation'),\n",
    "    image_size=image_size,\n",
    "    batch_size=batch_size)\n",
    "\n",
    "test_dataset = image_dataset_from_directory(\n",
    "    os.path.join(base_dir, 'test'),\n",
    "    image_size=image_size,\n",
    "    batch_size=batch_size)"
   ]
  },
  {
   "cell_type": "markdown",
   "id": "89ce66ea",
   "metadata": {},
   "source": [
    "### 모델 레이어 구성 변경"
   ]
  },
  {
   "cell_type": "code",
   "execution_count": 4,
   "id": "13d6a102",
   "metadata": {},
   "outputs": [],
   "source": [
    "# 모델 레이어 구성\n",
    "inputs = keras.Input(shape=(400, 400, 3))\n",
    "\n",
    "x = layers.Rescaling(1./255)(inputs)\n",
    "\n",
    "x = layers.Conv2D(filters=32, kernel_size=3)(inputs)\n",
    "x = layers.BatchNormalization()(x)\n",
    "x = layers.ReLU()(x)\n",
    "x = layers.MaxPooling2D(pool_size=2)(x)\n",
    "\n",
    "x = layers.Conv2D(filters=64, kernel_size=3)(x)\n",
    "x = layers.BatchNormalization()(x)\n",
    "x = layers.ReLU()(x)\n",
    "x = layers.MaxPooling2D(pool_size=2)(x)\n",
    "\n",
    "x = layers.Conv2D(filters=128, kernel_size=3)(x)\n",
    "x = layers.BatchNormalization()(x)\n",
    "x = layers.ReLU()(x)\n",
    "x = layers.MaxPooling2D(pool_size=2)(x)\n",
    "\n",
    "x = layers.Conv2D(filters=256, kernel_size=3)(x)\n",
    "x = layers.BatchNormalization()(x)\n",
    "x = layers.ReLU()(x)\n",
    "# x = layers.Dropout(0.25)(x)\n",
    "x = layers.MaxPooling2D(pool_size=2)(x)\n",
    "\n",
    "# 추가\n",
    "x = layers.Conv2D(filters=512, kernel_size=3)(x)\n",
    "x = layers.BatchNormalization()(x)\n",
    "x = layers.ReLU()(x)\n",
    "x = layers.Dropout(0.3)(x)\n",
    "x = layers.MaxPooling2D(pool_size=2)(x)\n",
    "\n",
    "x = layers.Flatten()(x)\n",
    "x = layers.Dense(256, activation = \"relu\")(x)\n",
    "x = layers.Dropout(0.3)(x)  # Dropout(0.25)\n",
    "\n",
    "# outputs = layers.Dense(1, activation=\"sigmoid\")(x)\n",
    "outputs = layers.Dense(6, activation=\"softmax\")(x)\n",
    "\n",
    "model = keras.Model(inputs=inputs, outputs=outputs)"
   ]
  },
  {
   "cell_type": "code",
   "execution_count": 5,
   "id": "e9b56638",
   "metadata": {},
   "outputs": [
    {
     "name": "stdout",
     "output_type": "stream",
     "text": [
      "Model: \"model\"\n",
      "_________________________________________________________________\n",
      " Layer (type)                Output Shape              Param #   \n",
      "=================================================================\n",
      " input_1 (InputLayer)        [(None, 400, 400, 3)]     0         \n",
      "                                                                 \n",
      " conv2d (Conv2D)             (None, 398, 398, 32)      896       \n",
      "                                                                 \n",
      " batch_normalization (Batch  (None, 398, 398, 32)      128       \n",
      " Normalization)                                                  \n",
      "                                                                 \n",
      " re_lu (ReLU)                (None, 398, 398, 32)      0         \n",
      "                                                                 \n",
      " max_pooling2d (MaxPooling2  (None, 199, 199, 32)      0         \n",
      " D)                                                              \n",
      "                                                                 \n",
      " conv2d_1 (Conv2D)           (None, 197, 197, 64)      18496     \n",
      "                                                                 \n",
      " batch_normalization_1 (Bat  (None, 197, 197, 64)      256       \n",
      " chNormalization)                                                \n",
      "                                                                 \n",
      " re_lu_1 (ReLU)              (None, 197, 197, 64)      0         \n",
      "                                                                 \n",
      " max_pooling2d_1 (MaxPoolin  (None, 98, 98, 64)        0         \n",
      " g2D)                                                            \n",
      "                                                                 \n",
      " conv2d_2 (Conv2D)           (None, 96, 96, 128)       73856     \n",
      "                                                                 \n",
      " batch_normalization_2 (Bat  (None, 96, 96, 128)       512       \n",
      " chNormalization)                                                \n",
      "                                                                 \n",
      " re_lu_2 (ReLU)              (None, 96, 96, 128)       0         \n",
      "                                                                 \n",
      " max_pooling2d_2 (MaxPoolin  (None, 48, 48, 128)       0         \n",
      " g2D)                                                            \n",
      "                                                                 \n",
      " conv2d_3 (Conv2D)           (None, 46, 46, 256)       295168    \n",
      "                                                                 \n",
      " batch_normalization_3 (Bat  (None, 46, 46, 256)       1024      \n",
      " chNormalization)                                                \n",
      "                                                                 \n",
      " re_lu_3 (ReLU)              (None, 46, 46, 256)       0         \n",
      "                                                                 \n",
      " max_pooling2d_3 (MaxPoolin  (None, 23, 23, 256)       0         \n",
      " g2D)                                                            \n",
      "                                                                 \n",
      " conv2d_4 (Conv2D)           (None, 21, 21, 512)       1180160   \n",
      "                                                                 \n",
      " batch_normalization_4 (Bat  (None, 21, 21, 512)       2048      \n",
      " chNormalization)                                                \n",
      "                                                                 \n",
      " re_lu_4 (ReLU)              (None, 21, 21, 512)       0         \n",
      "                                                                 \n",
      " dropout (Dropout)           (None, 21, 21, 512)       0         \n",
      "                                                                 \n",
      " max_pooling2d_4 (MaxPoolin  (None, 10, 10, 512)       0         \n",
      " g2D)                                                            \n",
      "                                                                 \n",
      " flatten (Flatten)           (None, 51200)             0         \n",
      "                                                                 \n",
      " dense (Dense)               (None, 256)               13107456  \n",
      "                                                                 \n",
      " dropout_1 (Dropout)         (None, 256)               0         \n",
      "                                                                 \n",
      " dense_1 (Dense)             (None, 6)                 1542      \n",
      "                                                                 \n",
      "=================================================================\n",
      "Total params: 14681542 (56.01 MB)\n",
      "Trainable params: 14679558 (56.00 MB)\n",
      "Non-trainable params: 1984 (7.75 KB)\n",
      "_________________________________________________________________\n"
     ]
    }
   ],
   "source": [
    "model.summary()"
   ]
  },
  {
   "cell_type": "markdown",
   "id": "dfcdaab4",
   "metadata": {},
   "source": [
    "### 손실함수 변경"
   ]
  },
  {
   "cell_type": "code",
   "execution_count": 6,
   "id": "d1cf17fb",
   "metadata": {},
   "outputs": [],
   "source": [
    "# 학습률 및 옵티마이저 설정\n",
    "optimizer = optimizers.SGD(learning_rate=1e-4, momentum=0.9)\n",
    "\n",
    "# 모델 컴파일\n",
    "model.compile(optimizer=optimizer,\n",
    "              loss='sparse_categorical_crossentropy',   # loss='binary_crossentropy'\n",
    "              metrics=['accuracy'])"
   ]
  },
  {
   "cell_type": "code",
   "execution_count": 7,
   "id": "79cefeec",
   "metadata": {},
   "outputs": [],
   "source": [
    "from tensorflow.keras.callbacks import EarlyStopping\n",
    "\n",
    "# EarlyStopping 콜백 설정\n",
    "early_stopping = EarlyStopping(\n",
    "    monitor='val_loss',       # 검증 손실을 기준으로 학습 중단\n",
    "    patience=5,               # 성능이 개선되지 않는 에포크 수 (5회 연속 개선 없을 시 중단)\n",
    "    restore_best_weights=True # 최적의 가중치 복원\n",
    ")"
   ]
  },
  {
   "cell_type": "code",
   "execution_count": 8,
   "id": "5a695bf4",
   "metadata": {},
   "outputs": [
    {
     "name": "stdout",
     "output_type": "stream",
     "text": [
      "Epoch 1/100\n"
     ]
    },
    {
     "name": "stderr",
     "output_type": "stream",
     "text": [
      "2024-11-24 10:27:57.959355: E tensorflow/core/grappler/optimizers/meta_optimizer.cc:954] layout failed: INVALID_ARGUMENT: Size of values 0 does not match size of permutation 4 @ fanin shape inmodel/dropout/dropout/SelectV2-2-TransposeNHWCToNCHW-LayoutOptimizer\n",
      "2024-11-24 10:27:58.541216: I tensorflow/compiler/xla/stream_executor/cuda/cuda_dnn.cc:432] Loaded cuDNN version 8600\n",
      "2024-11-24 10:27:59.051468: I tensorflow/compiler/xla/stream_executor/cuda/cuda_blas.cc:606] TensorFloat-32 will be used for the matrix multiplication. This will only be logged once.\n",
      "2024-11-24 10:27:59.069596: I tensorflow/compiler/xla/service/service.cc:168] XLA service 0x8d297d0 initialized for platform CUDA (this does not guarantee that XLA will be used). Devices:\n",
      "2024-11-24 10:27:59.069631: I tensorflow/compiler/xla/service/service.cc:176]   StreamExecutor device (0): NVIDIA GeForce RTX 4090, Compute Capability 8.9\n",
      "2024-11-24 10:27:59.112375: I ./tensorflow/compiler/jit/device_compiler.h:186] Compiled cluster using XLA!  This line is logged at most once for the lifetime of the process.\n"
     ]
    },
    {
     "name": "stdout",
     "output_type": "stream",
     "text": [
      "119/119 [==============================] - 16s 108ms/step - loss: 1.1053 - accuracy: 0.6153 - val_loss: 1.3354 - val_accuracy: 0.5398\n",
      "Epoch 2/100\n",
      "119/119 [==============================] - 12s 101ms/step - loss: 0.6028 - accuracy: 0.7706 - val_loss: 0.8907 - val_accuracy: 0.7019\n",
      "Epoch 3/100\n",
      "119/119 [==============================] - 12s 101ms/step - loss: 0.5095 - accuracy: 0.8140 - val_loss: 0.5311 - val_accuracy: 0.8417\n",
      "Epoch 4/100\n",
      "119/119 [==============================] - 12s 102ms/step - loss: 0.4130 - accuracy: 0.8487 - val_loss: 0.4985 - val_accuracy: 0.8380\n",
      "Epoch 5/100\n",
      "119/119 [==============================] - 12s 101ms/step - loss: 0.3478 - accuracy: 0.8728 - val_loss: 0.4705 - val_accuracy: 0.8417\n",
      "Epoch 6/100\n",
      "119/119 [==============================] - 12s 101ms/step - loss: 0.3289 - accuracy: 0.8839 - val_loss: 0.5095 - val_accuracy: 0.8278\n",
      "Epoch 7/100\n",
      "119/119 [==============================] - 12s 101ms/step - loss: 0.2817 - accuracy: 0.9032 - val_loss: 0.4598 - val_accuracy: 0.8333\n",
      "Epoch 8/100\n",
      "119/119 [==============================] - 12s 101ms/step - loss: 0.2758 - accuracy: 0.9019 - val_loss: 0.4559 - val_accuracy: 0.8454\n",
      "Epoch 9/100\n",
      "119/119 [==============================] - 12s 101ms/step - loss: 0.2465 - accuracy: 0.9114 - val_loss: 0.3763 - val_accuracy: 0.8676\n",
      "Epoch 10/100\n",
      "119/119 [==============================] - 13s 102ms/step - loss: 0.1897 - accuracy: 0.9357 - val_loss: 0.3644 - val_accuracy: 0.8713\n",
      "Epoch 11/100\n",
      "119/119 [==============================] - 12s 101ms/step - loss: 0.1717 - accuracy: 0.9452 - val_loss: 0.3347 - val_accuracy: 0.8759\n",
      "Epoch 12/100\n",
      "119/119 [==============================] - 12s 101ms/step - loss: 0.1753 - accuracy: 0.9394 - val_loss: 0.3584 - val_accuracy: 0.8741\n",
      "Epoch 13/100\n",
      "119/119 [==============================] - 12s 102ms/step - loss: 0.1402 - accuracy: 0.9569 - val_loss: 0.3468 - val_accuracy: 0.8806\n",
      "Epoch 14/100\n",
      "119/119 [==============================] - 12s 101ms/step - loss: 0.1271 - accuracy: 0.9587 - val_loss: 0.3377 - val_accuracy: 0.8833\n",
      "Epoch 15/100\n",
      "119/119 [==============================] - 12s 101ms/step - loss: 0.1393 - accuracy: 0.9558 - val_loss: 0.3394 - val_accuracy: 0.8796\n",
      "Epoch 16/100\n",
      "119/119 [==============================] - 12s 101ms/step - loss: 0.1318 - accuracy: 0.9563 - val_loss: 0.3298 - val_accuracy: 0.8741\n",
      "Epoch 17/100\n",
      "119/119 [==============================] - 12s 101ms/step - loss: 0.1031 - accuracy: 0.9712 - val_loss: 0.3434 - val_accuracy: 0.8741\n",
      "Epoch 18/100\n",
      "119/119 [==============================] - 13s 106ms/step - loss: 0.0967 - accuracy: 0.9733 - val_loss: 0.3855 - val_accuracy: 0.8611\n",
      "Epoch 19/100\n",
      "119/119 [==============================] - 16s 128ms/step - loss: 0.1488 - accuracy: 0.9476 - val_loss: 0.3272 - val_accuracy: 0.8759\n",
      "Epoch 20/100\n",
      "119/119 [==============================] - 15s 124ms/step - loss: 0.0898 - accuracy: 0.9709 - val_loss: 0.3219 - val_accuracy: 0.8833\n",
      "Epoch 21/100\n",
      "119/119 [==============================] - 16s 131ms/step - loss: 0.1074 - accuracy: 0.9680 - val_loss: 0.3249 - val_accuracy: 0.8815\n",
      "Epoch 22/100\n",
      "119/119 [==============================] - 16s 132ms/step - loss: 0.0885 - accuracy: 0.9749 - val_loss: 0.3222 - val_accuracy: 0.8880\n",
      "Epoch 23/100\n",
      "119/119 [==============================] - 16s 133ms/step - loss: 0.0695 - accuracy: 0.9825 - val_loss: 0.2986 - val_accuracy: 0.8861\n",
      "Epoch 24/100\n",
      "119/119 [==============================] - 16s 132ms/step - loss: 0.0643 - accuracy: 0.9847 - val_loss: 0.2848 - val_accuracy: 0.8935\n",
      "Epoch 25/100\n",
      "119/119 [==============================] - 16s 132ms/step - loss: 0.0648 - accuracy: 0.9828 - val_loss: 0.2864 - val_accuracy: 0.8935\n",
      "Epoch 26/100\n",
      "119/119 [==============================] - 16s 131ms/step - loss: 0.0670 - accuracy: 0.9817 - val_loss: 0.2951 - val_accuracy: 0.8889\n",
      "Epoch 27/100\n",
      "119/119 [==============================] - 16s 134ms/step - loss: 0.0673 - accuracy: 0.9810 - val_loss: 0.3089 - val_accuracy: 0.8796\n",
      "Epoch 28/100\n",
      "119/119 [==============================] - 13s 107ms/step - loss: 0.0709 - accuracy: 0.9810 - val_loss: 0.3147 - val_accuracy: 0.8824\n",
      "Epoch 29/100\n",
      "119/119 [==============================] - 13s 102ms/step - loss: 0.0523 - accuracy: 0.9873 - val_loss: 0.2874 - val_accuracy: 0.8907\n"
     ]
    }
   ],
   "source": [
    "history = model.fit(\n",
    "    train_dataset,\n",
    "    validation_data=validation_dataset,\n",
    "    epochs=100,\n",
    "    callbacks=[early_stopping],\n",
    "    batch_size=batch_size)"
   ]
  },
  {
   "cell_type": "code",
   "execution_count": 9,
   "id": "5140a285",
   "metadata": {},
   "outputs": [
    {
     "data": {
      "image/png": "[encoded data removed]",
      "text/plain": [
       "<Figure size 1500x500 with 2 Axes>"
      ]
     },
     "metadata": {},
     "output_type": "display_data"
    }
   ],
   "source": [
    "# 훈련 정확도와 손실 그래프 생성\n",
    "import matplotlib.pyplot as plt \n",
    "\n",
    "acc = history.history['accuracy']\n",
    "val_acc = history.history['val_accuracy']\n",
    "loss = history.history['loss']\n",
    "val_loss = history.history['val_loss']\n",
    "epochs_range = range(1, len(acc) + 1)\n",
    "\n",
    "plt.figure(figsize=(15, 5))\n",
    "plt.subplot(1, 2, 1)\n",
    "plt.plot(epochs_range, acc, label='Training Accuracy')\n",
    "plt.plot(epochs_range, val_acc, label='Validation Accuracy')\n",
    "plt.title('Training and Validation Accuracy')\n",
    "plt.legend()\n",
    "\n",
    "plt.subplot(1, 2, 2)\n",
    "plt.plot(epochs_range, loss, label='Training Loss')\n",
    "plt.plot(epochs_range, val_loss, label='Validation Loss')\n",
    "plt.title('Training and Validation Loss')\n",
    "plt.legend()\n",
    "\n",
    "plt.show()"
   ]
  },
  {
   "cell_type": "markdown",
   "id": "ba874d13",
   "metadata": {},
   "source": [
    "# Analysis - Training & Validation\n",
    "## 과적합 \n",
    "후반 Epoch에서 training과 validation 그래프의 차이가 큰 편  \n",
    "\n",
    "---"
   ]
  },
  {
   "cell_type": "code",
   "execution_count": 10,
   "id": "526035cb",
   "metadata": {},
   "outputs": [
    {
     "name": "stdout",
     "output_type": "stream",
     "text": [
      "17/17 [==============================] - 1s 59ms/step - loss: 0.2913 - accuracy: 0.8759\n",
      "test accuracy: 0.8759258985519409\n",
      "test loss: 0.2913450598716736\n"
     ]
    }
   ],
   "source": [
    "test_loss, test_acc = model.evaluate(test_dataset)\n",
    "\n",
    "print(f\"test accuracy: {test_acc}\")\n",
    "print(f\"test loss: {test_loss}\")"
   ]
  },
  {
   "cell_type": "markdown",
   "id": "dfb57640",
   "metadata": {},
   "source": [
    "# Analysis - Test\n",
    "(compared to) `Step1/9-3.Data_Added_SGD` 모델  \n",
    "Accuracy : 93.9% → 87.6%  \n",
    "Loss : 0.1712 → 0.2913  \n",
    "클래스의 증가로 성능이 감소한 것으로 추측됨"
   ]
  }
 ],
 "metadata": {
  "kernelspec": {
   "display_name": "Python 3 (ipykernel)",
   "language": "python",
   "name": "python3"
  },
  "language_info": {
   "codemirror_mode": {
    "name": "ipython",
    "version": 3
   },
   "file_extension": ".py",
   "mimetype": "text/x-python",
   "name": "python",
   "nbconvert_exporter": "python",
   "pygments_lexer": "ipython3",
   "version": "3.8.10"
  }
 },
 "nbformat": 4,
 "nbformat_minor": 5
}
