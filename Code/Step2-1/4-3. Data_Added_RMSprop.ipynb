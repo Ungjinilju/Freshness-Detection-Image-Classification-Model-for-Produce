{
 "cells": [
  {
   "cell_type": "markdown",
   "id": "5a3b0bc4",
   "metadata": {},
   "source": [
    "# Guide\n",
    "## Data\n",
    "[[Google Drive] /Data/Final/Step2-1.zip](https://drive.google.com/file/d/1KjVfu9UgvK0_tZtuOcJmaRCn44CtYxUq/view?usp=sharing)\n",
    "## Code\n",
    "In [3] `base_dir` : 실제 데이터 경로로 변경 필요\n",
    "\n",
    "---"
   ]
  },
  {
   "cell_type": "markdown",
   "id": "c1738ab3",
   "metadata": {},
   "source": [
    "# Purpose\n",
    "새로운 데이터 학습 결과 확인\n",
    "\n",
    "## Alternation\n",
    "(compared to) `2. Add_Conv2D_Increase_DropoutRatio` 모델  \n",
    "Data: Data_Initial/Step2-1 → Data_Final/Step2-1"
   ]
  },
  {
   "cell_type": "code",
   "execution_count": 1,
   "id": "41fb8089",
   "metadata": {},
   "outputs": [
    {
     "name": "stderr",
     "output_type": "stream",
     "text": [
      "2024-11-22 20:30:16.782870: I tensorflow/core/platform/cpu_feature_guard.cc:182] This TensorFlow binary is optimized to use available CPU instructions in performance-critical operations.\n",
      "To enable the following instructions: AVX2 FMA, in other operations, rebuild TensorFlow with the appropriate compiler flags.\n"
     ]
    }
   ],
   "source": [
    "from tensorflow import keras\n",
    "from tensorflow.keras import layers, optimizers\n",
    "import os"
   ]
  },
  {
   "cell_type": "code",
   "execution_count": 2,
   "id": "e199e2cc",
   "metadata": {},
   "outputs": [],
   "source": [
    "image_size = (400, 400)\n",
    "batch_size = 32"
   ]
  },
  {
   "cell_type": "markdown",
   "id": "7ab805cb",
   "metadata": {},
   "source": [
    "### Data 변경"
   ]
  },
  {
   "cell_type": "code",
   "execution_count": 3,
   "id": "897fc118",
   "metadata": {},
   "outputs": [
    {
     "name": "stdout",
     "output_type": "stream",
     "text": [
      "Found 3780 files belonging to 6 classes.\n",
      "Found 1080 files belonging to 6 classes.\n",
      "Found 540 files belonging to 6 classes.\n"
     ]
    },
    {
     "name": "stderr",
     "output_type": "stream",
     "text": [
      "2024-11-22 20:30:18.283896: I tensorflow/compiler/xla/stream_executor/cuda/cuda_gpu_executor.cc:995] successful NUMA node read from SysFS had negative value (-1), but there must be at least one NUMA node, so returning NUMA node zero. See more at https://github.com/torvalds/linux/blob/v6.0/Documentation/ABI/testing/sysfs-bus-pci#L344-L355\n",
      "2024-11-22 20:30:18.288547: I tensorflow/compiler/xla/stream_executor/cuda/cuda_gpu_executor.cc:995] successful NUMA node read from SysFS had negative value (-1), but there must be at least one NUMA node, so returning NUMA node zero. See more at https://github.com/torvalds/linux/blob/v6.0/Documentation/ABI/testing/sysfs-bus-pci#L344-L355\n",
      "2024-11-22 20:30:18.288661: I tensorflow/compiler/xla/stream_executor/cuda/cuda_gpu_executor.cc:995] successful NUMA node read from SysFS had negative value (-1), but there must be at least one NUMA node, so returning NUMA node zero. See more at https://github.com/torvalds/linux/blob/v6.0/Documentation/ABI/testing/sysfs-bus-pci#L344-L355\n",
      "2024-11-22 20:30:18.289330: I tensorflow/compiler/xla/stream_executor/cuda/cuda_gpu_executor.cc:995] successful NUMA node read from SysFS had negative value (-1), but there must be at least one NUMA node, so returning NUMA node zero. See more at https://github.com/torvalds/linux/blob/v6.0/Documentation/ABI/testing/sysfs-bus-pci#L344-L355\n",
      "2024-11-22 20:30:18.289437: I tensorflow/compiler/xla/stream_executor/cuda/cuda_gpu_executor.cc:995] successful NUMA node read from SysFS had negative value (-1), but there must be at least one NUMA node, so returning NUMA node zero. See more at https://github.com/torvalds/linux/blob/v6.0/Documentation/ABI/testing/sysfs-bus-pci#L344-L355\n",
      "2024-11-22 20:30:18.289529: I tensorflow/compiler/xla/stream_executor/cuda/cuda_gpu_executor.cc:995] successful NUMA node read from SysFS had negative value (-1), but there must be at least one NUMA node, so returning NUMA node zero. See more at https://github.com/torvalds/linux/blob/v6.0/Documentation/ABI/testing/sysfs-bus-pci#L344-L355\n",
      "2024-11-22 20:30:18.353187: I tensorflow/compiler/xla/stream_executor/cuda/cuda_gpu_executor.cc:995] successful NUMA node read from SysFS had negative value (-1), but there must be at least one NUMA node, so returning NUMA node zero. See more at https://github.com/torvalds/linux/blob/v6.0/Documentation/ABI/testing/sysfs-bus-pci#L344-L355\n",
      "2024-11-22 20:30:18.353299: I tensorflow/compiler/xla/stream_executor/cuda/cuda_gpu_executor.cc:995] successful NUMA node read from SysFS had negative value (-1), but there must be at least one NUMA node, so returning NUMA node zero. See more at https://github.com/torvalds/linux/blob/v6.0/Documentation/ABI/testing/sysfs-bus-pci#L344-L355\n",
      "2024-11-22 20:30:18.353378: I tensorflow/compiler/xla/stream_executor/cuda/cuda_gpu_executor.cc:995] successful NUMA node read from SysFS had negative value (-1), but there must be at least one NUMA node, so returning NUMA node zero. See more at https://github.com/torvalds/linux/blob/v6.0/Documentation/ABI/testing/sysfs-bus-pci#L344-L355\n",
      "2024-11-22 20:30:18.353444: I tensorflow/core/common_runtime/gpu/gpu_device.cc:1639] Created device /job:localhost/replica:0/task:0/device:GPU:0 with 22207 MB memory:  -> device: 0, name: NVIDIA GeForce RTX 4090, pci bus id: 0000:01:00.0, compute capability: 8.9\n"
     ]
    }
   ],
   "source": [
    "# 데이터셋 로드\n",
    "from tensorflow.keras.utils import image_dataset_from_directory\n",
    "\n",
    "# 실제 데이터의 경로로 변경 필요\n",
    "base_dir = \"/tf/Fixed_Data/Data_Final/Step2-1\"   # Data_Initial/Step2-1\n",
    "\n",
    "train_dataset = image_dataset_from_directory(\n",
    "    os.path.join(base_dir, 'train'),\n",
    "    image_size=image_size,\n",
    "    batch_size=batch_size)\n",
    "\n",
    "validation_dataset = image_dataset_from_directory(\n",
    "    os.path.join(base_dir, 'validation'),\n",
    "    image_size=image_size,\n",
    "    batch_size=batch_size)\n",
    "\n",
    "test_dataset = image_dataset_from_directory(\n",
    "    os.path.join(base_dir, 'test'),\n",
    "    image_size=image_size,\n",
    "    batch_size=batch_size)"
   ]
  },
  {
   "cell_type": "code",
   "execution_count": 4,
   "id": "13d6a102",
   "metadata": {},
   "outputs": [],
   "source": [
    "# 모델 레이어 구성\n",
    "inputs = keras.Input(shape=(400, 400, 3))\n",
    "\n",
    "x = layers.Rescaling(1./255)(inputs)\n",
    "\n",
    "x = layers.Conv2D(filters=32, kernel_size=3)(inputs)\n",
    "x = layers.BatchNormalization()(x)\n",
    "x = layers.ReLU()(x)\n",
    "x = layers.MaxPooling2D(pool_size=2)(x)\n",
    "\n",
    "x = layers.Conv2D(filters=64, kernel_size=3)(x)\n",
    "x = layers.BatchNormalization()(x)\n",
    "x = layers.ReLU()(x)\n",
    "x = layers.MaxPooling2D(pool_size=2)(x)\n",
    "\n",
    "x = layers.Conv2D(filters=128, kernel_size=3)(x)\n",
    "x = layers.BatchNormalization()(x)\n",
    "x = layers.ReLU()(x)\n",
    "x = layers.MaxPooling2D(pool_size=2)(x)\n",
    "\n",
    "x = layers.Conv2D(filters=256, kernel_size=3)(x)\n",
    "x = layers.BatchNormalization()(x)\n",
    "x = layers.ReLU()(x)\n",
    "x = layers.MaxPooling2D(pool_size=2)(x)\n",
    "\n",
    "x = layers.Conv2D(filters=512, kernel_size=3)(x)\n",
    "x = layers.BatchNormalization()(x)\n",
    "x = layers.ReLU()(x)\n",
    "x = layers.Dropout(0.3)(x)\n",
    "x = layers.MaxPooling2D(pool_size=2)(x)\n",
    "\n",
    "x = layers.Flatten()(x)\n",
    "x = layers.Dense(512, activation = \"relu\")(x)\n",
    "x = layers.Dropout(0.3)(x)\n",
    "\n",
    "outputs = layers.Dense(6, activation=\"softmax\")(x)\n",
    "\n",
    "model = keras.Model(inputs=inputs, outputs=outputs)"
   ]
  },
  {
   "cell_type": "code",
   "execution_count": 5,
   "id": "e9b56638",
   "metadata": {},
   "outputs": [
    {
     "name": "stdout",
     "output_type": "stream",
     "text": [
      "Model: \"model\"\n",
      "_________________________________________________________________\n",
      " Layer (type)                Output Shape              Param #   \n",
      "=================================================================\n",
      " input_1 (InputLayer)        [(None, 400, 400, 3)]     0         \n",
      "                                                                 \n",
      " conv2d (Conv2D)             (None, 398, 398, 32)      896       \n",
      "                                                                 \n",
      " batch_normalization (Batch  (None, 398, 398, 32)      128       \n",
      " Normalization)                                                  \n",
      "                                                                 \n",
      " re_lu (ReLU)                (None, 398, 398, 32)      0         \n",
      "                                                                 \n",
      " max_pooling2d (MaxPooling2  (None, 199, 199, 32)      0         \n",
      " D)                                                              \n",
      "                                                                 \n",
      " conv2d_1 (Conv2D)           (None, 197, 197, 64)      18496     \n",
      "                                                                 \n",
      " batch_normalization_1 (Bat  (None, 197, 197, 64)      256       \n",
      " chNormalization)                                                \n",
      "                                                                 \n",
      " re_lu_1 (ReLU)              (None, 197, 197, 64)      0         \n",
      "                                                                 \n",
      " max_pooling2d_1 (MaxPoolin  (None, 98, 98, 64)        0         \n",
      " g2D)                                                            \n",
      "                                                                 \n",
      " conv2d_2 (Conv2D)           (None, 96, 96, 128)       73856     \n",
      "                                                                 \n",
      " batch_normalization_2 (Bat  (None, 96, 96, 128)       512       \n",
      " chNormalization)                                                \n",
      "                                                                 \n",
      " re_lu_2 (ReLU)              (None, 96, 96, 128)       0         \n",
      "                                                                 \n",
      " max_pooling2d_2 (MaxPoolin  (None, 48, 48, 128)       0         \n",
      " g2D)                                                            \n",
      "                                                                 \n",
      " conv2d_3 (Conv2D)           (None, 46, 46, 256)       295168    \n",
      "                                                                 \n",
      " batch_normalization_3 (Bat  (None, 46, 46, 256)       1024      \n",
      " chNormalization)                                                \n",
      "                                                                 \n",
      " re_lu_3 (ReLU)              (None, 46, 46, 256)       0         \n",
      "                                                                 \n",
      " max_pooling2d_3 (MaxPoolin  (None, 23, 23, 256)       0         \n",
      " g2D)                                                            \n",
      "                                                                 \n",
      " conv2d_4 (Conv2D)           (None, 21, 21, 512)       1180160   \n",
      "                                                                 \n",
      " batch_normalization_4 (Bat  (None, 21, 21, 512)       2048      \n",
      " chNormalization)                                                \n",
      "                                                                 \n",
      " re_lu_4 (ReLU)              (None, 21, 21, 512)       0         \n",
      "                                                                 \n",
      " dropout (Dropout)           (None, 21, 21, 512)       0         \n",
      "                                                                 \n",
      " max_pooling2d_4 (MaxPoolin  (None, 10, 10, 512)       0         \n",
      " g2D)                                                            \n",
      "                                                                 \n",
      " flatten (Flatten)           (None, 51200)             0         \n",
      "                                                                 \n",
      " dense (Dense)               (None, 512)               26214912  \n",
      "                                                                 \n",
      " dropout_1 (Dropout)         (None, 512)               0         \n",
      "                                                                 \n",
      " dense_1 (Dense)             (None, 6)                 3078      \n",
      "                                                                 \n",
      "=================================================================\n",
      "Total params: 27790534 (106.01 MB)\n",
      "Trainable params: 27788550 (106.00 MB)\n",
      "Non-trainable params: 1984 (7.75 KB)\n",
      "_________________________________________________________________\n"
     ]
    }
   ],
   "source": [
    "model.summary()"
   ]
  },
  {
   "cell_type": "code",
   "execution_count": 6,
   "id": "d1cf17fb",
   "metadata": {},
   "outputs": [],
   "source": [
    "# 학습률 및 옵티마이저 설정\n",
    "optimizer = optimizers.RMSprop(learning_rate=1e-4)\n",
    "\n",
    "# 모델 컴파일\n",
    "model.compile(optimizer=optimizer,\n",
    "              loss='sparse_categorical_crossentropy',\n",
    "              metrics=['accuracy'])"
   ]
  },
  {
   "cell_type": "code",
   "execution_count": 7,
   "id": "79cefeec",
   "metadata": {},
   "outputs": [],
   "source": [
    "from tensorflow.keras.callbacks import EarlyStopping\n",
    "\n",
    "# EarlyStopping 콜백 설정\n",
    "early_stopping = EarlyStopping(\n",
    "    monitor='val_loss',       # 검증 손실을 기준으로 학습 중단\n",
    "    patience=5,               # 성능이 개선되지 않는 에포크 수 (5회 연속 개선 없을 시 중단)\n",
    "    restore_best_weights=True # 최적의 가중치 복원\n",
    ")"
   ]
  },
  {
   "cell_type": "code",
   "execution_count": 8,
   "id": "5a695bf4",
   "metadata": {},
   "outputs": [
    {
     "name": "stdout",
     "output_type": "stream",
     "text": [
      "Epoch 1/100\n"
     ]
    },
    {
     "name": "stderr",
     "output_type": "stream",
     "text": [
      "2024-11-22 20:30:19.516502: E tensorflow/core/grappler/optimizers/meta_optimizer.cc:954] layout failed: INVALID_ARGUMENT: Size of values 0 does not match size of permutation 4 @ fanin shape inmodel/dropout/dropout/SelectV2-2-TransposeNHWCToNCHW-LayoutOptimizer\n",
      "2024-11-22 20:30:20.151324: I tensorflow/compiler/xla/stream_executor/cuda/cuda_dnn.cc:432] Loaded cuDNN version 8600\n",
      "2024-11-22 20:30:20.621631: I tensorflow/compiler/xla/stream_executor/cuda/cuda_blas.cc:606] TensorFloat-32 will be used for the matrix multiplication. This will only be logged once.\n",
      "2024-11-22 20:30:20.638523: I tensorflow/compiler/xla/service/service.cc:168] XLA service 0x7fdc240 initialized for platform CUDA (this does not guarantee that XLA will be used). Devices:\n",
      "2024-11-22 20:30:20.638543: I tensorflow/compiler/xla/service/service.cc:176]   StreamExecutor device (0): NVIDIA GeForce RTX 4090, Compute Capability 8.9\n",
      "2024-11-22 20:30:20.641744: I tensorflow/compiler/mlir/tensorflow/utils/dump_mlir_util.cc:255] disabling MLIR crash reproducer, set env var `MLIR_CRASH_REPRODUCER_DIRECTORY` to enable.\n",
      "2024-11-22 20:30:20.712048: I ./tensorflow/compiler/jit/device_compiler.h:186] Compiled cluster using XLA!  This line is logged at most once for the lifetime of the process.\n"
     ]
    },
    {
     "name": "stdout",
     "output_type": "stream",
     "text": [
      "119/119 [==============================] - 17s 109ms/step - loss: 2.8474 - accuracy: 0.5958 - val_loss: 1.3941 - val_accuracy: 0.4676\n",
      "Epoch 2/100\n",
      "119/119 [==============================] - 13s 103ms/step - loss: 0.7396 - accuracy: 0.7553 - val_loss: 0.8899 - val_accuracy: 0.6213\n",
      "Epoch 3/100\n",
      "119/119 [==============================] - 13s 103ms/step - loss: 0.6218 - accuracy: 0.7849 - val_loss: 0.9125 - val_accuracy: 0.6685\n",
      "Epoch 4/100\n",
      "119/119 [==============================] - 13s 102ms/step - loss: 0.5159 - accuracy: 0.8304 - val_loss: 1.2924 - val_accuracy: 0.6713\n",
      "Epoch 5/100\n",
      "119/119 [==============================] - 13s 103ms/step - loss: 0.4510 - accuracy: 0.8516 - val_loss: 0.6444 - val_accuracy: 0.7880\n",
      "Epoch 6/100\n",
      "119/119 [==============================] - 13s 102ms/step - loss: 0.3848 - accuracy: 0.8706 - val_loss: 0.7740 - val_accuracy: 0.7370\n",
      "Epoch 7/100\n",
      "119/119 [==============================] - 13s 103ms/step - loss: 0.3414 - accuracy: 0.8810 - val_loss: 0.5855 - val_accuracy: 0.7704\n",
      "Epoch 8/100\n",
      "119/119 [==============================] - 13s 103ms/step - loss: 0.3164 - accuracy: 0.8889 - val_loss: 0.5302 - val_accuracy: 0.8046\n",
      "Epoch 9/100\n",
      "119/119 [==============================] - 13s 104ms/step - loss: 0.3069 - accuracy: 0.8995 - val_loss: 0.4785 - val_accuracy: 0.8639\n",
      "Epoch 10/100\n",
      "119/119 [==============================] - 13s 103ms/step - loss: 0.2345 - accuracy: 0.9140 - val_loss: 0.4958 - val_accuracy: 0.8565\n",
      "Epoch 11/100\n",
      "119/119 [==============================] - 13s 103ms/step - loss: 0.2320 - accuracy: 0.9217 - val_loss: 0.3910 - val_accuracy: 0.8731\n",
      "Epoch 12/100\n",
      "119/119 [==============================] - 13s 103ms/step - loss: 0.2141 - accuracy: 0.9304 - val_loss: 0.3433 - val_accuracy: 0.8843\n",
      "Epoch 13/100\n",
      "119/119 [==============================] - 13s 103ms/step - loss: 0.1948 - accuracy: 0.9365 - val_loss: 0.4225 - val_accuracy: 0.8694\n",
      "Epoch 14/100\n",
      "119/119 [==============================] - 13s 102ms/step - loss: 0.1702 - accuracy: 0.9376 - val_loss: 0.7831 - val_accuracy: 0.8130\n",
      "Epoch 15/100\n",
      "119/119 [==============================] - 13s 102ms/step - loss: 0.1717 - accuracy: 0.9487 - val_loss: 0.3925 - val_accuracy: 0.8806\n",
      "Epoch 16/100\n",
      "119/119 [==============================] - 13s 103ms/step - loss: 0.1572 - accuracy: 0.9460 - val_loss: 1.0441 - val_accuracy: 0.8065\n",
      "Epoch 17/100\n",
      "119/119 [==============================] - 13s 102ms/step - loss: 0.1525 - accuracy: 0.9505 - val_loss: 0.8106 - val_accuracy: 0.7843\n"
     ]
    }
   ],
   "source": [
    "history = model.fit(\n",
    "    train_dataset,\n",
    "    validation_data=validation_dataset,\n",
    "    epochs=100,\n",
    "    callbacks=[early_stopping],\n",
    "    batch_size=batch_size)"
   ]
  },
  {
   "cell_type": "code",
   "execution_count": 9,
   "id": "5140a285",
   "metadata": {},
   "outputs": [
    {
     "data": {
      "image/png": "[encoded data removed]",
      "text/plain": [
       "<Figure size 1500x500 with 2 Axes>"
      ]
     },
     "metadata": {},
     "output_type": "display_data"
    }
   ],
   "source": [
    "# 훈련 정확도와 손실 그래프 생성\n",
    "import matplotlib.pyplot as plt \n",
    "\n",
    "acc = history.history['accuracy']\n",
    "val_acc = history.history['val_accuracy']\n",
    "loss = history.history['loss']\n",
    "val_loss = history.history['val_loss']\n",
    "epochs_range = range(1, len(acc) + 1)\n",
    "\n",
    "plt.figure(figsize=(15, 5))\n",
    "plt.subplot(1, 2, 1)\n",
    "plt.plot(epochs_range, acc, label='Training Accuracy')\n",
    "plt.plot(epochs_range, val_acc, label='Validation Accuracy')\n",
    "plt.title('Training and Validation Accuracy')\n",
    "plt.legend()\n",
    "\n",
    "plt.subplot(1, 2, 2)\n",
    "plt.plot(epochs_range, loss, label='Training Loss')\n",
    "plt.plot(epochs_range, val_loss, label='Validation Loss')\n",
    "plt.title('Training and Validation Loss')\n",
    "plt.legend()\n",
    "\n",
    "plt.show()"
   ]
  },
  {
   "cell_type": "markdown",
   "id": "ba874d13",
   "metadata": {},
   "source": [
    "# Analysis - Training & Validation\n",
    "## 과적합\n",
    "약 13 Epoch 이후부터 train과 validation 그래프가 반대 방향으로 진행  \n",
    "그러나 Early Stopping으로 학습된 모델은 과적합 이전의 가중치로 저장됨\n",
    "\n",
    "## 불안정\n",
    "validation 그래프가 약간 진동하며 불안정한 형태\n",
    "\n",
    "---"
   ]
  },
  {
   "cell_type": "code",
   "execution_count": 10,
   "id": "526035cb",
   "metadata": {},
   "outputs": [
    {
     "name": "stdout",
     "output_type": "stream",
     "text": [
      "17/17 [==============================] - 1s 54ms/step - loss: 0.2999 - accuracy: 0.9019\n",
      "test accuracy: 0.9018518328666687\n",
      "test loss: 0.29986658692359924\n"
     ]
    }
   ],
   "source": [
    "test_loss, test_acc = model.evaluate(test_dataset)\n",
    "\n",
    "print(f\"test accuracy: {test_acc}\")\n",
    "print(f\"test loss: {test_loss}\")"
   ]
  },
  {
   "cell_type": "markdown",
   "id": "0482c46e",
   "metadata": {},
   "source": [
    "# Analysis - Test\n",
    "- (compared to `2. Add_Conv2D_Increase_DropoutRatio`)   \n",
    "Accuracy : 91.9% → 90.2%  \n",
    "Loss : 0.2911 → 0.2999  \n",
    "데이터의 다양성 증가로 성능이 소폭 감소한 것으로 추측됨 \n",
    "\n",
    "<br>\n",
    "\n",
    "- (compared to `4-1. Data_Added_SGD`)  \n",
    "Accuracy : 87.6% vs 90.2%  \n",
    "Loss : 0.2913 vs 0.2999  \n",
    "정확도 측면에서는 더 우수하나, 손실 측면에서는 부족  \n",
    "그러나 정확도 측면에서 더 큰 차이로 우수함\n",
    "\n",
    "<br>\n",
    "\n",
    "- (compared to `4-2. Data_Added_Adam`)  \n",
    "Accuracy : 90.0% vs 90.2%  \n",
    "Loss : 0.3037 vs 0.2999  \n",
    "비슷한 성능이지만 현재 모델이 약간의 우위를 보임  \n",
    "\n",
    "<br>\n",
    "\n",
    "⇒ 현재 모델로 선정"
   ]
  }
 ],
 "metadata": {
  "kernelspec": {
   "display_name": "Python 3 (ipykernel)",
   "language": "python",
   "name": "python3"
  },
  "language_info": {
   "codemirror_mode": {
    "name": "ipython",
    "version": 3
   },
   "file_extension": ".py",
   "mimetype": "text/x-python",
   "name": "python",
   "nbconvert_exporter": "python",
   "pygments_lexer": "ipython3",
   "version": "3.8.10"
  }
 },
 "nbformat": 4,
 "nbformat_minor": 5
}
