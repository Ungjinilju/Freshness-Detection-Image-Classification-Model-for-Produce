{
 "cells": [
  {
   "cell_type": "markdown",
   "id": "5a3b0bc4",
   "metadata": {},
   "source": [
    "# Guide\n",
    "## Data\n",
    "[[Google Drive] /Data/Final/Step2-1.zip](https://drive.google.com/file/d/1KjVfu9UgvK0_tZtuOcJmaRCn44CtYxUq/view?usp=sharing)\n",
    "## Code\n",
    "In [3] `base_dir` : 실제 데이터 경로로 변경 필요\n",
    "\n",
    "---"
   ]
  },
  {
   "cell_type": "markdown",
   "id": "c1738ab3",
   "metadata": {},
   "source": [
    "# Purpose\n",
    "- 새로운 데이터 학습 결과 확인  \n",
    "- Step1 최종 모델 적용  \n",
    "[[Google Drive] /Code/Step1/9-3.Data_Added_SGD.ipynb](https://drive.google.com/file/d/1jGayfWa43zSG0LZ-fx-hVPYCavu40bl1/view?usp=sharing)\n",
    "\n",
    "## Alternation\n",
    "(compared to) `Step1/9-3.Data_Added_SGD` 모델  \n",
    "- Data: Data_Initial/Step2-1 → Data_Final/Step2-1\n",
    "- 2개의 클래스 분류 → 6개의 클래스 분류  \n",
    "⇒ 마지막 layer의 노드 수, activation, 손실 함수 변경"
   ]
  },
  {
   "cell_type": "code",
   "execution_count": 1,
   "id": "41fb8089",
   "metadata": {},
   "outputs": [
    {
     "name": "stderr",
     "output_type": "stream",
     "text": [
      "2024-11-22 20:36:50.708941: I tensorflow/core/platform/cpu_feature_guard.cc:182] This TensorFlow binary is optimized to use available CPU instructions in performance-critical operations.\n",
      "To enable the following instructions: AVX2 FMA, in other operations, rebuild TensorFlow with the appropriate compiler flags.\n"
     ]
    }
   ],
   "source": [
    "from tensorflow import keras\n",
    "from tensorflow.keras import layers, optimizers\n",
    "import os"
   ]
  },
  {
   "cell_type": "code",
   "execution_count": 2,
   "id": "e199e2cc",
   "metadata": {},
   "outputs": [],
   "source": [
    "image_size = (400, 400)\n",
    "batch_size = 32"
   ]
  },
  {
   "cell_type": "markdown",
   "id": "19c030cc",
   "metadata": {},
   "source": [
    "### Data 변경"
   ]
  },
  {
   "cell_type": "code",
   "execution_count": 3,
   "id": "897fc118",
   "metadata": {},
   "outputs": [
    {
     "name": "stdout",
     "output_type": "stream",
     "text": [
      "Found 3780 files belonging to 6 classes.\n"
     ]
    },
    {
     "name": "stderr",
     "output_type": "stream",
     "text": [
      "2024-11-22 20:36:52.273310: I tensorflow/compiler/xla/stream_executor/cuda/cuda_gpu_executor.cc:995] successful NUMA node read from SysFS had negative value (-1), but there must be at least one NUMA node, so returning NUMA node zero. See more at https://github.com/torvalds/linux/blob/v6.0/Documentation/ABI/testing/sysfs-bus-pci#L344-L355\n",
      "2024-11-22 20:36:52.278895: I tensorflow/compiler/xla/stream_executor/cuda/cuda_gpu_executor.cc:995] successful NUMA node read from SysFS had negative value (-1), but there must be at least one NUMA node, so returning NUMA node zero. See more at https://github.com/torvalds/linux/blob/v6.0/Documentation/ABI/testing/sysfs-bus-pci#L344-L355\n",
      "2024-11-22 20:36:52.279029: I tensorflow/compiler/xla/stream_executor/cuda/cuda_gpu_executor.cc:995] successful NUMA node read from SysFS had negative value (-1), but there must be at least one NUMA node, so returning NUMA node zero. See more at https://github.com/torvalds/linux/blob/v6.0/Documentation/ABI/testing/sysfs-bus-pci#L344-L355\n",
      "2024-11-22 20:36:52.279953: I tensorflow/compiler/xla/stream_executor/cuda/cuda_gpu_executor.cc:995] successful NUMA node read from SysFS had negative value (-1), but there must be at least one NUMA node, so returning NUMA node zero. See more at https://github.com/torvalds/linux/blob/v6.0/Documentation/ABI/testing/sysfs-bus-pci#L344-L355\n",
      "2024-11-22 20:36:52.280089: I tensorflow/compiler/xla/stream_executor/cuda/cuda_gpu_executor.cc:995] successful NUMA node read from SysFS had negative value (-1), but there must be at least one NUMA node, so returning NUMA node zero. See more at https://github.com/torvalds/linux/blob/v6.0/Documentation/ABI/testing/sysfs-bus-pci#L344-L355\n",
      "2024-11-22 20:36:52.280202: I tensorflow/compiler/xla/stream_executor/cuda/cuda_gpu_executor.cc:995] successful NUMA node read from SysFS had negative value (-1), but there must be at least one NUMA node, so returning NUMA node zero. See more at https://github.com/torvalds/linux/blob/v6.0/Documentation/ABI/testing/sysfs-bus-pci#L344-L355\n",
      "2024-11-22 20:36:52.337068: I tensorflow/compiler/xla/stream_executor/cuda/cuda_gpu_executor.cc:995] successful NUMA node read from SysFS had negative value (-1), but there must be at least one NUMA node, so returning NUMA node zero. See more at https://github.com/torvalds/linux/blob/v6.0/Documentation/ABI/testing/sysfs-bus-pci#L344-L355\n",
      "2024-11-22 20:36:52.337179: I tensorflow/compiler/xla/stream_executor/cuda/cuda_gpu_executor.cc:995] successful NUMA node read from SysFS had negative value (-1), but there must be at least one NUMA node, so returning NUMA node zero. See more at https://github.com/torvalds/linux/blob/v6.0/Documentation/ABI/testing/sysfs-bus-pci#L344-L355\n",
      "2024-11-22 20:36:52.337258: I tensorflow/compiler/xla/stream_executor/cuda/cuda_gpu_executor.cc:995] successful NUMA node read from SysFS had negative value (-1), but there must be at least one NUMA node, so returning NUMA node zero. See more at https://github.com/torvalds/linux/blob/v6.0/Documentation/ABI/testing/sysfs-bus-pci#L344-L355\n",
      "2024-11-22 20:36:52.337325: I tensorflow/core/common_runtime/gpu/gpu_device.cc:1639] Created device /job:localhost/replica:0/task:0/device:GPU:0 with 22207 MB memory:  -> device: 0, name: NVIDIA GeForce RTX 4090, pci bus id: 0000:01:00.0, compute capability: 8.9\n"
     ]
    },
    {
     "name": "stdout",
     "output_type": "stream",
     "text": [
      "Found 1080 files belonging to 6 classes.\n",
      "Found 540 files belonging to 6 classes.\n"
     ]
    }
   ],
   "source": [
    "# 데이터셋 로드\n",
    "from tensorflow.keras.utils import image_dataset_from_directory\n",
    "\n",
    "# 실제 데이터의 경로로 변경 필요\n",
    "base_dir = \"/tf/Fixed_Data/Data_Final/Step2-1\"   # Data_Final/Step1\n",
    "\n",
    "train_dataset = image_dataset_from_directory(\n",
    "    os.path.join(base_dir, 'train'),\n",
    "    image_size=image_size,\n",
    "    batch_size=batch_size)\n",
    "\n",
    "validation_dataset = image_dataset_from_directory(\n",
    "    os.path.join(base_dir, 'validation'),\n",
    "    image_size=image_size,\n",
    "    batch_size=batch_size)\n",
    "\n",
    "test_dataset = image_dataset_from_directory(\n",
    "    os.path.join(base_dir, 'test'),\n",
    "    image_size=image_size,\n",
    "    batch_size=batch_size)"
   ]
  },
  {
   "cell_type": "markdown",
   "id": "89ce66ea",
   "metadata": {},
   "source": [
    "### 마지막 Dense layer의 노드 수 및 activation 변경"
   ]
  },
  {
   "cell_type": "code",
   "execution_count": 4,
   "id": "13d6a102",
   "metadata": {},
   "outputs": [],
   "source": [
    "# 모델 레이어 구성\n",
    "inputs = keras.Input(shape=(400, 400, 3))\n",
    "\n",
    "x = layers.Rescaling(1./255)(inputs)\n",
    "\n",
    "x = layers.Conv2D(filters=32, kernel_size=3)(inputs)\n",
    "x = layers.BatchNormalization()(x)\n",
    "x = layers.ReLU()(x)\n",
    "x = layers.MaxPooling2D(pool_size=2)(x)\n",
    "\n",
    "x = layers.Conv2D(filters=64, kernel_size=3)(x)\n",
    "x = layers.BatchNormalization()(x)\n",
    "x = layers.ReLU()(x)\n",
    "x = layers.MaxPooling2D(pool_size=2)(x)\n",
    "\n",
    "x = layers.Conv2D(filters=128, kernel_size=3)(x)\n",
    "x = layers.BatchNormalization()(x)\n",
    "x = layers.ReLU()(x)\n",
    "x = layers.MaxPooling2D(pool_size=2)(x)\n",
    "\n",
    "x = layers.Conv2D(filters=256, kernel_size=3)(x)\n",
    "x = layers.BatchNormalization()(x)\n",
    "x = layers.ReLU()(x)\n",
    "x = layers.Dropout(0.25)(x)\n",
    "x = layers.MaxPooling2D(pool_size=2)(x)\n",
    "\n",
    "x = layers.Flatten()(x)\n",
    "x = layers.Dense(256, activation = \"relu\")(x)\n",
    "x = layers.Dropout(0.25)(x)\n",
    "\n",
    "# outputs = layers.Dense(1, activation=\"sigmoid\")(x)\n",
    "outputs = layers.Dense(6, activation=\"softmax\")(x)\n",
    "\n",
    "model = keras.Model(inputs=inputs, outputs=outputs)"
   ]
  },
  {
   "cell_type": "code",
   "execution_count": 5,
   "id": "e9b56638",
   "metadata": {},
   "outputs": [
    {
     "name": "stdout",
     "output_type": "stream",
     "text": [
      "Model: \"model\"\n",
      "_________________________________________________________________\n",
      " Layer (type)                Output Shape              Param #   \n",
      "=================================================================\n",
      " input_1 (InputLayer)        [(None, 400, 400, 3)]     0         \n",
      "                                                                 \n",
      " conv2d (Conv2D)             (None, 398, 398, 32)      896       \n",
      "                                                                 \n",
      " batch_normalization (Batch  (None, 398, 398, 32)      128       \n",
      " Normalization)                                                  \n",
      "                                                                 \n",
      " re_lu (ReLU)                (None, 398, 398, 32)      0         \n",
      "                                                                 \n",
      " max_pooling2d (MaxPooling2  (None, 199, 199, 32)      0         \n",
      " D)                                                              \n",
      "                                                                 \n",
      " conv2d_1 (Conv2D)           (None, 197, 197, 64)      18496     \n",
      "                                                                 \n",
      " batch_normalization_1 (Bat  (None, 197, 197, 64)      256       \n",
      " chNormalization)                                                \n",
      "                                                                 \n",
      " re_lu_1 (ReLU)              (None, 197, 197, 64)      0         \n",
      "                                                                 \n",
      " max_pooling2d_1 (MaxPoolin  (None, 98, 98, 64)        0         \n",
      " g2D)                                                            \n",
      "                                                                 \n",
      " conv2d_2 (Conv2D)           (None, 96, 96, 128)       73856     \n",
      "                                                                 \n",
      " batch_normalization_2 (Bat  (None, 96, 96, 128)       512       \n",
      " chNormalization)                                                \n",
      "                                                                 \n",
      " re_lu_2 (ReLU)              (None, 96, 96, 128)       0         \n",
      "                                                                 \n",
      " max_pooling2d_2 (MaxPoolin  (None, 48, 48, 128)       0         \n",
      " g2D)                                                            \n",
      "                                                                 \n",
      " conv2d_3 (Conv2D)           (None, 46, 46, 256)       295168    \n",
      "                                                                 \n",
      " batch_normalization_3 (Bat  (None, 46, 46, 256)       1024      \n",
      " chNormalization)                                                \n",
      "                                                                 \n",
      " re_lu_3 (ReLU)              (None, 46, 46, 256)       0         \n",
      "                                                                 \n",
      " dropout (Dropout)           (None, 46, 46, 256)       0         \n",
      "                                                                 \n",
      " max_pooling2d_3 (MaxPoolin  (None, 23, 23, 256)       0         \n",
      " g2D)                                                            \n",
      "                                                                 \n",
      " flatten (Flatten)           (None, 135424)            0         \n",
      "                                                                 \n",
      " dense (Dense)               (None, 256)               34668800  \n",
      "                                                                 \n",
      " dropout_1 (Dropout)         (None, 256)               0         \n",
      "                                                                 \n",
      " dense_1 (Dense)             (None, 6)                 1542      \n",
      "                                                                 \n",
      "=================================================================\n",
      "Total params: 35060678 (133.75 MB)\n",
      "Trainable params: 35059718 (133.74 MB)\n",
      "Non-trainable params: 960 (3.75 KB)\n",
      "_________________________________________________________________\n"
     ]
    }
   ],
   "source": [
    "model.summary()"
   ]
  },
  {
   "cell_type": "markdown",
   "id": "dfcdaab4",
   "metadata": {},
   "source": [
    "### 손실함수 변경"
   ]
  },
  {
   "cell_type": "code",
   "execution_count": 6,
   "id": "d1cf17fb",
   "metadata": {},
   "outputs": [],
   "source": [
    "# 학습률 및 옵티마이저 설정\n",
    "optimizer = optimizers.SGD(learning_rate=1e-4, momentum=0.9)\n",
    "\n",
    "# 모델 컴파일\n",
    "model.compile(optimizer=optimizer,\n",
    "              loss='sparse_categorical_crossentropy',   # loss='binary_crossentropy'\n",
    "              metrics=['accuracy'])"
   ]
  },
  {
   "cell_type": "code",
   "execution_count": 7,
   "id": "79cefeec",
   "metadata": {},
   "outputs": [],
   "source": [
    "from tensorflow.keras.callbacks import EarlyStopping\n",
    "\n",
    "# EarlyStopping 콜백 설정\n",
    "early_stopping = EarlyStopping(\n",
    "    monitor='val_loss',       # 검증 손실을 기준으로 학습 중단\n",
    "    patience=5,               # 성능이 개선되지 않는 에포크 수 (5회 연속 개선 없을 시 중단)\n",
    "    restore_best_weights=True # 최적의 가중치 복원\n",
    ")"
   ]
  },
  {
   "cell_type": "code",
   "execution_count": 8,
   "id": "5a695bf4",
   "metadata": {},
   "outputs": [
    {
     "name": "stdout",
     "output_type": "stream",
     "text": [
      "Epoch 1/100\n"
     ]
    },
    {
     "name": "stderr",
     "output_type": "stream",
     "text": [
      "2024-11-22 20:36:53.354924: E tensorflow/core/grappler/optimizers/meta_optimizer.cc:954] layout failed: INVALID_ARGUMENT: Size of values 0 does not match size of permutation 4 @ fanin shape inmodel/dropout/dropout/SelectV2-2-TransposeNHWCToNCHW-LayoutOptimizer\n",
      "2024-11-22 20:36:53.982820: I tensorflow/compiler/xla/stream_executor/cuda/cuda_dnn.cc:432] Loaded cuDNN version 8600\n",
      "2024-11-22 20:36:54.379147: I tensorflow/compiler/xla/stream_executor/cuda/cuda_blas.cc:606] TensorFloat-32 will be used for the matrix multiplication. This will only be logged once.\n",
      "2024-11-22 20:36:54.394616: I tensorflow/compiler/xla/service/service.cc:168] XLA service 0x7fcffaee7d20 initialized for platform CUDA (this does not guarantee that XLA will be used). Devices:\n",
      "2024-11-22 20:36:54.394637: I tensorflow/compiler/xla/service/service.cc:176]   StreamExecutor device (0): NVIDIA GeForce RTX 4090, Compute Capability 8.9\n",
      "2024-11-22 20:36:54.436954: I ./tensorflow/compiler/jit/device_compiler.h:186] Compiled cluster using XLA!  This line is logged at most once for the lifetime of the process.\n"
     ]
    },
    {
     "name": "stdout",
     "output_type": "stream",
     "text": [
      "119/119 [==============================] - 16s 107ms/step - loss: 1.0644 - accuracy: 0.6235 - val_loss: 1.2781 - val_accuracy: 0.5102\n",
      "Epoch 2/100\n",
      "119/119 [==============================] - 12s 100ms/step - loss: 0.6054 - accuracy: 0.7786 - val_loss: 0.9212 - val_accuracy: 0.6574\n",
      "Epoch 3/100\n",
      "119/119 [==============================] - 12s 101ms/step - loss: 0.4662 - accuracy: 0.8360 - val_loss: 0.6191 - val_accuracy: 0.7870\n",
      "Epoch 4/100\n",
      "119/119 [==============================] - 12s 101ms/step - loss: 0.3726 - accuracy: 0.8693 - val_loss: 0.5579 - val_accuracy: 0.7981\n",
      "Epoch 5/100\n",
      "119/119 [==============================] - 12s 101ms/step - loss: 0.2928 - accuracy: 0.9003 - val_loss: 0.4449 - val_accuracy: 0.8454\n",
      "Epoch 6/100\n",
      "119/119 [==============================] - 12s 101ms/step - loss: 0.2624 - accuracy: 0.9063 - val_loss: 0.4352 - val_accuracy: 0.8435\n",
      "Epoch 7/100\n",
      "119/119 [==============================] - 12s 101ms/step - loss: 0.2160 - accuracy: 0.9270 - val_loss: 0.4302 - val_accuracy: 0.8389\n",
      "Epoch 8/100\n",
      "119/119 [==============================] - 12s 101ms/step - loss: 0.1992 - accuracy: 0.9333 - val_loss: 0.4298 - val_accuracy: 0.8454\n",
      "Epoch 9/100\n",
      "119/119 [==============================] - 12s 100ms/step - loss: 0.1686 - accuracy: 0.9437 - val_loss: 0.4305 - val_accuracy: 0.8444\n",
      "Epoch 10/100\n",
      "119/119 [==============================] - 12s 101ms/step - loss: 0.1414 - accuracy: 0.9561 - val_loss: 0.3575 - val_accuracy: 0.8722\n",
      "Epoch 11/100\n",
      "119/119 [==============================] - 12s 100ms/step - loss: 0.1203 - accuracy: 0.9614 - val_loss: 0.3832 - val_accuracy: 0.8704\n",
      "Epoch 12/100\n",
      "119/119 [==============================] - 12s 100ms/step - loss: 0.1191 - accuracy: 0.9632 - val_loss: 0.3592 - val_accuracy: 0.8694\n",
      "Epoch 13/100\n",
      "119/119 [==============================] - 12s 101ms/step - loss: 0.0820 - accuracy: 0.9778 - val_loss: 0.3547 - val_accuracy: 0.8704\n",
      "Epoch 14/100\n",
      "119/119 [==============================] - 12s 100ms/step - loss: 0.0941 - accuracy: 0.9733 - val_loss: 0.3942 - val_accuracy: 0.8583\n",
      "Epoch 15/100\n",
      "119/119 [==============================] - 12s 100ms/step - loss: 0.1153 - accuracy: 0.9646 - val_loss: 0.3605 - val_accuracy: 0.8657\n",
      "Epoch 16/100\n",
      "119/119 [==============================] - 12s 100ms/step - loss: 0.0780 - accuracy: 0.9817 - val_loss: 0.3439 - val_accuracy: 0.8787\n",
      "Epoch 17/100\n",
      "119/119 [==============================] - 12s 100ms/step - loss: 0.0665 - accuracy: 0.9828 - val_loss: 0.3682 - val_accuracy: 0.8593\n",
      "Epoch 18/100\n",
      "119/119 [==============================] - 12s 100ms/step - loss: 0.0683 - accuracy: 0.9839 - val_loss: 0.3425 - val_accuracy: 0.8694\n",
      "Epoch 19/100\n",
      "119/119 [==============================] - 12s 100ms/step - loss: 0.0713 - accuracy: 0.9796 - val_loss: 0.3510 - val_accuracy: 0.8731\n",
      "Epoch 20/100\n",
      "119/119 [==============================] - 12s 100ms/step - loss: 0.0520 - accuracy: 0.9876 - val_loss: 0.3783 - val_accuracy: 0.8657\n",
      "Epoch 21/100\n",
      "119/119 [==============================] - 12s 101ms/step - loss: 0.0438 - accuracy: 0.9905 - val_loss: 0.3351 - val_accuracy: 0.8778\n",
      "Epoch 22/100\n",
      "119/119 [==============================] - 12s 101ms/step - loss: 0.0377 - accuracy: 0.9947 - val_loss: 0.3348 - val_accuracy: 0.8806\n",
      "Epoch 23/100\n",
      "119/119 [==============================] - 12s 100ms/step - loss: 0.0388 - accuracy: 0.9907 - val_loss: 0.3454 - val_accuracy: 0.8787\n",
      "Epoch 24/100\n",
      "119/119 [==============================] - 12s 101ms/step - loss: 0.0301 - accuracy: 0.9950 - val_loss: 0.3180 - val_accuracy: 0.8787\n",
      "Epoch 25/100\n",
      "119/119 [==============================] - 12s 100ms/step - loss: 0.0308 - accuracy: 0.9939 - val_loss: 0.3518 - val_accuracy: 0.8722\n",
      "Epoch 26/100\n",
      "119/119 [==============================] - 12s 100ms/step - loss: 0.0522 - accuracy: 0.9884 - val_loss: 0.3576 - val_accuracy: 0.8806\n",
      "Epoch 27/100\n",
      "119/119 [==============================] - 12s 100ms/step - loss: 0.0295 - accuracy: 0.9944 - val_loss: 0.3511 - val_accuracy: 0.8722\n",
      "Epoch 28/100\n",
      "119/119 [==============================] - 12s 100ms/step - loss: 0.0706 - accuracy: 0.9794 - val_loss: 0.3996 - val_accuracy: 0.8593\n",
      "Epoch 29/100\n",
      "119/119 [==============================] - 13s 101ms/step - loss: 0.0370 - accuracy: 0.9907 - val_loss: 0.3553 - val_accuracy: 0.8759\n"
     ]
    }
   ],
   "source": [
    "history = model.fit(\n",
    "    train_dataset,\n",
    "    validation_data=validation_dataset,\n",
    "    epochs=100,\n",
    "    callbacks=[early_stopping],\n",
    "    batch_size=batch_size)"
   ]
  },
  {
   "cell_type": "code",
   "execution_count": 9,
   "id": "5140a285",
   "metadata": {},
   "outputs": [
    {
     "data": {
      "image/png": "[encoded data removed]",
      "text/plain": [
       "<Figure size 1500x500 with 2 Axes>"
      ]
     },
     "metadata": {},
     "output_type": "display_data"
    }
   ],
   "source": [
    "# 훈련 정확도와 손실 그래프 생성\n",
    "import matplotlib.pyplot as plt \n",
    "\n",
    "acc = history.history['accuracy']\n",
    "val_acc = history.history['val_accuracy']\n",
    "loss = history.history['loss']\n",
    "val_loss = history.history['val_loss']\n",
    "epochs_range = range(1, len(acc) + 1)\n",
    "\n",
    "plt.figure(figsize=(15, 5))\n",
    "plt.subplot(1, 2, 1)\n",
    "plt.plot(epochs_range, acc, label='Training Accuracy')\n",
    "plt.plot(epochs_range, val_acc, label='Validation Accuracy')\n",
    "plt.title('Training and Validation Accuracy')\n",
    "plt.legend()\n",
    "\n",
    "plt.subplot(1, 2, 2)\n",
    "plt.plot(epochs_range, loss, label='Training Loss')\n",
    "plt.plot(epochs_range, val_loss, label='Validation Loss')\n",
    "plt.title('Training and Validation Loss')\n",
    "plt.legend()\n",
    "\n",
    "plt.show()"
   ]
  },
  {
   "cell_type": "markdown",
   "id": "ba874d13",
   "metadata": {},
   "source": [
    "# Analysis - Training & Validation\n",
    "## 과적합 \n",
    "약 10 Epoch 이후 training의 성능만 향상\n",
    "\n",
    "---"
   ]
  },
  {
   "cell_type": "code",
   "execution_count": 10,
   "id": "526035cb",
   "metadata": {},
   "outputs": [
    {
     "name": "stdout",
     "output_type": "stream",
     "text": [
      "17/17 [==============================] - 1s 54ms/step - loss: 0.2931 - accuracy: 0.8963\n",
      "test accuracy: 0.8962963223457336\n",
      "test loss: 0.2930763363838196\n"
     ]
    }
   ],
   "source": [
    "test_loss, test_acc = model.evaluate(test_dataset)\n",
    "\n",
    "print(f\"test accuracy: {test_acc}\")\n",
    "print(f\"test loss: {test_loss}\")"
   ]
  },
  {
   "cell_type": "markdown",
   "id": "dfb57640",
   "metadata": {},
   "source": [
    "# Analysis - Test\n",
    "(compared to) `Step1/9-3.Data_Added_SGD` 모델  \n",
    "Accuracy : 93.9% → 89.6%  \n",
    "Loss : 0.1712 → 0.2931  \n",
    "클래스의 증가로 성능이 감소한 것으로 추측됨"
   ]
  }
 ],
 "metadata": {
  "kernelspec": {
   "display_name": "Python 3 (ipykernel)",
   "language": "python",
   "name": "python3"
  },
  "language_info": {
   "codemirror_mode": {
    "name": "ipython",
    "version": 3
   },
   "file_extension": ".py",
   "mimetype": "text/x-python",
   "name": "python",
   "nbconvert_exporter": "python",
   "pygments_lexer": "ipython3",
   "version": "3.8.10"
  }
 },
 "nbformat": 4,
 "nbformat_minor": 5
}
