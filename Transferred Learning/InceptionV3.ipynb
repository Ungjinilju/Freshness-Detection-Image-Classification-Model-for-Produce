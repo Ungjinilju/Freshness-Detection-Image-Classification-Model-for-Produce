{
 "cells": [
  {
   "cell_type": "markdown",
   "id": "70be1476",
   "metadata": {},
   "source": [
    "# Guide\n",
    "## Code\n",
    "In [4] `base_dir` : 실제 데이터 경로로 변경 필요"
   ]
  },
  {
   "cell_type": "code",
   "execution_count": 1,
   "id": "7def2f76",
   "metadata": {
    "scrolled": false
   },
   "outputs": [
    {
     "name": "stderr",
     "output_type": "stream",
     "text": [
      "2024-11-24 13:53:54.398165: I tensorflow/core/platform/cpu_feature_guard.cc:182] This TensorFlow binary is optimized to use available CPU instructions in performance-critical operations.\n",
      "To enable the following instructions: AVX2 FMA, in other operations, rebuild TensorFlow with the appropriate compiler flags.\n"
     ]
    }
   ],
   "source": [
    "from tensorflow import keras\n",
    "from tensorflow.keras import layers, optimizers\n",
    "import os"
   ]
  },
  {
   "cell_type": "code",
   "execution_count": 2,
   "id": "3840b923",
   "metadata": {},
   "outputs": [],
   "source": [
    "image_size = (299, 299)\n",
    "batch_size = 32"
   ]
  },
  {
   "cell_type": "code",
   "execution_count": 4,
   "id": "5ac46eb3",
   "metadata": {},
   "outputs": [
    {
     "name": "stdout",
     "output_type": "stream",
     "text": [
      "Found 11340 files belonging to 18 classes.\n",
      "Found 3240 files belonging to 18 classes.\n",
      "Found 1620 files belonging to 18 classes.\n"
     ]
    },
    {
     "name": "stderr",
     "output_type": "stream",
     "text": [
      "2024-11-24 13:53:56.109325: I tensorflow/compiler/xla/stream_executor/cuda/cuda_gpu_executor.cc:995] successful NUMA node read from SysFS had negative value (-1), but there must be at least one NUMA node, so returning NUMA node zero. See more at https://github.com/torvalds/linux/blob/v6.0/Documentation/ABI/testing/sysfs-bus-pci#L344-L355\n",
      "2024-11-24 13:53:56.112537: I tensorflow/compiler/xla/stream_executor/cuda/cuda_gpu_executor.cc:995] successful NUMA node read from SysFS had negative value (-1), but there must be at least one NUMA node, so returning NUMA node zero. See more at https://github.com/torvalds/linux/blob/v6.0/Documentation/ABI/testing/sysfs-bus-pci#L344-L355\n",
      "2024-11-24 13:53:56.112624: I tensorflow/compiler/xla/stream_executor/cuda/cuda_gpu_executor.cc:995] successful NUMA node read from SysFS had negative value (-1), but there must be at least one NUMA node, so returning NUMA node zero. See more at https://github.com/torvalds/linux/blob/v6.0/Documentation/ABI/testing/sysfs-bus-pci#L344-L355\n",
      "2024-11-24 13:53:56.113243: I tensorflow/compiler/xla/stream_executor/cuda/cuda_gpu_executor.cc:995] successful NUMA node read from SysFS had negative value (-1), but there must be at least one NUMA node, so returning NUMA node zero. See more at https://github.com/torvalds/linux/blob/v6.0/Documentation/ABI/testing/sysfs-bus-pci#L344-L355\n",
      "2024-11-24 13:53:56.113323: I tensorflow/compiler/xla/stream_executor/cuda/cuda_gpu_executor.cc:995] successful NUMA node read from SysFS had negative value (-1), but there must be at least one NUMA node, so returning NUMA node zero. See more at https://github.com/torvalds/linux/blob/v6.0/Documentation/ABI/testing/sysfs-bus-pci#L344-L355\n",
      "2024-11-24 13:53:56.113392: I tensorflow/compiler/xla/stream_executor/cuda/cuda_gpu_executor.cc:995] successful NUMA node read from SysFS had negative value (-1), but there must be at least one NUMA node, so returning NUMA node zero. See more at https://github.com/torvalds/linux/blob/v6.0/Documentation/ABI/testing/sysfs-bus-pci#L344-L355\n",
      "2024-11-24 13:53:56.180442: I tensorflow/compiler/xla/stream_executor/cuda/cuda_gpu_executor.cc:995] successful NUMA node read from SysFS had negative value (-1), but there must be at least one NUMA node, so returning NUMA node zero. See more at https://github.com/torvalds/linux/blob/v6.0/Documentation/ABI/testing/sysfs-bus-pci#L344-L355\n",
      "2024-11-24 13:53:56.180556: I tensorflow/compiler/xla/stream_executor/cuda/cuda_gpu_executor.cc:995] successful NUMA node read from SysFS had negative value (-1), but there must be at least one NUMA node, so returning NUMA node zero. See more at https://github.com/torvalds/linux/blob/v6.0/Documentation/ABI/testing/sysfs-bus-pci#L344-L355\n",
      "2024-11-24 13:53:56.180634: I tensorflow/compiler/xla/stream_executor/cuda/cuda_gpu_executor.cc:995] successful NUMA node read from SysFS had negative value (-1), but there must be at least one NUMA node, so returning NUMA node zero. See more at https://github.com/torvalds/linux/blob/v6.0/Documentation/ABI/testing/sysfs-bus-pci#L344-L355\n",
      "2024-11-24 13:53:56.180699: I tensorflow/core/common_runtime/gpu/gpu_device.cc:1639] Created device /job:localhost/replica:0/task:0/device:GPU:0 with 22207 MB memory:  -> device: 0, name: NVIDIA GeForce RTX 4090, pci bus id: 0000:01:00.0, compute capability: 8.9\n"
     ]
    }
   ],
   "source": [
    "# 데이터셋 로드\n",
    "from tensorflow.keras.utils import image_dataset_from_directory\n",
    "\n",
    "# 실제 데이터의 경로로 변경 필요\n",
    "base_dir = \"/tf/Fixed_Data/Data_Final/Step2-2\"\n",
    "\n",
    "train_dataset = image_dataset_from_directory(\n",
    "    os.path.join(base_dir, 'train'),\n",
    "    image_size=image_size,\n",
    "    batch_size=batch_size)\n",
    "\n",
    "validation_dataset = image_dataset_from_directory(\n",
    "    os.path.join(base_dir, 'validation'),\n",
    "    image_size=image_size,\n",
    "    batch_size=batch_size)\n",
    "\n",
    "test_dataset = image_dataset_from_directory(\n",
    "    os.path.join(base_dir, 'test'),\n",
    "    image_size=image_size,\n",
    "    batch_size=batch_size)"
   ]
  },
  {
   "cell_type": "code",
   "execution_count": 5,
   "id": "3682112d",
   "metadata": {},
   "outputs": [],
   "source": [
    "from tensorflow.keras.applications import InceptionV3\n",
    "base_model = InceptionV3(weights='imagenet', include_top=False, input_shape=(299, 299, 3))\n",
    "\n",
    "# 입력 레이어 정의 및 데이터 정규화\n",
    "inputs = layers.Input(shape=(299, 299, 3))\n",
    "x = layers.Rescaling(1./255)(inputs)\n",
    "\n",
    "# InceptionV3 모델 사용\n",
    "x = base_model(x, training=False)\n",
    "\n",
    "# 새로운 레이어 추가\n",
    "x = layers.GlobalAveragePooling2D()(x)\n",
    "outputs = layers.Dense(18, activation='softmax')(x)\n",
    "\n",
    "model = keras.Model(inputs=inputs, outputs=outputs)\n",
    "\n",
    "for layer in base_model.layers:\n",
    "    layer.trainable = False\n"
   ]
  },
  {
   "cell_type": "code",
   "execution_count": 6,
   "id": "0529f91f",
   "metadata": {
    "scrolled": false
   },
   "outputs": [
    {
     "name": "stdout",
     "output_type": "stream",
     "text": [
      "Model: \"model\"\n",
      "_________________________________________________________________\n",
      " Layer (type)                Output Shape              Param #   \n",
      "=================================================================\n",
      " input_2 (InputLayer)        [(None, 299, 299, 3)]     0         \n",
      "                                                                 \n",
      " rescaling (Rescaling)       (None, 299, 299, 3)       0         \n",
      "                                                                 \n",
      " inception_v3 (Functional)   (None, 8, 8, 2048)        21802784  \n",
      "                                                                 \n",
      " global_average_pooling2d (  (None, 2048)              0         \n",
      " GlobalAveragePooling2D)                                         \n",
      "                                                                 \n",
      " dense (Dense)               (None, 18)                36882     \n",
      "                                                                 \n",
      "=================================================================\n",
      "Total params: 21839666 (83.31 MB)\n",
      "Trainable params: 36882 (144.07 KB)\n",
      "Non-trainable params: 21802784 (83.17 MB)\n",
      "_________________________________________________________________\n"
     ]
    }
   ],
   "source": [
    "model.summary()"
   ]
  },
  {
   "cell_type": "code",
   "execution_count": 7,
   "id": "7a265a8c",
   "metadata": {},
   "outputs": [],
   "source": [
    "\n",
    "# 학습률 및 옵티마이저 설정\n",
    "optimizer = optimizers.RMSprop(learning_rate=1e-5)\n",
    "\n",
    "# 모델 컴파일\n",
    "model.compile(optimizer=optimizer,\n",
    "              loss='sparse_categorical_crossentropy',\n",
    "              metrics=['accuracy'])"
   ]
  },
  {
   "cell_type": "code",
   "execution_count": 8,
   "id": "5e5fcbae",
   "metadata": {
    "scrolled": true
   },
   "outputs": [
    {
     "name": "stdout",
     "output_type": "stream",
     "text": [
      "Epoch 1/100\n"
     ]
    },
    {
     "name": "stderr",
     "output_type": "stream",
     "text": [
      "2024-11-24 13:54:01.589317: I tensorflow/compiler/xla/stream_executor/cuda/cuda_dnn.cc:432] Loaded cuDNN version 8600\n",
      "2024-11-24 13:54:01.828931: I tensorflow/compiler/xla/stream_executor/cuda/cuda_blas.cc:606] TensorFloat-32 will be used for the matrix multiplication. This will only be logged once.\n"
     ]
    },
    {
     "name": "stdout",
     "output_type": "stream",
     "text": [
      "\r",
      "  1/355 [..............................] - ETA: 22:01 - loss: 3.0267 - accuracy: 0.0312"
     ]
    },
    {
     "name": "stderr",
     "output_type": "stream",
     "text": [
      "2024-11-24 13:54:02.233601: I tensorflow/compiler/xla/service/service.cc:168] XLA service 0x8978340 initialized for platform CUDA (this does not guarantee that XLA will be used). Devices:\n",
      "2024-11-24 13:54:02.233622: I tensorflow/compiler/xla/service/service.cc:176]   StreamExecutor device (0): NVIDIA GeForce RTX 4090, Compute Capability 8.9\n",
      "2024-11-24 13:54:02.236894: I tensorflow/compiler/mlir/tensorflow/utils/dump_mlir_util.cc:255] disabling MLIR crash reproducer, set env var `MLIR_CRASH_REPRODUCER_DIRECTORY` to enable.\n",
      "2024-11-24 13:54:02.306977: I ./tensorflow/compiler/jit/device_compiler.h:186] Compiled cluster using XLA!  This line is logged at most once for the lifetime of the process.\n"
     ]
    },
    {
     "name": "stdout",
     "output_type": "stream",
     "text": [
      "355/355 [==============================] - 23s 55ms/step - loss: 2.8142 - accuracy: 0.1244 - val_loss: 2.6205 - val_accuracy: 0.2170\n",
      "Epoch 2/100\n",
      "355/355 [==============================] - 18s 50ms/step - loss: 2.4630 - accuracy: 0.3333 - val_loss: 2.3112 - val_accuracy: 0.4512\n",
      "Epoch 3/100\n",
      "355/355 [==============================] - 18s 51ms/step - loss: 2.1721 - accuracy: 0.5259 - val_loss: 2.0405 - val_accuracy: 0.5920\n",
      "Epoch 4/100\n",
      "355/355 [==============================] - 18s 50ms/step - loss: 1.9186 - accuracy: 0.6244 - val_loss: 1.8072 - val_accuracy: 0.6574\n",
      "Epoch 5/100\n",
      "355/355 [==============================] - 18s 50ms/step - loss: 1.7022 - accuracy: 0.6756 - val_loss: 1.6091 - val_accuracy: 0.7006\n",
      "Epoch 6/100\n",
      "355/355 [==============================] - 18s 51ms/step - loss: 1.5211 - accuracy: 0.7096 - val_loss: 1.4455 - val_accuracy: 0.7278\n",
      "Epoch 7/100\n",
      "355/355 [==============================] - 18s 50ms/step - loss: 1.3709 - accuracy: 0.7351 - val_loss: 1.3093 - val_accuracy: 0.7438\n",
      "Epoch 8/100\n",
      "355/355 [==============================] - 18s 50ms/step - loss: 1.2467 - accuracy: 0.7561 - val_loss: 1.1979 - val_accuracy: 0.7599\n",
      "Epoch 9/100\n",
      "355/355 [==============================] - 18s 51ms/step - loss: 1.1443 - accuracy: 0.7730 - val_loss: 1.1054 - val_accuracy: 0.7738\n",
      "Epoch 10/100\n",
      "355/355 [==============================] - 18s 51ms/step - loss: 1.0590 - accuracy: 0.7869 - val_loss: 1.0284 - val_accuracy: 0.7836\n",
      "Epoch 11/100\n",
      "355/355 [==============================] - 18s 50ms/step - loss: 0.9870 - accuracy: 0.7962 - val_loss: 0.9629 - val_accuracy: 0.7929\n",
      "Epoch 12/100\n",
      "355/355 [==============================] - 18s 50ms/step - loss: 0.9258 - accuracy: 0.8059 - val_loss: 0.9073 - val_accuracy: 0.8012\n",
      "Epoch 13/100\n",
      "355/355 [==============================] - 18s 50ms/step - loss: 0.8734 - accuracy: 0.8136 - val_loss: 0.8593 - val_accuracy: 0.8071\n",
      "Epoch 14/100\n",
      "355/355 [==============================] - 18s 50ms/step - loss: 0.8273 - accuracy: 0.8184 - val_loss: 0.8167 - val_accuracy: 0.8145\n",
      "Epoch 15/100\n",
      "355/355 [==============================] - 18s 50ms/step - loss: 0.7868 - accuracy: 0.8242 - val_loss: 0.7798 - val_accuracy: 0.8216\n",
      "Epoch 16/100\n",
      "355/355 [==============================] - 18s 51ms/step - loss: 0.7510 - accuracy: 0.8292 - val_loss: 0.7467 - val_accuracy: 0.8275\n",
      "Epoch 17/100\n",
      "355/355 [==============================] - 18s 51ms/step - loss: 0.7190 - accuracy: 0.8335 - val_loss: 0.7171 - val_accuracy: 0.8318\n",
      "Epoch 18/100\n",
      "355/355 [==============================] - 18s 51ms/step - loss: 0.6904 - accuracy: 0.8382 - val_loss: 0.6909 - val_accuracy: 0.8370\n",
      "Epoch 19/100\n",
      "355/355 [==============================] - 18s 50ms/step - loss: 0.6648 - accuracy: 0.8425 - val_loss: 0.6670 - val_accuracy: 0.8386\n",
      "Epoch 20/100\n",
      "355/355 [==============================] - 18s 51ms/step - loss: 0.6412 - accuracy: 0.8469 - val_loss: 0.6454 - val_accuracy: 0.8441\n",
      "Epoch 21/100\n",
      "355/355 [==============================] - 18s 51ms/step - loss: 0.6199 - accuracy: 0.8501 - val_loss: 0.6255 - val_accuracy: 0.8469\n",
      "Epoch 22/100\n",
      "355/355 [==============================] - 18s 50ms/step - loss: 0.6002 - accuracy: 0.8530 - val_loss: 0.6074 - val_accuracy: 0.8500\n",
      "Epoch 23/100\n",
      "355/355 [==============================] - 18s 50ms/step - loss: 0.5823 - accuracy: 0.8577 - val_loss: 0.5907 - val_accuracy: 0.8525\n",
      "Epoch 24/100\n",
      "355/355 [==============================] - 18s 51ms/step - loss: 0.5657 - accuracy: 0.8614 - val_loss: 0.5753 - val_accuracy: 0.8549\n",
      "Epoch 25/100\n",
      "355/355 [==============================] - 18s 51ms/step - loss: 0.5504 - accuracy: 0.8643 - val_loss: 0.5611 - val_accuracy: 0.8577\n",
      "Epoch 26/100\n",
      "355/355 [==============================] - 18s 51ms/step - loss: 0.5361 - accuracy: 0.8677 - val_loss: 0.5478 - val_accuracy: 0.8608\n",
      "Epoch 27/100\n",
      "355/355 [==============================] - 18s 50ms/step - loss: 0.5228 - accuracy: 0.8704 - val_loss: 0.5354 - val_accuracy: 0.8630\n",
      "Epoch 28/100\n",
      "355/355 [==============================] - 18s 50ms/step - loss: 0.5104 - accuracy: 0.8723 - val_loss: 0.5239 - val_accuracy: 0.8657\n",
      "Epoch 29/100\n",
      "355/355 [==============================] - 18s 51ms/step - loss: 0.4988 - accuracy: 0.8752 - val_loss: 0.5131 - val_accuracy: 0.8679\n",
      "Epoch 30/100\n",
      "355/355 [==============================] - 18s 51ms/step - loss: 0.4878 - accuracy: 0.8761 - val_loss: 0.5029 - val_accuracy: 0.8691\n",
      "Epoch 31/100\n",
      "355/355 [==============================] - 18s 51ms/step - loss: 0.4773 - accuracy: 0.8788 - val_loss: 0.4932 - val_accuracy: 0.8704\n",
      "Epoch 32/100\n",
      "355/355 [==============================] - 18s 50ms/step - loss: 0.4675 - accuracy: 0.8811 - val_loss: 0.4840 - val_accuracy: 0.8716\n",
      "Epoch 33/100\n",
      "355/355 [==============================] - 18s 51ms/step - loss: 0.4582 - accuracy: 0.8833 - val_loss: 0.4754 - val_accuracy: 0.8731\n",
      "Epoch 34/100\n",
      "355/355 [==============================] - 18s 51ms/step - loss: 0.4494 - accuracy: 0.8857 - val_loss: 0.4672 - val_accuracy: 0.8750\n",
      "Epoch 35/100\n",
      "355/355 [==============================] - 18s 51ms/step - loss: 0.4410 - accuracy: 0.8878 - val_loss: 0.4595 - val_accuracy: 0.8750\n",
      "Epoch 36/100\n",
      "355/355 [==============================] - 18s 50ms/step - loss: 0.4330 - accuracy: 0.8894 - val_loss: 0.4519 - val_accuracy: 0.8762\n",
      "Epoch 37/100\n",
      "355/355 [==============================] - 18s 51ms/step - loss: 0.4254 - accuracy: 0.8903 - val_loss: 0.4449 - val_accuracy: 0.8778\n",
      "Epoch 38/100\n",
      "355/355 [==============================] - 18s 51ms/step - loss: 0.4183 - accuracy: 0.8920 - val_loss: 0.4382 - val_accuracy: 0.8796\n",
      "Epoch 39/100\n",
      "355/355 [==============================] - 18s 51ms/step - loss: 0.4114 - accuracy: 0.8936 - val_loss: 0.4319 - val_accuracy: 0.8796\n",
      "Epoch 40/100\n",
      "355/355 [==============================] - 18s 51ms/step - loss: 0.4048 - accuracy: 0.8946 - val_loss: 0.4257 - val_accuracy: 0.8812\n",
      "Epoch 41/100\n",
      "355/355 [==============================] - 18s 50ms/step - loss: 0.3984 - accuracy: 0.8966 - val_loss: 0.4198 - val_accuracy: 0.8833\n",
      "Epoch 42/100\n",
      "355/355 [==============================] - 18s 50ms/step - loss: 0.3924 - accuracy: 0.8980 - val_loss: 0.4142 - val_accuracy: 0.8849\n",
      "Epoch 43/100\n",
      "355/355 [==============================] - 18s 51ms/step - loss: 0.3866 - accuracy: 0.8998 - val_loss: 0.4089 - val_accuracy: 0.8880\n",
      "Epoch 44/100\n",
      "355/355 [==============================] - 18s 51ms/step - loss: 0.3811 - accuracy: 0.9011 - val_loss: 0.4036 - val_accuracy: 0.8914\n",
      "Epoch 45/100\n",
      "355/355 [==============================] - 18s 50ms/step - loss: 0.3757 - accuracy: 0.9019 - val_loss: 0.3988 - val_accuracy: 0.8917\n",
      "Epoch 46/100\n",
      "355/355 [==============================] - 18s 50ms/step - loss: 0.3705 - accuracy: 0.9030 - val_loss: 0.3939 - val_accuracy: 0.8932\n",
      "Epoch 47/100\n",
      "355/355 [==============================] - 18s 50ms/step - loss: 0.3655 - accuracy: 0.9037 - val_loss: 0.3892 - val_accuracy: 0.8948\n",
      "Epoch 48/100\n",
      "355/355 [==============================] - 18s 50ms/step - loss: 0.3607 - accuracy: 0.9049 - val_loss: 0.3848 - val_accuracy: 0.8957\n",
      "Epoch 49/100\n",
      "355/355 [==============================] - 18s 50ms/step - loss: 0.3561 - accuracy: 0.9056 - val_loss: 0.3805 - val_accuracy: 0.8966\n",
      "Epoch 50/100\n",
      "355/355 [==============================] - 18s 50ms/step - loss: 0.3517 - accuracy: 0.9065 - val_loss: 0.3763 - val_accuracy: 0.8972\n",
      "Epoch 51/100\n",
      "355/355 [==============================] - 18s 50ms/step - loss: 0.3474 - accuracy: 0.9079 - val_loss: 0.3724 - val_accuracy: 0.8972\n",
      "Epoch 52/100\n",
      "355/355 [==============================] - 18s 51ms/step - loss: 0.3432 - accuracy: 0.9086 - val_loss: 0.3685 - val_accuracy: 0.8991\n",
      "Epoch 53/100\n",
      "355/355 [==============================] - 18s 50ms/step - loss: 0.3391 - accuracy: 0.9089 - val_loss: 0.3648 - val_accuracy: 0.9009\n",
      "Epoch 54/100\n",
      "355/355 [==============================] - 18s 50ms/step - loss: 0.3352 - accuracy: 0.9099 - val_loss: 0.3612 - val_accuracy: 0.9006\n",
      "Epoch 55/100\n",
      "355/355 [==============================] - 18s 51ms/step - loss: 0.3314 - accuracy: 0.9110 - val_loss: 0.3576 - val_accuracy: 0.9028\n",
      "Epoch 56/100\n",
      "355/355 [==============================] - 18s 50ms/step - loss: 0.3277 - accuracy: 0.9114 - val_loss: 0.3542 - val_accuracy: 0.9040\n",
      "Epoch 57/100\n",
      "355/355 [==============================] - 18s 50ms/step - loss: 0.3241 - accuracy: 0.9125 - val_loss: 0.3509 - val_accuracy: 0.9043\n",
      "Epoch 58/100\n",
      "355/355 [==============================] - 18s 51ms/step - loss: 0.3206 - accuracy: 0.9136 - val_loss: 0.3476 - val_accuracy: 0.9059\n",
      "Epoch 59/100\n",
      "355/355 [==============================] - 18s 50ms/step - loss: 0.3172 - accuracy: 0.9143 - val_loss: 0.3445 - val_accuracy: 0.9065\n",
      "Epoch 60/100\n",
      "355/355 [==============================] - 18s 50ms/step - loss: 0.3139 - accuracy: 0.9153 - val_loss: 0.3415 - val_accuracy: 0.9071\n",
      "Epoch 61/100\n",
      "355/355 [==============================] - 18s 50ms/step - loss: 0.3107 - accuracy: 0.9162 - val_loss: 0.3385 - val_accuracy: 0.9074\n",
      "Epoch 62/100\n",
      "355/355 [==============================] - 18s 50ms/step - loss: 0.3077 - accuracy: 0.9169 - val_loss: 0.3356 - val_accuracy: 0.9086\n",
      "Epoch 63/100\n",
      "355/355 [==============================] - 18s 51ms/step - loss: 0.3047 - accuracy: 0.9178 - val_loss: 0.3329 - val_accuracy: 0.9093\n",
      "Epoch 64/100\n",
      "355/355 [==============================] - 18s 51ms/step - loss: 0.3017 - accuracy: 0.9187 - val_loss: 0.3302 - val_accuracy: 0.9096\n",
      "Epoch 65/100\n",
      "355/355 [==============================] - 18s 50ms/step - loss: 0.2988 - accuracy: 0.9199 - val_loss: 0.3276 - val_accuracy: 0.9114\n",
      "Epoch 66/100\n",
      "355/355 [==============================] - 18s 50ms/step - loss: 0.2960 - accuracy: 0.9205 - val_loss: 0.3251 - val_accuracy: 0.9108\n",
      "Epoch 67/100\n",
      "355/355 [==============================] - 18s 50ms/step - loss: 0.2933 - accuracy: 0.9212 - val_loss: 0.3226 - val_accuracy: 0.9120\n",
      "Epoch 68/100\n",
      "355/355 [==============================] - 18s 50ms/step - loss: 0.2906 - accuracy: 0.9216 - val_loss: 0.3201 - val_accuracy: 0.9120\n",
      "Epoch 69/100\n",
      "355/355 [==============================] - 18s 50ms/step - loss: 0.2881 - accuracy: 0.9221 - val_loss: 0.3178 - val_accuracy: 0.9139\n",
      "Epoch 70/100\n",
      "355/355 [==============================] - 18s 50ms/step - loss: 0.2856 - accuracy: 0.9231 - val_loss: 0.3154 - val_accuracy: 0.9142\n",
      "Epoch 71/100\n",
      "355/355 [==============================] - 18s 50ms/step - loss: 0.2831 - accuracy: 0.9240 - val_loss: 0.3131 - val_accuracy: 0.9142\n",
      "Epoch 72/100\n",
      "355/355 [==============================] - 18s 51ms/step - loss: 0.2806 - accuracy: 0.9244 - val_loss: 0.3108 - val_accuracy: 0.9154\n",
      "Epoch 73/100\n",
      "355/355 [==============================] - 18s 51ms/step - loss: 0.2782 - accuracy: 0.9255 - val_loss: 0.3086 - val_accuracy: 0.9157\n",
      "Epoch 74/100\n",
      "355/355 [==============================] - 18s 51ms/step - loss: 0.2759 - accuracy: 0.9258 - val_loss: 0.3065 - val_accuracy: 0.9160\n",
      "Epoch 75/100\n",
      "355/355 [==============================] - 18s 50ms/step - loss: 0.2736 - accuracy: 0.9271 - val_loss: 0.3044 - val_accuracy: 0.9170\n",
      "Epoch 76/100\n",
      "355/355 [==============================] - 18s 51ms/step - loss: 0.2714 - accuracy: 0.9275 - val_loss: 0.3024 - val_accuracy: 0.9179\n",
      "Epoch 77/100\n",
      "355/355 [==============================] - 18s 50ms/step - loss: 0.2692 - accuracy: 0.9273 - val_loss: 0.3004 - val_accuracy: 0.9179\n",
      "Epoch 78/100\n",
      "355/355 [==============================] - 18s 50ms/step - loss: 0.2671 - accuracy: 0.9280 - val_loss: 0.2985 - val_accuracy: 0.9179\n",
      "Epoch 79/100\n",
      "355/355 [==============================] - 18s 50ms/step - loss: 0.2650 - accuracy: 0.9283 - val_loss: 0.2965 - val_accuracy: 0.9185\n",
      "Epoch 80/100\n",
      "355/355 [==============================] - 18s 51ms/step - loss: 0.2630 - accuracy: 0.9288 - val_loss: 0.2947 - val_accuracy: 0.9188\n",
      "Epoch 81/100\n",
      "355/355 [==============================] - 18s 50ms/step - loss: 0.2610 - accuracy: 0.9294 - val_loss: 0.2930 - val_accuracy: 0.9198\n",
      "Epoch 82/100\n",
      "355/355 [==============================] - 18s 50ms/step - loss: 0.2590 - accuracy: 0.9297 - val_loss: 0.2912 - val_accuracy: 0.9198\n",
      "Epoch 83/100\n",
      "355/355 [==============================] - 18s 50ms/step - loss: 0.2571 - accuracy: 0.9300 - val_loss: 0.2894 - val_accuracy: 0.9201\n",
      "Epoch 84/100\n",
      "355/355 [==============================] - 18s 50ms/step - loss: 0.2552 - accuracy: 0.9307 - val_loss: 0.2877 - val_accuracy: 0.9210\n",
      "Epoch 85/100\n",
      "355/355 [==============================] - 18s 51ms/step - loss: 0.2534 - accuracy: 0.9310 - val_loss: 0.2860 - val_accuracy: 0.9222\n",
      "Epoch 86/100\n",
      "355/355 [==============================] - 18s 51ms/step - loss: 0.2515 - accuracy: 0.9315 - val_loss: 0.2843 - val_accuracy: 0.9225\n",
      "Epoch 87/100\n",
      "355/355 [==============================] - 18s 50ms/step - loss: 0.2497 - accuracy: 0.9315 - val_loss: 0.2827 - val_accuracy: 0.9231\n",
      "Epoch 88/100\n",
      "355/355 [==============================] - 18s 51ms/step - loss: 0.2480 - accuracy: 0.9323 - val_loss: 0.2812 - val_accuracy: 0.9235\n",
      "Epoch 89/100\n",
      "355/355 [==============================] - 18s 50ms/step - loss: 0.2463 - accuracy: 0.9333 - val_loss: 0.2797 - val_accuracy: 0.9244\n",
      "Epoch 90/100\n",
      "355/355 [==============================] - 18s 51ms/step - loss: 0.2446 - accuracy: 0.9336 - val_loss: 0.2782 - val_accuracy: 0.9247\n",
      "Epoch 91/100\n",
      "355/355 [==============================] - 18s 51ms/step - loss: 0.2429 - accuracy: 0.9343 - val_loss: 0.2767 - val_accuracy: 0.9253\n",
      "Epoch 92/100\n",
      "355/355 [==============================] - 19s 52ms/step - loss: 0.2413 - accuracy: 0.9344 - val_loss: 0.2752 - val_accuracy: 0.9259\n",
      "Epoch 93/100\n",
      "355/355 [==============================] - 19s 52ms/step - loss: 0.2397 - accuracy: 0.9349 - val_loss: 0.2738 - val_accuracy: 0.9262\n",
      "Epoch 94/100\n",
      "355/355 [==============================] - 19s 51ms/step - loss: 0.2381 - accuracy: 0.9355 - val_loss: 0.2723 - val_accuracy: 0.9269\n",
      "Epoch 95/100\n",
      "355/355 [==============================] - 18s 50ms/step - loss: 0.2366 - accuracy: 0.9354 - val_loss: 0.2709 - val_accuracy: 0.9265\n",
      "Epoch 96/100\n",
      "355/355 [==============================] - 18s 51ms/step - loss: 0.2350 - accuracy: 0.9358 - val_loss: 0.2695 - val_accuracy: 0.9275\n",
      "Epoch 97/100\n",
      "355/355 [==============================] - 18s 50ms/step - loss: 0.2336 - accuracy: 0.9367 - val_loss: 0.2682 - val_accuracy: 0.9281\n",
      "Epoch 98/100\n",
      "355/355 [==============================] - 19s 52ms/step - loss: 0.2321 - accuracy: 0.9366 - val_loss: 0.2669 - val_accuracy: 0.9281\n",
      "Epoch 99/100\n",
      "355/355 [==============================] - 18s 51ms/step - loss: 0.2306 - accuracy: 0.9369 - val_loss: 0.2656 - val_accuracy: 0.9290\n",
      "Epoch 100/100\n",
      "355/355 [==============================] - 18s 51ms/step - loss: 0.2292 - accuracy: 0.9378 - val_loss: 0.2644 - val_accuracy: 0.9293\n"
     ]
    }
   ],
   "source": [
    "history = model.fit(\n",
    "    train_dataset,\n",
    "    validation_data=validation_dataset,\n",
    "    epochs=100\n",
    ")\n"
   ]
  },
  {
   "cell_type": "code",
   "execution_count": 9,
   "id": "0e8d96b1",
   "metadata": {},
   "outputs": [
    {
     "data": {
      "image/png": "[encoded data removed]",
      "text/plain": [
       "<Figure size 1500x500 with 2 Axes>"
      ]
     },
     "metadata": {},
     "output_type": "display_data"
    }
   ],
   "source": [
    "# 훈련 정확도와 손실 그래프 생성\n",
    "import matplotlib.pyplot as plt \n",
    "\n",
    "acc = history.history['accuracy']         \n",
    "val_acc = history.history['val_accuracy']   \n",
    "loss = history.history['loss']             \n",
    "val_loss = history.history['val_loss']     \n",
    "epochs_range = range(1, len(acc) + 1)\n",
    "\n",
    "plt.figure(figsize=(15, 5))\n",
    "plt.subplot(1, 2, 1)\n",
    "plt.plot(epochs_range, acc, label='Training Accuracy')\n",
    "plt.plot(epochs_range, val_acc, label='Validation Accuracy')\n",
    "plt.title('Training and Validation Accuracy')\n",
    "plt.legend()\n",
    "\n",
    "plt.subplot(1, 2, 2)\n",
    "plt.plot(epochs_range, loss, label='Training Loss')\n",
    "plt.plot(epochs_range, val_loss, label='Validation Loss')\n",
    "plt.title('Training and Validation Loss')\n",
    "plt.legend()\n",
    "\n",
    "plt.show()"
   ]
  },
  {
   "cell_type": "code",
   "execution_count": 10,
   "id": "e3cc6669",
   "metadata": {},
   "outputs": [
    {
     "name": "stdout",
     "output_type": "stream",
     "text": [
      "51/51 [==============================] - 3s 46ms/step - loss: 0.2507 - accuracy: 0.9327\n",
      "test accuracy: 0.9327160716056824\n",
      "test loss: 0.25074586272239685\n"
     ]
    }
   ],
   "source": [
    "test_loss, test_acc = model.evaluate(test_dataset)\n",
    "\n",
    "print(f\"test accuracy: {test_acc}\")\n",
    "print(f\"test loss: {test_loss}\")"
   ]
  }
 ],
 "metadata": {
  "kernelspec": {
   "display_name": "Python 3 (ipykernel)",
   "language": "python",
   "name": "python3"
  },
  "language_info": {
   "codemirror_mode": {
    "name": "ipython",
    "version": 3
   },
   "file_extension": ".py",
   "mimetype": "text/x-python",
   "name": "python",
   "nbconvert_exporter": "python",
   "pygments_lexer": "ipython3",
   "version": "3.8.10"
  }
 },
 "nbformat": 4,
 "nbformat_minor": 5
}
