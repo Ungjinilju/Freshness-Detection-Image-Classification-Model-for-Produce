{
 "cells": [
  {
   "cell_type": "markdown",
   "id": "b5adaf34",
   "metadata": {},
   "source": [
    "# Guide\n",
    "## Code\n",
    "In [3] `base_dir` : 실제 데이터 경로로 변경 필요"
   ]
  },
  {
   "cell_type": "code",
   "execution_count": 1,
   "id": "41fb8089",
   "metadata": {},
   "outputs": [
    {
     "name": "stderr",
     "output_type": "stream",
     "text": [
      "2024-11-24 15:11:51.404321: I tensorflow/core/platform/cpu_feature_guard.cc:182] This TensorFlow binary is optimized to use available CPU instructions in performance-critical operations.\n",
      "To enable the following instructions: AVX2 FMA, in other operations, rebuild TensorFlow with the appropriate compiler flags.\n"
     ]
    }
   ],
   "source": [
    "from tensorflow import keras\n",
    "from tensorflow.keras import layers, optimizers\n",
    "import os"
   ]
  },
  {
   "cell_type": "code",
   "execution_count": 2,
   "id": "e199e2cc",
   "metadata": {},
   "outputs": [],
   "source": [
    "image_size = (224, 224)\n",
    "batch_size = 32"
   ]
  },
  {
   "cell_type": "code",
   "execution_count": 3,
   "id": "897fc118",
   "metadata": {},
   "outputs": [
    {
     "name": "stdout",
     "output_type": "stream",
     "text": [
      "Found 11340 files belonging to 18 classes.\n",
      "Found 3240 files belonging to 18 classes.\n",
      "Found 1620 files belonging to 18 classes.\n"
     ]
    },
    {
     "name": "stderr",
     "output_type": "stream",
     "text": [
      "2024-11-24 15:11:53.142561: I tensorflow/compiler/xla/stream_executor/cuda/cuda_gpu_executor.cc:995] successful NUMA node read from SysFS had negative value (-1), but there must be at least one NUMA node, so returning NUMA node zero. See more at https://github.com/torvalds/linux/blob/v6.0/Documentation/ABI/testing/sysfs-bus-pci#L344-L355\n",
      "2024-11-24 15:11:53.145866: I tensorflow/compiler/xla/stream_executor/cuda/cuda_gpu_executor.cc:995] successful NUMA node read from SysFS had negative value (-1), but there must be at least one NUMA node, so returning NUMA node zero. See more at https://github.com/torvalds/linux/blob/v6.0/Documentation/ABI/testing/sysfs-bus-pci#L344-L355\n",
      "2024-11-24 15:11:53.145953: I tensorflow/compiler/xla/stream_executor/cuda/cuda_gpu_executor.cc:995] successful NUMA node read from SysFS had negative value (-1), but there must be at least one NUMA node, so returning NUMA node zero. See more at https://github.com/torvalds/linux/blob/v6.0/Documentation/ABI/testing/sysfs-bus-pci#L344-L355\n",
      "2024-11-24 15:11:53.146620: I tensorflow/compiler/xla/stream_executor/cuda/cuda_gpu_executor.cc:995] successful NUMA node read from SysFS had negative value (-1), but there must be at least one NUMA node, so returning NUMA node zero. See more at https://github.com/torvalds/linux/blob/v6.0/Documentation/ABI/testing/sysfs-bus-pci#L344-L355\n",
      "2024-11-24 15:11:53.146701: I tensorflow/compiler/xla/stream_executor/cuda/cuda_gpu_executor.cc:995] successful NUMA node read from SysFS had negative value (-1), but there must be at least one NUMA node, so returning NUMA node zero. See more at https://github.com/torvalds/linux/blob/v6.0/Documentation/ABI/testing/sysfs-bus-pci#L344-L355\n",
      "2024-11-24 15:11:53.146771: I tensorflow/compiler/xla/stream_executor/cuda/cuda_gpu_executor.cc:995] successful NUMA node read from SysFS had negative value (-1), but there must be at least one NUMA node, so returning NUMA node zero. See more at https://github.com/torvalds/linux/blob/v6.0/Documentation/ABI/testing/sysfs-bus-pci#L344-L355\n",
      "2024-11-24 15:11:53.208889: I tensorflow/compiler/xla/stream_executor/cuda/cuda_gpu_executor.cc:995] successful NUMA node read from SysFS had negative value (-1), but there must be at least one NUMA node, so returning NUMA node zero. See more at https://github.com/torvalds/linux/blob/v6.0/Documentation/ABI/testing/sysfs-bus-pci#L344-L355\n",
      "2024-11-24 15:11:53.209000: I tensorflow/compiler/xla/stream_executor/cuda/cuda_gpu_executor.cc:995] successful NUMA node read from SysFS had negative value (-1), but there must be at least one NUMA node, so returning NUMA node zero. See more at https://github.com/torvalds/linux/blob/v6.0/Documentation/ABI/testing/sysfs-bus-pci#L344-L355\n",
      "2024-11-24 15:11:53.209079: I tensorflow/compiler/xla/stream_executor/cuda/cuda_gpu_executor.cc:995] successful NUMA node read from SysFS had negative value (-1), but there must be at least one NUMA node, so returning NUMA node zero. See more at https://github.com/torvalds/linux/blob/v6.0/Documentation/ABI/testing/sysfs-bus-pci#L344-L355\n",
      "2024-11-24 15:11:53.209145: I tensorflow/core/common_runtime/gpu/gpu_device.cc:1639] Created device /job:localhost/replica:0/task:0/device:GPU:0 with 22207 MB memory:  -> device: 0, name: NVIDIA GeForce RTX 4090, pci bus id: 0000:01:00.0, compute capability: 8.9\n"
     ]
    }
   ],
   "source": [
    "# 데이터셋 로드\n",
    "from tensorflow.keras.utils import image_dataset_from_directory\n",
    "\n",
    "# 실제 데이터의 경로로 변경 필요\n",
    "base_dir = \"/tf/Fixed_Data/Data_Final/Step2-2\"\n",
    "\n",
    "train_dataset = image_dataset_from_directory(\n",
    "    os.path.join(base_dir, 'train'),\n",
    "    image_size=image_size,\n",
    "    batch_size=batch_size)\n",
    "\n",
    "validation_dataset = image_dataset_from_directory(\n",
    "    os.path.join(base_dir, 'validation'),\n",
    "    image_size=image_size,\n",
    "    batch_size=batch_size)\n",
    "\n",
    "test_dataset = image_dataset_from_directory(\n",
    "    os.path.join(base_dir, 'test'),\n",
    "    image_size=image_size,\n",
    "    batch_size=batch_size)"
   ]
  },
  {
   "cell_type": "code",
   "execution_count": 4,
   "id": "13d6a102",
   "metadata": {},
   "outputs": [],
   "source": [
    "from tensorflow.keras.applications import VGG16\n",
    "\n",
    "\n",
    "base_model = VGG16(weights='imagenet', include_top=False, input_shape=(224, 224, 3))\n",
    "\n",
    "x = base_model.output\n",
    "x = layers.Flatten()(x)\n",
    "x = layers.Dense(512, activation = \"relu\")(x)\n",
    "x = layers.Dropout(0.4)(x)\n",
    "x = layers.Dense(256, activation = \"relu\")(x) \n",
    "outputs = layers.Dense(18, activation=\"softmax\")(x)\n",
    "\n",
    "model = keras.Model(inputs=base_model.input, outputs=outputs)\n",
    "\n",
    "for layer in base_model.layers:\n",
    "    layer.trainable = False"
   ]
  },
  {
   "cell_type": "code",
   "execution_count": 5,
   "id": "e9b56638",
   "metadata": {},
   "outputs": [
    {
     "name": "stdout",
     "output_type": "stream",
     "text": [
      "Model: \"model\"\n",
      "_________________________________________________________________\n",
      " Layer (type)                Output Shape              Param #   \n",
      "=================================================================\n",
      " input_1 (InputLayer)        [(None, 224, 224, 3)]     0         \n",
      "                                                                 \n",
      " block1_conv1 (Conv2D)       (None, 224, 224, 64)      1792      \n",
      "                                                                 \n",
      " block1_conv2 (Conv2D)       (None, 224, 224, 64)      36928     \n",
      "                                                                 \n",
      " block1_pool (MaxPooling2D)  (None, 112, 112, 64)      0         \n",
      "                                                                 \n",
      " block2_conv1 (Conv2D)       (None, 112, 112, 128)     73856     \n",
      "                                                                 \n",
      " block2_conv2 (Conv2D)       (None, 112, 112, 128)     147584    \n",
      "                                                                 \n",
      " block2_pool (MaxPooling2D)  (None, 56, 56, 128)       0         \n",
      "                                                                 \n",
      " block3_conv1 (Conv2D)       (None, 56, 56, 256)       295168    \n",
      "                                                                 \n",
      " block3_conv2 (Conv2D)       (None, 56, 56, 256)       590080    \n",
      "                                                                 \n",
      " block3_conv3 (Conv2D)       (None, 56, 56, 256)       590080    \n",
      "                                                                 \n",
      " block3_pool (MaxPooling2D)  (None, 28, 28, 256)       0         \n",
      "                                                                 \n",
      " block4_conv1 (Conv2D)       (None, 28, 28, 512)       1180160   \n",
      "                                                                 \n",
      " block4_conv2 (Conv2D)       (None, 28, 28, 512)       2359808   \n",
      "                                                                 \n",
      " block4_conv3 (Conv2D)       (None, 28, 28, 512)       2359808   \n",
      "                                                                 \n",
      " block4_pool (MaxPooling2D)  (None, 14, 14, 512)       0         \n",
      "                                                                 \n",
      " block5_conv1 (Conv2D)       (None, 14, 14, 512)       2359808   \n",
      "                                                                 \n",
      " block5_conv2 (Conv2D)       (None, 14, 14, 512)       2359808   \n",
      "                                                                 \n",
      " block5_conv3 (Conv2D)       (None, 14, 14, 512)       2359808   \n",
      "                                                                 \n",
      " block5_pool (MaxPooling2D)  (None, 7, 7, 512)         0         \n",
      "                                                                 \n",
      " flatten (Flatten)           (None, 25088)             0         \n",
      "                                                                 \n",
      " dense (Dense)               (None, 512)               12845568  \n",
      "                                                                 \n",
      " dropout (Dropout)           (None, 512)               0         \n",
      "                                                                 \n",
      " dense_1 (Dense)             (None, 256)               131328    \n",
      "                                                                 \n",
      " dense_2 (Dense)             (None, 18)                4626      \n",
      "                                                                 \n",
      "=================================================================\n",
      "Total params: 27696210 (105.65 MB)\n",
      "Trainable params: 12981522 (49.52 MB)\n",
      "Non-trainable params: 14714688 (56.13 MB)\n",
      "_________________________________________________________________\n"
     ]
    }
   ],
   "source": [
    "model.summary()"
   ]
  },
  {
   "cell_type": "code",
   "execution_count": 6,
   "id": "d1cf17fb",
   "metadata": {},
   "outputs": [],
   "source": [
    "optimizer = optimizers.RMSprop(learning_rate=1e-4)\n",
    "\n",
    "model.compile(optimizer=optimizer,\n",
    "              loss=\"sparse_categorical_crossentropy\",\n",
    "              metrics=['accuracy'])"
   ]
  },
  {
   "cell_type": "code",
   "execution_count": 7,
   "id": "00ae7bb3-7c4e-4155-a026-161e5da529d2",
   "metadata": {},
   "outputs": [],
   "source": [
    "from tensorflow.keras.callbacks import EarlyStopping\n",
    "\n",
    "# EarlyStopping 콜백 설정\n",
    "early_stopping = EarlyStopping(\n",
    "    monitor='val_loss',       # 검증 손실을 기준으로 학습 중단\n",
    "    patience=5,               # 성능이 개선되지 않는 에포크 수 (5회 연속 개선 없을 시 중단)\n",
    "    restore_best_weights=True # 최적의 가중치 복원\n",
    ")"
   ]
  },
  {
   "cell_type": "code",
   "execution_count": 8,
   "id": "3c2bd66f-6e65-45da-a40d-f2f326a557a8",
   "metadata": {},
   "outputs": [
    {
     "name": "stdout",
     "output_type": "stream",
     "text": [
      "Epoch 1/100\n"
     ]
    },
    {
     "name": "stderr",
     "output_type": "stream",
     "text": [
      "2024-11-24 15:11:54.930577: I tensorflow/compiler/xla/stream_executor/cuda/cuda_dnn.cc:432] Loaded cuDNN version 8600\n",
      "2024-11-24 15:11:55.277347: I tensorflow/compiler/xla/stream_executor/cuda/cuda_blas.cc:606] TensorFloat-32 will be used for the matrix multiplication. This will only be logged once.\n",
      "2024-11-24 15:11:55.295187: I tensorflow/compiler/xla/service/service.cc:168] XLA service 0x7f77366f7370 initialized for platform CUDA (this does not guarantee that XLA will be used). Devices:\n",
      "2024-11-24 15:11:55.295208: I tensorflow/compiler/xla/service/service.cc:176]   StreamExecutor device (0): NVIDIA GeForce RTX 4090, Compute Capability 8.9\n",
      "2024-11-24 15:11:55.298406: I tensorflow/compiler/mlir/tensorflow/utils/dump_mlir_util.cc:255] disabling MLIR crash reproducer, set env var `MLIR_CRASH_REPRODUCER_DIRECTORY` to enable.\n",
      "2024-11-24 15:11:55.369820: I ./tensorflow/compiler/jit/device_compiler.h:186] Compiled cluster using XLA!  This line is logged at most once for the lifetime of the process.\n"
     ]
    },
    {
     "name": "stdout",
     "output_type": "stream",
     "text": [
      "355/355 [==============================] - 19s 48ms/step - loss: 3.2394 - accuracy: 0.5559 - val_loss: 0.8767 - val_accuracy: 0.7861\n",
      "Epoch 2/100\n",
      "355/355 [==============================] - 17s 46ms/step - loss: 0.9311 - accuracy: 0.7984 - val_loss: 0.7031 - val_accuracy: 0.8438\n",
      "Epoch 3/100\n",
      "355/355 [==============================] - 16s 46ms/step - loss: 0.6038 - accuracy: 0.8688 - val_loss: 0.6798 - val_accuracy: 0.8710\n",
      "Epoch 4/100\n",
      "355/355 [==============================] - 16s 45ms/step - loss: 0.4507 - accuracy: 0.9041 - val_loss: 0.6646 - val_accuracy: 0.8843\n",
      "Epoch 5/100\n",
      "355/355 [==============================] - 16s 45ms/step - loss: 0.3394 - accuracy: 0.9269 - val_loss: 0.6324 - val_accuracy: 0.9000\n",
      "Epoch 6/100\n",
      "355/355 [==============================] - 16s 45ms/step - loss: 0.2848 - accuracy: 0.9403 - val_loss: 0.7143 - val_accuracy: 0.8994\n",
      "Epoch 7/100\n",
      "355/355 [==============================] - 16s 45ms/step - loss: 0.2398 - accuracy: 0.9534 - val_loss: 0.6838 - val_accuracy: 0.9025\n",
      "Epoch 8/100\n",
      "355/355 [==============================] - 16s 44ms/step - loss: 0.2173 - accuracy: 0.9593 - val_loss: 0.7110 - val_accuracy: 0.9059\n",
      "Epoch 9/100\n",
      "355/355 [==============================] - 16s 45ms/step - loss: 0.1702 - accuracy: 0.9653 - val_loss: 0.7374 - val_accuracy: 0.9108\n",
      "Epoch 10/100\n",
      "355/355 [==============================] - 16s 45ms/step - loss: 0.1751 - accuracy: 0.9679 - val_loss: 0.6957 - val_accuracy: 0.9170\n"
     ]
    }
   ],
   "source": [
    "history = model.fit(\n",
    "    train_dataset,\n",
    "    validation_data=validation_dataset,\n",
    "    epochs=100,\n",
    "    callbacks=[early_stopping],\n",
    "    batch_size=batch_size)"
   ]
  },
  {
   "cell_type": "code",
   "execution_count": 9,
   "id": "c643a327-f105-4bbb-83df-7d53f7b72a3c",
   "metadata": {},
   "outputs": [],
   "source": [
    "for layer in base_model.layers[:15]:\n",
    "    layer.trainable = False\n",
    "\n",
    "for layer in base_model.layers[15:]:\n",
    "    layer.trainable = True\n",
    "    \n",
    "optimizer = optimizers.RMSprop(learning_rate=1e-5)\n",
    "\n",
    "model.compile(optimizer=optimizer,\n",
    "              loss=\"sparse_categorical_crossentropy\",\n",
    "              metrics=['accuracy'])"
   ]
  },
  {
   "cell_type": "code",
   "execution_count": 10,
   "id": "5a695bf4",
   "metadata": {
    "scrolled": true
   },
   "outputs": [
    {
     "name": "stdout",
     "output_type": "stream",
     "text": [
      "Epoch 1/100\n",
      "355/355 [==============================] - 17s 44ms/step - loss: 0.1734 - accuracy: 0.9587 - val_loss: 0.5037 - val_accuracy: 0.9080\n",
      "Epoch 2/100\n",
      "355/355 [==============================] - 16s 44ms/step - loss: 0.1072 - accuracy: 0.9713 - val_loss: 0.4732 - val_accuracy: 0.9093\n",
      "Epoch 3/100\n",
      "355/355 [==============================] - 16s 43ms/step - loss: 0.0736 - accuracy: 0.9789 - val_loss: 0.4918 - val_accuracy: 0.9198\n",
      "Epoch 4/100\n",
      "355/355 [==============================] - 16s 43ms/step - loss: 0.0732 - accuracy: 0.9810 - val_loss: 0.4137 - val_accuracy: 0.9244\n",
      "Epoch 5/100\n",
      "355/355 [==============================] - 16s 44ms/step - loss: 0.0510 - accuracy: 0.9847 - val_loss: 0.4640 - val_accuracy: 0.9247\n",
      "Epoch 6/100\n",
      "355/355 [==============================] - 16s 44ms/step - loss: 0.0402 - accuracy: 0.9869 - val_loss: 0.4864 - val_accuracy: 0.9225\n",
      "Epoch 7/100\n",
      "355/355 [==============================] - 16s 43ms/step - loss: 0.0491 - accuracy: 0.9874 - val_loss: 0.4263 - val_accuracy: 0.9269\n",
      "Epoch 8/100\n",
      "355/355 [==============================] - 16s 44ms/step - loss: 0.0359 - accuracy: 0.9889 - val_loss: 0.4630 - val_accuracy: 0.9241\n",
      "Epoch 9/100\n",
      "355/355 [==============================] - 16s 43ms/step - loss: 0.0315 - accuracy: 0.9904 - val_loss: 0.4396 - val_accuracy: 0.9272\n"
     ]
    }
   ],
   "source": [
    "history1 = model.fit(\n",
    "    train_dataset,\n",
    "    validation_data=validation_dataset,\n",
    "    epochs=100,\n",
    "    callbacks=[early_stopping],\n",
    "    batch_size=batch_size)"
   ]
  },
  {
   "cell_type": "code",
   "execution_count": 11,
   "id": "5140a285",
   "metadata": {},
   "outputs": [
    {
     "data": {
      "image/png": "[encoded data removed]",
      "text/plain": [
       "<Figure size 1500x500 with 2 Axes>"
      ]
     },
     "metadata": {},
     "output_type": "display_data"
    }
   ],
   "source": [
    "# 훈련 정확도와 손실 그래프 생성\n",
    "import matplotlib.pyplot as plt \n",
    "\n",
    "acc = history.history['accuracy'][:-5] + history1.history['accuracy'][:-5]          # history.history['accuracy']\n",
    "val_acc = history.history['val_accuracy'][:-5] + history1.history['val_accuracy'][:-5]   # history.history['val_accuracy']\n",
    "loss = history.history['loss'][:-5] + history1.history['loss'][:-5]                # history.history['loss']\n",
    "val_loss = history.history['val_loss'][:-5] + history1.history['val_loss'][:-5]     # history.history['val_loss']\n",
    "epochs_range = range(1, len(acc) + 1)\n",
    "\n",
    "plt.figure(figsize=(15, 5))\n",
    "plt.subplot(1, 2, 1)\n",
    "plt.plot(epochs_range, acc, label='Training Accuracy')\n",
    "plt.plot(epochs_range, val_acc, label='Validation Accuracy')\n",
    "plt.title('Training and Validation Accuracy')\n",
    "plt.legend()\n",
    "\n",
    "plt.subplot(1, 2, 2)\n",
    "plt.plot(epochs_range, loss, label='Training Loss')\n",
    "plt.plot(epochs_range, val_loss, label='Validation Loss')\n",
    "plt.title('Training and Validation Loss')\n",
    "plt.legend()\n",
    "\n",
    "plt.show()"
   ]
  },
  {
   "cell_type": "code",
   "execution_count": 12,
   "id": "526035cb",
   "metadata": {},
   "outputs": [
    {
     "name": "stdout",
     "output_type": "stream",
     "text": [
      "51/51 [==============================] - 2s 35ms/step - loss: 0.4377 - accuracy: 0.9247\n",
      "test accuracy: 0.924691379070282\n",
      "test loss: 0.4376610219478607\n"
     ]
    }
   ],
   "source": [
    "test_loss, test_acc = model.evaluate(test_dataset)\n",
    "\n",
    "print(f\"test accuracy: {test_acc}\")\n",
    "print(f\"test loss: {test_loss}\")"
   ]
  }
 ],
 "metadata": {
  "kernelspec": {
   "display_name": "Python 3 (ipykernel)",
   "language": "python",
   "name": "python3"
  },
  "language_info": {
   "codemirror_mode": {
    "name": "ipython",
    "version": 3
   },
   "file_extension": ".py",
   "mimetype": "text/x-python",
   "name": "python",
   "nbconvert_exporter": "python",
   "pygments_lexer": "ipython3",
   "version": "3.8.10"
  }
 },
 "nbformat": 4,
 "nbformat_minor": 5
}
